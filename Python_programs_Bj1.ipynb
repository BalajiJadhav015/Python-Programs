{
  "nbformat": 4,
  "nbformat_minor": 0,
  "metadata": {
    "colab": {
      "name": "Python programs_Bj1.ipynb",
      "provenance": [],
      "collapsed_sections": [],
      "authorship_tag": "ABX9TyO3v9uTwvPgddO5A/cmeiI8",
      "include_colab_link": true
    },
    "kernelspec": {
      "name": "python3",
      "display_name": "Python 3"
    },
    "language_info": {
      "name": "python"
    }
  },
  "cells": [
    {
      "cell_type": "markdown",
      "metadata": {
        "id": "view-in-github",
        "colab_type": "text"
      },
      "source": [
        "<a href=\"https://colab.research.google.com/github/BalajiJadhav015/Python-Programs/blob/main/Python_programs_Bj1.ipynb\" target=\"_parent\"><img src=\"https://colab.research.google.com/assets/colab-badge.svg\" alt=\"Open In Colab\"/></a>"
      ]
    },
    {
      "cell_type": "markdown",
      "source": [
        "#1) List and Tuple (Null 1 Q1 to Q26) \n",
        "#2) Python programs using Functions (Null 2 Q27 to Q48)\n",
        "#3) String programs (Null 3 Q49 to Q84)\n",
        "#4) Variable, srting, int, float. (Null 4 Q85 to Q116)\n",
        "#5) Python program using loop, dict, functions (Null 6 Q117 to Q136)\n",
        "#6) Pattern program using Python (Null 5 Q137 to Q159)"
      ],
      "metadata": {
        "id": "_YQE9HkD8FHz"
      }
    },
    {
      "cell_type": "markdown",
      "source": [
        "## 1) List and Tuple (Null 1)"
      ],
      "metadata": {
        "id": "6eQ7rZ8q_wRO"
      }
    },
    {
      "cell_type": "markdown",
      "source": [
        "### Q1. Python Program to find the largest element in the list\n"
      ],
      "metadata": {
        "id": "DLYOUGFC8weO"
      }
    },
    {
      "cell_type": "code",
      "source": [
        "a = [4,5,8,9,1,2]\n",
        "print(max(a))"
      ],
      "metadata": {
        "colab": {
          "base_uri": "https://localhost:8080/"
        },
        "id": "l4JFCS0L87M5",
        "outputId": "d3bf4a66-5594-4387-c15e-4e2bc99a79e8"
      },
      "execution_count": null,
      "outputs": [
        {
          "output_type": "stream",
          "name": "stdout",
          "text": [
            "9\n"
          ]
        }
      ]
    },
    {
      "cell_type": "markdown",
      "source": [
        "### Q2. Python program to interchange first and last elements in a list."
      ],
      "metadata": {
        "id": "yKTVkmbK9IFK"
      }
    },
    {
      "cell_type": "code",
      "source": [
        "# without using swap function\n",
        "a = [4,5,8,9,1,2]\n",
        "a[0],a[-1] = a[-1],a[0]\n",
        "print(a)"
      ],
      "metadata": {
        "colab": {
          "base_uri": "https://localhost:8080/"
        },
        "id": "X_PwWA1J9SYj",
        "outputId": "2f76e254-5be5-4916-e7cc-ed0c0bfde9fa"
      },
      "execution_count": null,
      "outputs": [
        {
          "output_type": "stream",
          "name": "stdout",
          "text": [
            "[2, 5, 8, 9, 1, 4]\n"
          ]
        }
      ]
    },
    {
      "cell_type": "markdown",
      "source": [
        "### Q3. Python program to swap two elements in a list."
      ],
      "metadata": {
        "id": "1Ag4pa9q-poC"
      }
    },
    {
      "cell_type": "code",
      "source": [
        "def swaplist(newlist):\n",
        "  size = len(newlist)\n",
        "\n",
        "  temp = newlist[0]\n",
        "  newlist[0] = newlist[size-1]\n",
        "  newlist[size-1] = temp\n",
        "\n",
        "  return newlist\n",
        "a = [4,5,8,9,1,2]\n",
        "print(swaplist(a))"
      ],
      "metadata": {
        "colab": {
          "base_uri": "https://localhost:8080/"
        },
        "id": "E18KazOw9fZT",
        "outputId": "00645b35-8e77-429d-a1cf-5123930400c6"
      },
      "execution_count": null,
      "outputs": [
        {
          "output_type": "stream",
          "name": "stdout",
          "text": [
            "[2, 5, 8, 9, 1, 4]\n"
          ]
        }
      ]
    },
    {
      "cell_type": "markdown",
      "source": [
        "### Q4. Python program to Reverse a List."
      ],
      "metadata": {
        "id": "6vZZ-jDI_69S"
      }
    },
    {
      "cell_type": "code",
      "source": [
        "# using slicing method \n",
        "a = [4,5,8,9,1,2]\n",
        "b = a[::-1]\n",
        "print(a)\n",
        "print(b)"
      ],
      "metadata": {
        "colab": {
          "base_uri": "https://localhost:8080/"
        },
        "id": "ZvP0P9oj_zG7",
        "outputId": "c29e7b2d-e955-4033-ce0b-c5a26e590012"
      },
      "execution_count": null,
      "outputs": [
        {
          "output_type": "stream",
          "name": "stdout",
          "text": [
            "[4, 5, 8, 9, 1, 2]\n",
            "[2, 1, 9, 8, 5, 4]\n"
          ]
        }
      ]
    },
    {
      "cell_type": "code",
      "source": [
        "def reverse(lst):\n",
        "  return [ ele for ele in reversed(lst)]\n",
        "\n",
        "a = [4,5,8,9,1,2]\n",
        "print(reverse(a))"
      ],
      "metadata": {
        "colab": {
          "base_uri": "https://localhost:8080/"
        },
        "id": "oKTT5291AHgf",
        "outputId": "bf210ea7-e68a-4fd9-f483-922d7640f974"
      },
      "execution_count": null,
      "outputs": [
        {
          "output_type": "stream",
          "name": "stdout",
          "text": [
            "[2, 1, 9, 8, 5, 4]\n"
          ]
        }
      ]
    },
    {
      "cell_type": "code",
      "source": [
        "def Reverse(lst):\n",
        "  lst.reverse()\n",
        "  return lst\n",
        "\n",
        "a = [4,5,8,9,1,2]\n",
        "print(Reverse(a))"
      ],
      "metadata": {
        "colab": {
          "base_uri": "https://localhost:8080/"
        },
        "id": "VZbRgy_uBRUM",
        "outputId": "cd5b7f47-7b9b-4d1a-8db7-5bdd1ef858ca"
      },
      "execution_count": null,
      "outputs": [
        {
          "output_type": "stream",
          "name": "stdout",
          "text": [
            "[2, 1, 9, 8, 5, 4]\n"
          ]
        }
      ]
    },
    {
      "cell_type": "markdown",
      "source": [
        "### Q5. Python program to count occurrences of an element in a list.\n"
      ],
      "metadata": {
        "id": "_vefuzvqB8RL"
      }
    },
    {
      "cell_type": "code",
      "source": [
        "# Directly using count function \n",
        "a = [2,4,5,6,6,3,9,9,9,8]\n",
        "print(a.count(6))\n",
        "print(a.count(9))"
      ],
      "metadata": {
        "colab": {
          "base_uri": "https://localhost:8080/"
        },
        "id": "OrcUB_3AB0Cx",
        "outputId": "4d570997-c221-47b7-914e-7d75cf60d0fe"
      },
      "execution_count": null,
      "outputs": [
        {
          "output_type": "stream",
          "name": "stdout",
          "text": [
            "2\n",
            "3\n"
          ]
        }
      ]
    },
    {
      "cell_type": "code",
      "source": [
        "# Define finction and then use count \n",
        "def countX(lst,x):\n",
        "  count = 0\n",
        "  for ele in lst:\n",
        "    if (ele == x):\n",
        "      count = count + 1\n",
        "  return count\n",
        "\n",
        "a = [2,4,5,6,6,3,9,9,9,8] \n",
        "x = 9\n",
        "print('{} has occured {} times'.format(x, countX(a,x)))"
      ],
      "metadata": {
        "colab": {
          "base_uri": "https://localhost:8080/"
        },
        "id": "WfIn_g0xCTKC",
        "outputId": "0f9c3959-f461-43fd-e894-777875f37262"
      },
      "execution_count": null,
      "outputs": [
        {
          "output_type": "stream",
          "name": "stdout",
          "text": [
            "9 has occured 3 times\n"
          ]
        }
      ]
    },
    {
      "cell_type": "code",
      "source": [
        "# Python code to count the number of occurrences\n",
        "def countX(lst, x):\n",
        "    return lst.count(x)\n",
        " \n",
        "# Driver Code\n",
        "lst = [8, 6, 8, 10, 8, 20, 10, 8, 8]\n",
        "x = 8\n",
        "print('{} has occurred {} times'.format(x, countX(lst, x)))"
      ],
      "metadata": {
        "colab": {
          "base_uri": "https://localhost:8080/"
        },
        "id": "fPU8XZImEBli",
        "outputId": "d2e2d2bf-18cc-4498-ed33-3d33ee4495c2"
      },
      "execution_count": null,
      "outputs": [
        {
          "output_type": "stream",
          "name": "stdout",
          "text": [
            "8 has occurred 5 times\n"
          ]
        }
      ]
    },
    {
      "cell_type": "code",
      "source": [
        "from collections import Counter\n",
        "\n",
        "# declaring the list\n",
        "l = [1, 1, 2, 2, 3, 3, 4, 4, 5, 5]\n",
        "\n",
        "# driver program\n",
        "x = 3\n",
        "d = Counter(l)\n",
        "print('{} has occurred {} times'.format(x, d[x]))"
      ],
      "metadata": {
        "colab": {
          "base_uri": "https://localhost:8080/"
        },
        "id": "AZDZg2uX_3YB",
        "outputId": "6bb041a5-95a5-48ff-d48b-7126040d77c8"
      },
      "execution_count": null,
      "outputs": [
        {
          "output_type": "stream",
          "name": "stdout",
          "text": [
            "3 has occurred 2 times\n"
          ]
        }
      ]
    },
    {
      "cell_type": "markdown",
      "source": [
        "### Q6. Python program to find the sum of elements in a list."
      ],
      "metadata": {
        "id": "agIm-FUEDpQk"
      }
    },
    {
      "cell_type": "code",
      "source": [
        "a = [2,4,5,6,6,3,9,9,9,8] \n",
        "print(sum(a))"
      ],
      "metadata": {
        "colab": {
          "base_uri": "https://localhost:8080/"
        },
        "id": "JM9rKPUvEg5L",
        "outputId": "c2e5e188-44e5-4f15-971e-0744294fb098"
      },
      "execution_count": null,
      "outputs": [
        {
          "output_type": "stream",
          "name": "stdout",
          "text": [
            "61\n"
          ]
        }
      ]
    },
    {
      "cell_type": "code",
      "source": [
        "total = 0\n",
        "a = [2,4,5,6,6,3,9,9,9,8]\n",
        "\n",
        "for ele in range(0, len(a)):\n",
        "  total = total + a[ele]\n",
        "\n",
        "print('sum of all elements given in list: ',total)"
      ],
      "metadata": {
        "colab": {
          "base_uri": "https://localhost:8080/"
        },
        "id": "Y0RzgC3JEBtn",
        "outputId": "1e6c88be-c710-4c9b-b287-b93091079f5d"
      },
      "execution_count": null,
      "outputs": [
        {
          "output_type": "stream",
          "name": "stdout",
          "text": [
            "sum of all elements given in list:  61\n"
          ]
        }
      ]
    },
    {
      "cell_type": "code",
      "source": [
        "# Python program to find sum of elements in list\n",
        "total = 0\n",
        "ele = 0\n",
        "\n",
        "# creating a list\n",
        "list1 = [11, 5, 17, 18, 23]\n",
        "\n",
        "# Iterate each element in list\n",
        "# and add them in variable total\n",
        "while(ele < len(list1)):\n",
        "\ttotal = total + list1[ele]\n",
        "\tele += 1\n",
        "\t\n",
        "# printing total value\n",
        "print(\"Sum of all elements in given list: \", total)\n"
      ],
      "metadata": {
        "colab": {
          "base_uri": "https://localhost:8080/"
        },
        "id": "VWoFVlRvFJI8",
        "outputId": "8d1d6799-7a99-4c13-e2d7-cfd63d30bb6b"
      },
      "execution_count": null,
      "outputs": [
        {
          "output_type": "stream",
          "name": "stdout",
          "text": [
            "Sum of all elements in given list:  74\n"
          ]
        }
      ]
    },
    {
      "cell_type": "code",
      "source": [
        "# Python program to find sum of all\n",
        "# elements in list using recursion\n",
        "\n",
        "# creating a list\n",
        "list1 = [11, 5, 17, 18, 23]\n",
        "\n",
        "# creating sum_list function\n",
        "def sumOfList(list, size):\n",
        " if (size == 0):\n",
        "\t return 0\n",
        " else:\n",
        "\t return list[size - 1] + sumOfList(list, size - 1)\n",
        "\n",
        "# Driver code\t\n",
        "total = sumOfList(list1, len(list1))\n",
        "\n",
        "print(\"Sum of all elements in given list: \", total)\n"
      ],
      "metadata": {
        "colab": {
          "base_uri": "https://localhost:8080/"
        },
        "id": "-zzk31diFcEM",
        "outputId": "792ccc37-84f0-465c-92c0-f762b45cb7f1"
      },
      "execution_count": null,
      "outputs": [
        {
          "output_type": "stream",
          "name": "stdout",
          "text": [
            "Sum of all elements in given list:  74\n"
          ]
        }
      ]
    },
    {
      "cell_type": "markdown",
      "source": [
        "### Q7. Python program to Multiply all numbers in the list."
      ],
      "metadata": {
        "id": "4kS4mTjQFzhT"
      }
    },
    {
      "cell_type": "code",
      "source": [
        "def multiplylist(mylist):\n",
        "  result = 1\n",
        "  for x in mylist:\n",
        "    result = result*x\n",
        "  return result\n",
        "\n",
        "a = [2,4,5,6,6,3,9,9,9,8]\n",
        "print(multiplylist(a))"
      ],
      "metadata": {
        "colab": {
          "base_uri": "https://localhost:8080/"
        },
        "id": "kYSBlqhJHbOE",
        "outputId": "d4ffddcc-0a9a-43e6-af22-d751f2f57196"
      },
      "execution_count": null,
      "outputs": [
        {
          "output_type": "stream",
          "name": "stdout",
          "text": [
            "25194240\n"
          ]
        }
      ]
    },
    {
      "cell_type": "code",
      "source": [
        "import numpy\n",
        "a = [2,4,5,6,6,3,9,9,9,8]\n",
        "result = numpy.prod(a)\n",
        "print(result)"
      ],
      "metadata": {
        "colab": {
          "base_uri": "https://localhost:8080/"
        },
        "id": "SlRfSqizH_G8",
        "outputId": "5737a082-b1e5-437f-dd78-a3bb3f08ece6"
      },
      "execution_count": null,
      "outputs": [
        {
          "output_type": "stream",
          "name": "stdout",
          "text": [
            "25194240\n"
          ]
        }
      ]
    },
    {
      "cell_type": "code",
      "source": [
        "from functools import reduce \n",
        "a = [2,4,5,6,6,3,9,9,9,8]\n",
        "result = reduce((lambda x,y: x*y),a)\n",
        "print(result)"
      ],
      "metadata": {
        "colab": {
          "base_uri": "https://localhost:8080/"
        },
        "id": "xITIv4WMIXiF",
        "outputId": "c947eacc-0fe6-4ffc-8f62-ce4670614b16"
      },
      "execution_count": null,
      "outputs": [
        {
          "output_type": "stream",
          "name": "stdout",
          "text": [
            "25194240\n"
          ]
        }
      ]
    },
    {
      "cell_type": "markdown",
      "source": [
        "### Q8. Python program to find the smallest and largest number in a list (Without min-max function)\n"
      ],
      "metadata": {
        "id": "6KxceYzKJO9T"
      }
    },
    {
      "cell_type": "code",
      "source": [
        "a = [2,4,5,6,6,3,9,9,9,8]\n",
        "a.sort()\n",
        "print(a)"
      ],
      "metadata": {
        "colab": {
          "base_uri": "https://localhost:8080/"
        },
        "id": "tBOMJz3AI27d",
        "outputId": "06a3a74c-2fce-4f53-895e-e6c5350eadee"
      },
      "execution_count": null,
      "outputs": [
        {
          "output_type": "stream",
          "name": "stdout",
          "text": [
            "[2, 3, 4, 5, 6, 6, 8, 9, 9, 9]\n"
          ]
        }
      ]
    },
    {
      "cell_type": "code",
      "source": [
        "max = a[-1]\n",
        "min = a[0]\n",
        "print(max)\n",
        "print(min)"
      ],
      "metadata": {
        "colab": {
          "base_uri": "https://localhost:8080/"
        },
        "id": "7kfcN1o9JbDN",
        "outputId": "586c6a1c-0436-443b-95e7-30cb806fb948"
      },
      "execution_count": null,
      "outputs": [
        {
          "output_type": "stream",
          "name": "stdout",
          "text": [
            "9\n",
            "2\n"
          ]
        }
      ]
    },
    {
      "cell_type": "markdown",
      "source": [
        "### Q9. Python Program to find the area of a circle."
      ],
      "metadata": {
        "id": "JKVGZBjkKc7K"
      }
    },
    {
      "cell_type": "code",
      "source": [
        "def areaofcircle(a):\n",
        "  area = 3.142 * a**2\n",
        "  return area\n",
        "\n",
        "a=5\n",
        "print(areaofcircle(a))"
      ],
      "metadata": {
        "colab": {
          "base_uri": "https://localhost:8080/"
        },
        "id": "1YfJ7iLxJpMq",
        "outputId": "a5d95f4e-87e8-4086-8382-ecc5eff18099"
      },
      "execution_count": null,
      "outputs": [
        {
          "output_type": "stream",
          "name": "stdout",
          "text": [
            "78.55\n"
          ]
        }
      ]
    },
    {
      "cell_type": "markdown",
      "source": [
        "### Q10. Take inputs from the user to make a list. Again take one input from the user and search it in the list and delete that element, if found. Iterate over a list using for loop.\n"
      ],
      "metadata": {
        "id": "koKBTJJAL-OD"
      }
    },
    {
      "cell_type": "code",
      "source": [
        "numbers = []\n",
        "x = int(input(\"Enter number of elements in list \")) # how many numbers you want in list\n",
        "for i in range(x):\n",
        "  numbers.append(int(input()))\n",
        "findNum = int(input(\"The number to be deleated is \"))\n",
        "\n",
        "i=0\n",
        "for element in numbers:\n",
        "  if (element == findNum):\n",
        "    numbers.pop(i)\n",
        "    x= x-1\n",
        "    i= i-1\n",
        "  i= i+1\n",
        "\n",
        "print(numbers)"
      ],
      "metadata": {
        "colab": {
          "base_uri": "https://localhost:8080/"
        },
        "id": "AVDmwXrZK3-k",
        "outputId": "d914a53f-400a-43b3-a0fb-62041ec875b4"
      },
      "execution_count": null,
      "outputs": [
        {
          "output_type": "stream",
          "name": "stdout",
          "text": [
            "Enter number of elements in list 5\n",
            "2\n",
            "5\n",
            "6\n",
            "8\n",
            "9\n",
            "The number to be deleated is 8\n",
            "[2, 5, 6, 9]\n"
          ]
        }
      ]
    },
    {
      "cell_type": "markdown",
      "source": [
        "### Q11. You are given a list of integer elements. Make a new list that will store a square of elements of the previous list. (With and without list comprehension)"
      ],
      "metadata": {
        "id": "eNc9sU31Uvpp"
      }
    },
    {
      "cell_type": "code",
      "source": [
        "a = [2,4,5,6,6,3,9,9,9,8]\n",
        "result = [ i**2 for i in a]\n",
        "print(result)"
      ],
      "metadata": {
        "colab": {
          "base_uri": "https://localhost:8080/"
        },
        "id": "Tz-ivKA2U0Mg",
        "outputId": "d3889d2b-b7cb-424b-f137-c4b04ce20667"
      },
      "execution_count": null,
      "outputs": [
        {
          "output_type": "stream",
          "name": "stdout",
          "text": [
            "[4, 16, 25, 36, 36, 9, 81, 81, 81, 64]\n"
          ]
        }
      ]
    },
    {
      "cell_type": "code",
      "source": [
        "a = [2,4,5,6,6,3,9,9,9,8]\n",
        "b = []\n",
        "for i in a:\n",
        "  b.append(i**2)\n",
        "\n",
        "print(b)"
      ],
      "metadata": {
        "colab": {
          "base_uri": "https://localhost:8080/"
        },
        "id": "WUcTSw4IU0Ab",
        "outputId": "34a9a1ed-65ad-4e07-a3f4-e639cb5c23ae"
      },
      "execution_count": null,
      "outputs": [
        {
          "output_type": "stream",
          "name": "stdout",
          "text": [
            "[4, 16, 25, 36, 36, 9, 81, 81, 81, 64]\n"
          ]
        }
      ]
    },
    {
      "cell_type": "markdown",
      "source": [
        "### 12. WAP to create two lists, one containing all even numbers and the other containing all odd numbers between 0 to 151\n"
      ],
      "metadata": {
        "id": "7xYJ-f5-f-Tv"
      }
    },
    {
      "cell_type": "code",
      "source": [
        "# n= range (0, 152)\n",
        "a= []\n",
        "b= []\n",
        "for n in range(152):\n",
        "  if n%2 == 0:\n",
        "    a.append(n)\n",
        "  else:\n",
        "    b.append(n)\n",
        "print(a)\n",
        "print(b)"
      ],
      "metadata": {
        "colab": {
          "base_uri": "https://localhost:8080/"
        },
        "id": "5qXmw0iyWOlF",
        "outputId": "42f00282-a440-41e4-f9d3-9227faa5c3ea"
      },
      "execution_count": null,
      "outputs": [
        {
          "output_type": "stream",
          "name": "stdout",
          "text": [
            "[0, 2, 4, 6, 8, 10, 12, 14, 16, 18, 20, 22, 24, 26, 28, 30, 32, 34, 36, 38, 40, 42, 44, 46, 48, 50, 52, 54, 56, 58, 60, 62, 64, 66, 68, 70, 72, 74, 76, 78, 80, 82, 84, 86, 88, 90, 92, 94, 96, 98, 100, 102, 104, 106, 108, 110, 112, 114, 116, 118, 120, 122, 124, 126, 128, 130, 132, 134, 136, 138, 140, 142, 144, 146, 148, 150]\n",
            "[1, 3, 5, 7, 9, 11, 13, 15, 17, 19, 21, 23, 25, 27, 29, 31, 33, 35, 37, 39, 41, 43, 45, 47, 49, 51, 53, 55, 57, 59, 61, 63, 65, 67, 69, 71, 73, 75, 77, 79, 81, 83, 85, 87, 89, 91, 93, 95, 97, 99, 101, 103, 105, 107, 109, 111, 113, 115, 117, 119, 121, 123, 125, 127, 129, 131, 133, 135, 137, 139, 141, 143, 145, 147, 149, 151]\n"
          ]
        }
      ]
    },
    {
      "cell_type": "markdown",
      "source": [
        "### 13.Python program to Count Even and Odd numbers in a List."
      ],
      "metadata": {
        "id": "7E1liLcnhhwt"
      }
    },
    {
      "cell_type": "code",
      "source": [
        "a = [2,4,5,6,6,3,9,9,9,8]\n",
        "# using for loop\n",
        "even_count, odd_count = 0,0\n",
        "for num in a:\n",
        "  if num %2 == 0:\n",
        "    even_count += 1\n",
        "  else:\n",
        "    odd_count +=1\n",
        "print('Even numbers in the list ', even_count)\n",
        "print('Odd numbers in the list ', odd_count)"
      ],
      "metadata": {
        "colab": {
          "base_uri": "https://localhost:8080/"
        },
        "id": "K3EInVL4gJHv",
        "outputId": "c1a5aa8d-15e5-4b76-c2b7-717da925e0b7"
      },
      "execution_count": null,
      "outputs": [
        {
          "output_type": "stream",
          "name": "stdout",
          "text": [
            "Even numbers in the list  5\n",
            "Odd numbers in the list  5\n"
          ]
        }
      ]
    },
    {
      "cell_type": "code",
      "source": [
        "# using while loop\n",
        "a = [2,4,5,6,6,3,9,9,9,8]\n",
        "even_count, odd_count = 0,0\n",
        "num = 0\n",
        "while (num < len(a)):\n",
        "  if a[num] %2 ==0:\n",
        "    even_count += 1\n",
        "  else:\n",
        "    odd_count += 1\n",
        "  num += 1\n",
        "print('Even numbers in the list ', even_count)\n",
        "print('Odd numbers in the list ', odd_count)"
      ],
      "metadata": {
        "colab": {
          "base_uri": "https://localhost:8080/"
        },
        "id": "AuNeoE3bh7PV",
        "outputId": "b5a7639e-3c26-4a5f-8577-ad78d334000d"
      },
      "execution_count": null,
      "outputs": [
        {
          "output_type": "stream",
          "name": "stdout",
          "text": [
            "Even numbers in the list  5\n",
            "Odd numbers in the list  5\n"
          ]
        }
      ]
    },
    {
      "cell_type": "code",
      "source": [
        "# list of numbers\n",
        "list1 = [10, 21, 4, 45, 66, 93, 11]\n",
        "\n",
        "odd_count = len(list(filter(lambda x: (x%2 != 0) , list1)))\n",
        "\n",
        "# we can also do len(list1) - odd_count\n",
        "even_count = len(list(filter(lambda x: (x%2 == 0) , list1)))\n",
        "\n",
        "print(\"Even numbers in the list: \", even_count)\n",
        "print(\"Odd numbers in the list: \", odd_count)"
      ],
      "metadata": {
        "colab": {
          "base_uri": "https://localhost:8080/"
        },
        "id": "X7kp9nn-mtz1",
        "outputId": "2e5d6917-5139-4dac-b01f-b7926207b730"
      },
      "execution_count": null,
      "outputs": [
        {
          "output_type": "stream",
          "name": "stdout",
          "text": [
            "Even numbers in the list:  3\n",
            "Odd numbers in the list:  4\n"
          ]
        }
      ]
    },
    {
      "cell_type": "code",
      "source": [
        "# Python program to print odd Numbers in a List\n",
        "\n",
        "# list of numbers\n",
        "list1 = [10, 21, 4, 45, 66, 93, 11]\n",
        "\n",
        "only_odd = [num for num in list1 if num % 2 == 1]\n",
        "odd_count = len(only_odd)\n",
        "\n",
        "print(\"Even numbers in the list: \", len(list1) - odd_count)\n",
        "print(\"Odd numbers in the list: \", odd_count)"
      ],
      "metadata": {
        "colab": {
          "base_uri": "https://localhost:8080/"
        },
        "id": "J_ly4HPJmzI9",
        "outputId": "c1773eb9-0ea2-4940-ef8a-402abcbcbf5a"
      },
      "execution_count": null,
      "outputs": [
        {
          "output_type": "stream",
          "name": "stdout",
          "text": [
            "Even numbers in the list:  3\n",
            "Odd numbers in the list:  4\n"
          ]
        }
      ]
    },
    {
      "cell_type": "markdown",
      "source": [
        "### 14. WAP to make new lists, containing only numbers which are divisible by 4, 6, 8, 10, 3, 5, 7, and 9 in separate lists for range(0,151)\n"
      ],
      "metadata": {
        "id": "Ri_dsHpsnQAr"
      }
    },
    {
      "cell_type": "code",
      "source": [
        "a =[]\n",
        "b =[]\n",
        "c =[]\n",
        "d =[]\n",
        "e =[]\n",
        "f =[]\n",
        "g =[]\n",
        "h =[]\n",
        "for n in range(152):\n",
        "  if n %4 == 0:\n",
        "    a.append(n)\n",
        "    continue\n",
        "  elif n%6 == 0:\n",
        "    b.append(n)\n",
        "    continue\n",
        "  elif n%8 == 0:\n",
        "    c.append(n)\n",
        "    continue\n",
        "  elif n%10 == 0:\n",
        "    d.append(n)\n",
        "    continue\n",
        "  elif n%3 == 0:\n",
        "    e.append(n)\n",
        "    continue\n",
        "  elif n%5 == 0:\n",
        "    f.append(n)\n",
        "    continue\n",
        "  elif n%7 == 0:\n",
        "    g.append(n)\n",
        "    continue\n",
        "  elif n%9 == 0:\n",
        "    h.append(n)\n",
        "    continue\n",
        "print(a)\n",
        "print(b)\n",
        "print(c)\n",
        "print(d)\n",
        "print(e)\n",
        "print(f)\n",
        "print(g)\n",
        "print(h)"
      ],
      "metadata": {
        "colab": {
          "base_uri": "https://localhost:8080/"
        },
        "id": "a4IGZay-njkq",
        "outputId": "722e5398-67bb-46a0-bce9-d09fd73f72e8"
      },
      "execution_count": null,
      "outputs": [
        {
          "output_type": "stream",
          "name": "stdout",
          "text": [
            "[0, 4, 8, 12, 16, 20, 24, 28, 32, 36, 40, 44, 48, 52, 56, 60, 64, 68, 72, 76, 80, 84, 88, 92, 96, 100, 104, 108, 112, 116, 120, 124, 128, 132, 136, 140, 144, 148]\n",
            "[6, 18, 30, 42, 54, 66, 78, 90, 102, 114, 126, 138, 150]\n",
            "[]\n",
            "[10, 50, 70, 110, 130]\n",
            "[3, 9, 15, 21, 27, 33, 39, 45, 51, 57, 63, 69, 75, 81, 87, 93, 99, 105, 111, 117, 123, 129, 135, 141, 147]\n",
            "[5, 25, 35, 55, 65, 85, 95, 115, 125, 145]\n",
            "[7, 14, 49, 77, 91, 98, 119, 133]\n",
            "[]\n"
          ]
        }
      ]
    },
    {
      "cell_type": "markdown",
      "source": [
        "### 15. From a list containing ints, strings, and floats, make three lists to store them separately."
      ],
      "metadata": {
        "id": "9bz-pSikwQ7u"
      }
    },
    {
      "cell_type": "code",
      "source": [
        "a = [ 10, 15, 'data', 'DL', 11.5, 15.8]\n",
        "b =[]\n",
        "c =[]\n",
        "d =[]\n",
        "for i in a:\n",
        "  if type(i) == int:\n",
        "    b.append(i)\n",
        "  elif type(i) == str:\n",
        "    c.append(i)\n",
        "  elif type(i) == float:\n",
        "    d.append(i)\n",
        "print(a)\n",
        "print(b)\n",
        "print(c)\n",
        "print(d)"
      ],
      "metadata": {
        "colab": {
          "base_uri": "https://localhost:8080/"
        },
        "id": "K6u1WVClpCnt",
        "outputId": "fe1c55ae-1ca3-4e9a-d861-4dca5192f29d"
      },
      "execution_count": null,
      "outputs": [
        {
          "output_type": "stream",
          "name": "stdout",
          "text": [
            "[10, 15, 'data', 'DL', 11.5, 15.8]\n",
            "[10, 15]\n",
            "['data', 'DL']\n",
            "[11.5, 15.8]\n"
          ]
        }
      ]
    },
    {
      "cell_type": "markdown",
      "source": [
        "### Q16. Write a Python program to append a list to the second list."
      ],
      "metadata": {
        "id": "HnT0Hu_hxhqU"
      }
    },
    {
      "cell_type": "code",
      "source": [
        "a = [1,2,3,4]\n",
        "b = [5,6,7,8]\n",
        "c = a+b\n",
        "print(c)\n",
        "# reference: https://www.w3resource.com/python-exercises/list/python-data-type-list-exercise-24.php"
      ],
      "metadata": {
        "colab": {
          "base_uri": "https://localhost:8080/"
        },
        "id": "IucWWtvSxwCM",
        "outputId": "0b59b1d2-f742-421e-c108-e1577d251dcb"
      },
      "execution_count": null,
      "outputs": [
        {
          "output_type": "stream",
          "name": "stdout",
          "text": [
            "[1, 2, 3, 4, 5, 6, 7, 8]\n"
          ]
        }
      ]
    },
    {
      "cell_type": "markdown",
      "source": [
        "### Q17. Write a Python program to find the third-largest number in a list.\n"
      ],
      "metadata": {
        "id": "RRlDWXDzzDiG"
      }
    },
    {
      "cell_type": "code",
      "source": [
        "a = [1,5,7,8,9,4,6,11,15]\n",
        "a.sort()\n",
        "print(a)\n",
        "print(a[-3])"
      ],
      "metadata": {
        "colab": {
          "base_uri": "https://localhost:8080/"
        },
        "id": "ZGLEt7WCx-Dc",
        "outputId": "88120ab3-700d-48e2-a3ff-00e2524c26d5"
      },
      "execution_count": null,
      "outputs": [
        {
          "output_type": "stream",
          "name": "stdout",
          "text": [
            "[1, 4, 5, 6, 7, 8, 9, 11, 15]\n",
            "9\n"
          ]
        }
      ]
    },
    {
      "cell_type": "code",
      "source": [
        "#If you are not allowed to use sort, try this.\n",
        "l=[5,8,2,9,4,10,7]\n",
        "for j in range(3):\n",
        "  max=l[0]\n",
        "  for i in l:\n",
        "    if i>max: max=i\n",
        "  if j==2: print(max)\n",
        "  else: l.remove(max)\n",
        "# reference: https://www.sololearn.com/Discuss/1310755/find-the-third-largest-number-in-a-list-in-python"
      ],
      "metadata": {
        "colab": {
          "base_uri": "https://localhost:8080/"
        },
        "id": "UNmZ3csbzU4s",
        "outputId": "36828916-7d9e-472c-985c-7cdee4dee38d"
      },
      "execution_count": null,
      "outputs": [
        {
          "output_type": "stream",
          "name": "stdout",
          "text": [
            "8\n"
          ]
        }
      ]
    },
    {
      "cell_type": "code",
      "source": [
        "#1\n",
        "num = [2,3,7,4,5,6,10,11,120]\n",
        "\n",
        "#2\n",
        "largest_num = num[0]\n",
        "second_largest_num = num[0]\n",
        "third_largest_num = num[0]\n",
        "\n",
        "#3\n",
        "for i in num :\n",
        "    #4\n",
        "    if i > largest_num :\n",
        "        third_largest_num = second_largest_num\n",
        "        second_largest_num = largest_num\n",
        "        largest_num = i\n",
        "    #5\n",
        "    elif i > second_largest_num :\n",
        "        third_largest_num = second_largest_num\n",
        "        second_largest_num = i\n",
        "    #6\n",
        "    elif i > third_largest_num :\n",
        "        third_largest_num = i\n",
        "\n",
        "#7\n",
        "print(\"Third largest number of the list is {}\".format(third_largest_num))\n",
        "# reference : https://www.codevscolor.com/python-find-third-largest-number-in-list"
      ],
      "metadata": {
        "colab": {
          "base_uri": "https://localhost:8080/"
        },
        "id": "uUgASBuX0ffO",
        "outputId": "38a8bdab-bdde-4ef3-ee3e-86270b20b9ae"
      },
      "execution_count": null,
      "outputs": [
        {
          "output_type": "stream",
          "name": "stdout",
          "text": [
            "Third largest number of the list is 10\n"
          ]
        }
      ]
    },
    {
      "cell_type": "markdown",
      "source": [
        "### Q17. Write a Python program to get the frequency of the elements in a list."
      ],
      "metadata": {
        "id": "y1f0Brkc1BsG"
      }
    },
    {
      "cell_type": "code",
      "source": [
        "a = [2,4,5,6,6,3,9,9,9,8]\n",
        "freq = {}\n",
        "for i in a:\n",
        "  if i in freq:\n",
        "    freq[i] += 1\n",
        "  else:\n",
        "    freq[i] = 1\n",
        "print(freq)\n",
        "# reference: https://www.tutorialspoint.com/list-frequency-of-elements-in-python"
      ],
      "metadata": {
        "colab": {
          "base_uri": "https://localhost:8080/"
        },
        "id": "futQPP_6659b",
        "outputId": "37d7fc99-3f7b-421f-88c6-e6c2f9eea73c"
      },
      "execution_count": null,
      "outputs": [
        {
          "output_type": "stream",
          "name": "stdout",
          "text": [
            "{2: 1, 4: 1, 5: 1, 6: 2, 3: 1, 9: 3, 8: 1}\n"
          ]
        }
      ]
    },
    {
      "cell_type": "code",
      "source": [
        "import collections\n",
        "my_list = [10,10,10,10,20,20,20,20,40,40,50,50,30]\n",
        "print(\"Original List : \",my_list)\n",
        "ctr = collections.Counter(my_list)\n",
        "print(\"Frequency of the elements in the List : \",ctr)"
      ],
      "metadata": {
        "colab": {
          "base_uri": "https://localhost:8080/"
        },
        "id": "o8vqZhT57hGN",
        "outputId": "e90fe801-39c2-403d-c53c-77b8c990efee"
      },
      "execution_count": null,
      "outputs": [
        {
          "output_type": "stream",
          "name": "stdout",
          "text": [
            "Original List :  [10, 10, 10, 10, 20, 20, 20, 20, 40, 40, 50, 50, 30]\n",
            "Frequency of the elements in the List :  Counter({10: 4, 20: 4, 40: 2, 50: 2, 30: 1})\n"
          ]
        }
      ]
    },
    {
      "cell_type": "code",
      "source": [
        "import pandas as pd\n",
        "\n",
        "test_list = [3,5,4,3,3,4,5,2]\n",
        "\n",
        "df1 = pd.Series(test_list).value_counts().sort_index().reset_index().reset_index(drop=True)\n",
        "df1.columns = ['Element', 'Frequency']\n",
        "\n",
        "# Original list\n",
        "print(f\"The original list : {test_list}\" )\n",
        "\n",
        "# printing result\n",
        "print(f\"The list frequency of elements is :\\n {df1.to_string(index=False)}\" )"
      ],
      "metadata": {
        "colab": {
          "base_uri": "https://localhost:8080/"
        },
        "id": "1RJjLiZ68CC0",
        "outputId": "a7ada13a-8f77-424d-8c6f-98888103ea7c"
      },
      "execution_count": null,
      "outputs": [
        {
          "output_type": "stream",
          "name": "stdout",
          "text": [
            "The original list : [3, 5, 4, 3, 3, 4, 5, 2]\n",
            "The list frequency of elements is :\n",
            "  Element  Frequency\n",
            "       2          1\n",
            "       3          3\n",
            "       4          2\n",
            "       5          2\n"
          ]
        }
      ]
    },
    {
      "cell_type": "markdown",
      "source": [
        "### Q18. Write a Python program to check whether a list contains a sublist."
      ],
      "metadata": {
        "id": "UFkzrjeL8l4_"
      }
    },
    {
      "cell_type": "code",
      "source": [
        "test_list = [5,6,3,8,2,1,7,1]\n",
        "print('The original list : '+ str(test_list))\n",
        "sub_list = [8,2,1]\n",
        "res = False\n",
        "for idx in range (len(test_list) - len(sub_list)+1):\n",
        "  if test_list[idx : idx + len(sub_list)] == sub_list:\n",
        "    res = True\n",
        "    break\n",
        "print('Is sublist present in list? : ' + str(res))"
      ],
      "metadata": {
        "colab": {
          "base_uri": "https://localhost:8080/"
        },
        "id": "6qyjLrtz8UP8",
        "outputId": "bac139a9-7bc7-4972-de68-1b6da28b7db3"
      },
      "execution_count": null,
      "outputs": [
        {
          "output_type": "stream",
          "name": "stdout",
          "text": [
            "The original list : [5, 6, 3, 8, 2, 1, 7, 1]\n",
            "Is sublist present in list? : True\n"
          ]
        }
      ]
    },
    {
      "cell_type": "code",
      "source": [
        "# Python3 code to demonstrate working of\n",
        "# Check for Sublist in List\n",
        "# Using any() + list slicing + generator expression\n",
        "\n",
        "# initializing list\n",
        "test_list = [5, 6, 3, 8, 2, 1, 7, 1]\n",
        "\n",
        "# printing original list\n",
        "print(\"The original list : \" + str(test_list))\n",
        "\n",
        "# initializing sublist\n",
        "sublist = [8, 2, 1]\n",
        "\n",
        "# Check for Sublist in List\n",
        "# Using any() + list slicing + generator expression\n",
        "res = any(test_list[idx : idx + len(sublist)] == sublist\n",
        "\t\tfor idx in range(len(test_list) - len(sublist) + 1))\n",
        "\t\t\n",
        "# printing result\n",
        "print(\"Is sublist present in list ? : \" + str(res))"
      ],
      "metadata": {
        "colab": {
          "base_uri": "https://localhost:8080/"
        },
        "id": "PFP4aIxjKbTY",
        "outputId": "364e2892-7d71-4e28-8f3d-ea56e3e26b43"
      },
      "execution_count": null,
      "outputs": [
        {
          "output_type": "stream",
          "name": "stdout",
          "text": [
            "The original list : [5, 6, 3, 8, 2, 1, 7, 1]\n",
            "Is sublist present in list ? : True\n"
          ]
        }
      ]
    },
    {
      "cell_type": "markdown",
      "source": [
        "### Q19. Write a Python program to generate all sublists of a list."
      ],
      "metadata": {
        "id": "frC9twerOdTq"
      }
    },
    {
      "cell_type": "code",
      "source": [
        "def sub_lists(l):\n",
        "  lists = [[]] \n",
        "  for i in range(len (l) + 1):\n",
        "    for j in range(i):\n",
        "      lists.append(l[j:i])\n",
        "  return lists\n",
        "\n",
        "a = [2,4,5,6,6,3,9,9,9,8] \n",
        "print(sub_lists(a))"
      ],
      "metadata": {
        "colab": {
          "base_uri": "https://localhost:8080/"
        },
        "id": "oLDWTJ3AOVRQ",
        "outputId": "d32a0f3d-afc8-44bf-e8ce-4d8c436b6346"
      },
      "execution_count": null,
      "outputs": [
        {
          "output_type": "stream",
          "name": "stdout",
          "text": [
            "[[], [2], [2, 4], [4], [2, 4, 5], [4, 5], [5], [2, 4, 5, 6], [4, 5, 6], [5, 6], [6], [2, 4, 5, 6, 6], [4, 5, 6, 6], [5, 6, 6], [6, 6], [6], [2, 4, 5, 6, 6, 3], [4, 5, 6, 6, 3], [5, 6, 6, 3], [6, 6, 3], [6, 3], [3], [2, 4, 5, 6, 6, 3, 9], [4, 5, 6, 6, 3, 9], [5, 6, 6, 3, 9], [6, 6, 3, 9], [6, 3, 9], [3, 9], [9], [2, 4, 5, 6, 6, 3, 9, 9], [4, 5, 6, 6, 3, 9, 9], [5, 6, 6, 3, 9, 9], [6, 6, 3, 9, 9], [6, 3, 9, 9], [3, 9, 9], [9, 9], [9], [2, 4, 5, 6, 6, 3, 9, 9, 9], [4, 5, 6, 6, 3, 9, 9, 9], [5, 6, 6, 3, 9, 9, 9], [6, 6, 3, 9, 9, 9], [6, 3, 9, 9, 9], [3, 9, 9, 9], [9, 9, 9], [9, 9], [9], [2, 4, 5, 6, 6, 3, 9, 9, 9, 8], [4, 5, 6, 6, 3, 9, 9, 9, 8], [5, 6, 6, 3, 9, 9, 9, 8], [6, 6, 3, 9, 9, 9, 8], [6, 3, 9, 9, 9, 8], [3, 9, 9, 9, 8], [9, 9, 9, 8], [9, 9, 8], [9, 8], [8]]\n"
          ]
        }
      ]
    },
    {
      "cell_type": "code",
      "source": [
        "from itertools import combinations\n",
        "def sub_lists(my_list):\n",
        "\tsubs = []\n",
        "\tfor i in range(0, len(my_list)+1):\n",
        "\t  temp = [list(x) for x in combinations(my_list, i)]\n",
        "\t  if len(temp)>0:\n",
        "\t    subs.extend(temp)\n",
        "\treturn subs\n",
        "\n",
        "\n",
        "l1 = [10, 20, 30, 40]\n",
        "l2 = ['X', 'Y', 'Z']\n",
        "print(\"Original list:\")\n",
        "print(l1)\n",
        "print(\"S\")\n",
        "print(sub_lists(l1))\n",
        "print(\"Sublists of the said list:\")\n",
        "print(sub_lists(l1))\n",
        "print(\"\\nOriginal list:\")\n",
        "print(l2)\n",
        "print(\"Sublists of the said list:\")\n",
        "print(sub_lists(l2))\n",
        "# Reference : https://www.w3resource.com/python-exercises/list/python-data-type-list-exercise-33.php"
      ],
      "metadata": {
        "colab": {
          "base_uri": "https://localhost:8080/"
        },
        "id": "Z0m_Rcq1buEc",
        "outputId": "ab19def7-0607-429f-9343-be1a2b9193a1"
      },
      "execution_count": null,
      "outputs": [
        {
          "output_type": "stream",
          "name": "stdout",
          "text": [
            "Original list:\n",
            "[10, 20, 30, 40]\n",
            "S\n",
            "[[], [10], [20], [30], [40], [10, 20], [10, 30], [10, 40], [20, 30], [20, 40], [30, 40], [10, 20, 30], [10, 20, 40], [10, 30, 40], [20, 30, 40], [10, 20, 30, 40]]\n",
            "Sublists of the said list:\n",
            "[[], [10], [20], [30], [40], [10, 20], [10, 30], [10, 40], [20, 30], [20, 40], [30, 40], [10, 20, 30], [10, 20, 40], [10, 30, 40], [20, 30, 40], [10, 20, 30, 40]]\n",
            "\n",
            "Original list:\n",
            "['X', 'Y', 'Z']\n",
            "Sublists of the said list:\n",
            "[[], ['X'], ['Y'], ['Z'], ['X', 'Y'], ['X', 'Z'], ['Y', 'Z'], ['X', 'Y', 'Z']]\n"
          ]
        }
      ]
    },
    {
      "cell_type": "code",
      "source": [
        "# Python program to print all  \n",
        "# sublist from a given list  \n",
        "# function to generate all the sub lists \n",
        "def displaysublist(A): \n",
        "   # store all the sublists  \n",
        "   B = [[ ]] \n",
        "      \n",
        "   # first loop  \n",
        "   for i in range(len(A) + 1):   \n",
        "      # second loop  \n",
        "      for j in range(i + 1, len(A) + 1):         \n",
        "         # slice the subarray  \n",
        "         sub = A[i:j] \n",
        "         B.append(sub) \n",
        "   return B \n",
        "  \n",
        "# driver code \n",
        "A=list()\n",
        "n=int(input(\"Enter the size of the First List ::\"))\n",
        "print(\"Enter the Element of First List ::\")\n",
        "for i in range(int(n)):\n",
        "   k=int(input(\"\"))\n",
        "   A.append(k)\n",
        "print(\"SUBLIST IS ::>\",displaysublist(A))\n",
        "# Reference : https://www.tutorialspoint.com/python-program-to-print-all-sublists-of-a-list"
      ],
      "metadata": {
        "colab": {
          "base_uri": "https://localhost:8080/"
        },
        "id": "0xDkaTMXcUij",
        "outputId": "26e8e936-cd11-4579-f22a-f5a3122b0f72"
      },
      "execution_count": null,
      "outputs": [
        {
          "output_type": "stream",
          "name": "stdout",
          "text": [
            "Enter the size of the First List ::5\n",
            "Enter the Element of First List ::\n",
            "2\n",
            "5\n",
            "8\n",
            "9\n",
            "6\n",
            "SUBLIST IS ::> [[], [2], [2, 5], [2, 5, 8], [2, 5, 8, 9], [2, 5, 8, 9, 6], [5], [5, 8], [5, 8, 9], [5, 8, 9, 6], [8], [8, 9], [8, 9, 6], [9], [9, 6], [6]]\n"
          ]
        }
      ]
    },
    {
      "cell_type": "markdown",
      "source": [
        "### Q20. Write a Python program to find common items from two lists."
      ],
      "metadata": {
        "id": "ZexheGu6cwkc"
      }
    },
    {
      "cell_type": "code",
      "source": [
        "# using for loop \n",
        "def common_member(a,b):\n",
        "  result = [ i for i in a if i in b]\n",
        "  return result\n",
        "\n",
        "a = [7,8,5,6,4,3]\n",
        "b = [8,9,5,0,1,2]\n",
        "\n",
        "print('The common elements in two lists are ')\n",
        "print(common_member(a,b))"
      ],
      "metadata": {
        "colab": {
          "base_uri": "https://localhost:8080/"
        },
        "id": "WJlSpJ0TcwF8",
        "outputId": "16e19306-d07b-4672-a7da-2f4dceb011cb"
      },
      "execution_count": null,
      "outputs": [
        {
          "output_type": "stream",
          "name": "stdout",
          "text": [
            "The common elements in two lists are \n",
            "[8, 5]\n"
          ]
        }
      ]
    },
    {
      "cell_type": "code",
      "source": [
        "def common_member(a,b):\n",
        "  a_set = set(a)\n",
        "  b_set = set(b)\n",
        "  if (a_set & b_set):\n",
        "    print(a_set & b_set)\n",
        "  else:\n",
        "    print('No common elements')\n",
        "\n",
        "a = [7,8,5,6,4,3]\n",
        "b = [8,9,5,0,1,2]\n",
        "common_member(a,b)"
      ],
      "metadata": {
        "colab": {
          "base_uri": "https://localhost:8080/"
        },
        "id": "r2d8NY8dcv5e",
        "outputId": "8f2d84db-cc53-4243-9d1c-28e50887f13f"
      },
      "execution_count": null,
      "outputs": [
        {
          "output_type": "stream",
          "name": "stdout",
          "text": [
            "{8, 5}\n"
          ]
        }
      ]
    },
    {
      "cell_type": "code",
      "source": [
        "# Python program to find common elements in\n",
        "# both sets using intersection function in\n",
        "# sets\n",
        "\n",
        "\n",
        "# function\n",
        "def common_member(a, b):\n",
        "\ta_set = set(a)\n",
        "\tb_set = set(b)\n",
        "\t\n",
        "\t# check length\n",
        "\tif len(a_set.intersection(b_set)) > 0:\n",
        "\t\treturn(a_set.intersection(b_set))\n",
        "\telse:\n",
        "\t\treturn(\"no common elements\")\n",
        "\t\n",
        "\n",
        "a = [1, 2, 3, 4, 5]\n",
        "b = [5, 6, 7, 8, 9]\n",
        "print(common_member(a, b))\n",
        "\n",
        "a =[1, 2, 3, 4, 5]\n",
        "b =[6, 7, 8, 9]\n",
        "print(common_member(a, b))"
      ],
      "metadata": {
        "colab": {
          "base_uri": "https://localhost:8080/"
        },
        "id": "0Rgyh9FQgHPv",
        "outputId": "7cfc7c8d-8ff8-4878-a441-cde3f967505f"
      },
      "execution_count": null,
      "outputs": [
        {
          "output_type": "stream",
          "name": "stdout",
          "text": [
            "{5}\n",
            "no common elements\n"
          ]
        }
      ]
    },
    {
      "cell_type": "markdown",
      "source": [
        "### Q21. How to sort a list in ascending and descending order without using the sort function?\n"
      ],
      "metadata": {
        "id": "RkuW5odpgvkd"
      }
    },
    {
      "cell_type": "code",
      "source": [
        "# In decending order\n",
        "a = [2,4,5,6,6,3,9,9,9,8]\n",
        "for i in range(len(a)):\n",
        "  for j in range(i+1, len(a)):\n",
        "    if a[i] < a[j]:\n",
        "      a[i],a[j] = a[j],a[i]\n",
        "print(a)"
      ],
      "metadata": {
        "colab": {
          "base_uri": "https://localhost:8080/"
        },
        "id": "7hoGZgUZg1n-",
        "outputId": "da9093fc-dbb5-472e-d55b-2f0c48dd87b3"
      },
      "execution_count": null,
      "outputs": [
        {
          "output_type": "stream",
          "name": "stdout",
          "text": [
            "[9, 9, 9, 8, 6, 6, 5, 4, 3, 2]\n"
          ]
        }
      ]
    },
    {
      "cell_type": "code",
      "source": [
        "# In ascending order\n",
        "a = [2,4,5,6,6,3,9,9,9,8]\n",
        "for i in range(len(a)):\n",
        "  for j in range(i+1, len(a)):\n",
        "    if a[i] > a[j]:\n",
        "      a[i],a[j] = a[j],a[i]\n",
        "print(a)\n",
        "# refrence : https://www.codegrepper.com/code-examples/python/how+to+sort+list+in+python+without+sort+function"
      ],
      "metadata": {
        "colab": {
          "base_uri": "https://localhost:8080/"
        },
        "id": "Q_6foREgjnhl",
        "outputId": "6da1232a-6ff4-48eb-d83f-3504ba7609c9"
      },
      "execution_count": null,
      "outputs": [
        {
          "output_type": "stream",
          "name": "stdout",
          "text": [
            "[2, 3, 4, 5, 6, 6, 8, 9, 9, 9]\n"
          ]
        }
      ]
    },
    {
      "cell_type": "code",
      "source": [
        "my_list = [-15, -26, 15, 1, 23, -64, 23, 76]\n",
        "new_list = []\n",
        "\n",
        "while my_list:\n",
        "    min = my_list[0]  \n",
        "    for x in my_list: \n",
        "        if x < min:\n",
        "            min = x\n",
        "    new_list.append(min)\n",
        "    my_list.remove(min)    \n",
        "\n",
        "print(new_list)"
      ],
      "metadata": {
        "colab": {
          "base_uri": "https://localhost:8080/"
        },
        "id": "PmT7itP4jvsT",
        "outputId": "718257be-b24e-4fd1-af45-89c0100ce4ee"
      },
      "execution_count": null,
      "outputs": [
        {
          "output_type": "stream",
          "name": "stdout",
          "text": [
            "[-64, -26, -15, 1, 15, 23, 23, 76]\n"
          ]
        }
      ]
    },
    {
      "cell_type": "code",
      "source": [
        "my_list = [-15, -26, 15, 1, 23, -64, 23, 76]\n",
        "new_list = []\n",
        "\n",
        "while my_list:\n",
        "    min = my_list[0]  \n",
        "    for x in my_list: \n",
        "        if x > min:\n",
        "            min = x\n",
        "    new_list.append(min)\n",
        "    my_list.remove(min)    \n",
        "\n",
        "print(new_list)\n",
        "# Reference : https://www.edureka.co/community/50276/sort-numbers-without-using-built-functions-other-function"
      ],
      "metadata": {
        "colab": {
          "base_uri": "https://localhost:8080/"
        },
        "id": "jAXfrhMIkMmk",
        "outputId": "daba2203-a7ac-4cdd-aca8-1a9a33a3eb54"
      },
      "execution_count": null,
      "outputs": [
        {
          "output_type": "stream",
          "name": "stdout",
          "text": [
            "[76, 23, 23, 15, 1, -15, -26, -64]\n"
          ]
        }
      ]
    },
    {
      "cell_type": "markdown",
      "source": [
        "### Q22. How to sort a tuple?"
      ],
      "metadata": {
        "id": "DImfhmz9vK_q"
      }
    },
    {
      "cell_type": "code",
      "source": [
        "# using sorted function\n",
        "a = (2,4,5,6,6,3,9,9,9,8)\n",
        "result = sorted(a)\n",
        "result = tuple(result)\n",
        "print(result)"
      ],
      "metadata": {
        "colab": {
          "base_uri": "https://localhost:8080/"
        },
        "id": "7O88xq5AkRe_",
        "outputId": "c4e74f0b-f42f-46be-e37f-b364316e00fd"
      },
      "execution_count": null,
      "outputs": [
        {
          "output_type": "stream",
          "name": "stdout",
          "text": [
            "(2, 3, 4, 5, 6, 6, 8, 9, 9, 9)\n"
          ]
        }
      ]
    },
    {
      "cell_type": "code",
      "source": [
        "# for descending order\n",
        "aTuple = (2, 5, 8, 1, 9, 3, 7)\n",
        "result = sorted(aTuple, reverse=True)\n",
        "result = tuple(result)\n",
        "print('Sorted Tuple :', result)\n",
        "# reference : https://www.tutorialkart.com/python/python-sort-a-tuple/#:~:text=To%20sort%20a%20Tuple%20in,to%20tuple%20using%20tuple()."
      ],
      "metadata": {
        "colab": {
          "base_uri": "https://localhost:8080/"
        },
        "id": "_p4HH3wRvaCi",
        "outputId": "9f9bfe85-7377-4078-8eff-6cbe87ad0bb9"
      },
      "execution_count": null,
      "outputs": [
        {
          "output_type": "stream",
          "name": "stdout",
          "text": [
            "Sorted Tuple : (9, 8, 7, 5, 3, 2, 1)\n"
          ]
        }
      ]
    },
    {
      "cell_type": "markdown",
      "source": [
        "### Q23. Write a Python program to convert a list of multiple integers into a single integer\n"
      ],
      "metadata": {
        "id": "Mo95qrl3v9Mx"
      }
    },
    {
      "cell_type": "code",
      "source": [
        "a = [12,14,16]\n",
        "for i in a:\n",
        "  print(i, end ='')"
      ],
      "metadata": {
        "colab": {
          "base_uri": "https://localhost:8080/"
        },
        "id": "07XHTBmav4c8",
        "outputId": "fad56acf-c85c-4aa2-90ab-d4937fd820bf"
      },
      "execution_count": null,
      "outputs": [
        {
          "output_type": "stream",
          "name": "stdout",
          "text": [
            "121416"
          ]
        }
      ]
    },
    {
      "cell_type": "code",
      "source": [
        "# using join \n",
        "def convert(list):\n",
        "  s = [str(i) for i in list]\n",
        "  res = int (''.join(s))\n",
        "  return(res)\n",
        "\n",
        "a = [12,14,16]\n",
        "print(convert(a))"
      ],
      "metadata": {
        "colab": {
          "base_uri": "https://localhost:8080/"
        },
        "id": "553j15aBwFbY",
        "outputId": "ecff53dd-00fa-4110-f428-07be9d713b4a"
      },
      "execution_count": null,
      "outputs": [
        {
          "output_type": "stream",
          "name": "stdout",
          "text": [
            "121416\n"
          ]
        }
      ]
    },
    {
      "cell_type": "code",
      "source": [
        "# Python3 program to convert a list\n",
        "# of integers into a single integer\n",
        "def convert(list):\n",
        "\t\n",
        "\t# Converting integer list to string list\n",
        "\t# and joining the list using join()\n",
        "\tres = int(\"\".join(map(str, list)))\n",
        "\t\n",
        "\treturn res\n",
        "\n",
        "# Driver code\n",
        "list = [1, 2, 3]\n",
        "print(convert(list))"
      ],
      "metadata": {
        "colab": {
          "base_uri": "https://localhost:8080/"
        },
        "id": "8e3b-XR-xUfr",
        "outputId": "478e73b7-befb-4b73-ad8a-664c54b23e6d"
      },
      "execution_count": null,
      "outputs": [
        {
          "output_type": "stream",
          "name": "stdout",
          "text": [
            "123\n"
          ]
        }
      ]
    },
    {
      "cell_type": "code",
      "source": [
        "# Python3 program to convert a list\n",
        "# of integers into a single integer\n",
        "def convert(list):\n",
        "\t\n",
        "\t# multiply each integer element with its\n",
        "\t# corresponding power and perform summation\n",
        "\n",
        "\tres = sum(d * 10**i for i, d in enumerate(list[::-1]))\n",
        "\t\n",
        "\treturn(res)\n",
        "\n",
        "# Driver code\n",
        "list = [1, 2, 3]\n",
        "print(convert(list))"
      ],
      "metadata": {
        "colab": {
          "base_uri": "https://localhost:8080/"
        },
        "id": "3teLqbyCxfZr",
        "outputId": "40d66fd1-ae85-41c0-aadb-1c91a13d3b01"
      },
      "execution_count": null,
      "outputs": [
        {
          "output_type": "stream",
          "name": "stdout",
          "text": [
            "123\n"
          ]
        }
      ]
    },
    {
      "cell_type": "markdown",
      "source": [
        "### Q24. How to check whether the list is empty or not?"
      ],
      "metadata": {
        "id": "4crBa9S9xvZg"
      }
    },
    {
      "cell_type": "code",
      "source": [
        "def enquiry(a):\n",
        "  if len(a) == 0:\n",
        "    return 0\n",
        "  else: \n",
        "    return 1 \n",
        "\n",
        "a = [1,2,5,8]\n",
        "if enquiry(a):\n",
        "  print('The list is not empty')\n",
        "else:\n",
        "  print('List is empty')"
      ],
      "metadata": {
        "colab": {
          "base_uri": "https://localhost:8080/"
        },
        "id": "LNhLobBdy0Ex",
        "outputId": "b4859c9a-458c-4322-d1e8-85e6c2142069"
      },
      "execution_count": null,
      "outputs": [
        {
          "output_type": "stream",
          "name": "stdout",
          "text": [
            "The list is not empty\n"
          ]
        }
      ]
    },
    {
      "cell_type": "code",
      "source": [
        "def enquiry(a):\n",
        "  if not a:\n",
        "    return 1\n",
        "  else:\n",
        "    return 0\n",
        "\n",
        "a = ['svsvsv']\n",
        "if enquiry(a):\n",
        "  print('The list is empty')\n",
        "else:\n",
        "  print('The list is not empty')\n"
      ],
      "metadata": {
        "colab": {
          "base_uri": "https://localhost:8080/"
        },
        "id": "E-pxCQ6O5FC0",
        "outputId": "0154e813-9bdb-4d1d-ca68-ad87ba2ae0d6"
      },
      "execution_count": null,
      "outputs": [
        {
          "output_type": "stream",
          "name": "stdout",
          "text": [
            "The list is not empty\n"
          ]
        }
      ]
    },
    {
      "cell_type": "code",
      "source": [
        "# non pythnoic way\n",
        "# Numpythonic way to check emptiness\n",
        "# Use of size\n",
        "import numpy\n",
        "def Enquiry(lis1):\n",
        "\treturn(numpy.array(lis1))\n",
        "\t\n",
        "# Driver Code\n",
        "lis1 = []\n",
        "if Enquiry(lis1).size:\n",
        "\tprint(\"Not Empty\")\n",
        "else:\n",
        "\tprint(\"Empty\")"
      ],
      "metadata": {
        "colab": {
          "base_uri": "https://localhost:8080/"
        },
        "id": "4JRuY2Ru5UXm",
        "outputId": "48a6abcd-e512-4200-8720-e45b820d7f3f"
      },
      "execution_count": null,
      "outputs": [
        {
          "output_type": "stream",
          "name": "stdout",
          "text": [
            "Empty\n"
          ]
        }
      ]
    },
    {
      "cell_type": "code",
      "source": [
        "# Numpythonic way to check emptiness\n",
        "# Use of size\n",
        "import numpy\n",
        "def Enquiry(lis1):\n",
        "\treturn(numpy.array(lis1))\n",
        "\t\n",
        "# Driver Code\n",
        "lis1 = [0, ]\n",
        "if Enquiry(lis1).size:\n",
        "\tprint(\"Not Empty\")\n",
        "else:\n",
        "\tprint(\"Empty\")"
      ],
      "metadata": {
        "colab": {
          "base_uri": "https://localhost:8080/"
        },
        "id": "KOZoqLhS5UVE",
        "outputId": "7c5c50ba-ce53-491b-fded-c2622fceab14"
      },
      "execution_count": null,
      "outputs": [
        {
          "output_type": "stream",
          "name": "stdout",
          "text": [
            "Not Empty\n"
          ]
        }
      ]
    },
    {
      "cell_type": "markdown",
      "source": [
        "### Q25. How to concatenate two lists?"
      ],
      "metadata": {
        "id": "YoOeE-QA6zwt"
      }
    },
    {
      "cell_type": "code",
      "source": [
        "a = [1,3,5,7,9]\n",
        "b = [2,4,6,8,10]\n",
        "for i in b:\n",
        "  a.append(i)\n",
        "\n",
        "print('Concanate list using naive method : ' +str(a))"
      ],
      "metadata": {
        "colab": {
          "base_uri": "https://localhost:8080/"
        },
        "id": "OAQ_r4ws6mUJ",
        "outputId": "4e7c0131-cb8d-42e1-f725-d9132024f21a"
      },
      "execution_count": null,
      "outputs": [
        {
          "output_type": "stream",
          "name": "stdout",
          "text": [
            "Concanate list using naive method : [1, 3, 5, 7, 9, 2, 4, 6, 8, 10]\n"
          ]
        }
      ]
    },
    {
      "cell_type": "code",
      "source": [
        "# using '+' operator\n",
        "a = [1,3,5,7,9]\n",
        "b = [2,4,6,8,10]\n",
        "a = a+b\n",
        "print('Concnadate using + operator' +str(a))"
      ],
      "metadata": {
        "colab": {
          "base_uri": "https://localhost:8080/"
        },
        "id": "K32sMhmO8q47",
        "outputId": "ff188d32-c021-44b6-96cb-8aa686983334"
      },
      "execution_count": null,
      "outputs": [
        {
          "output_type": "stream",
          "name": "stdout",
          "text": [
            "Concnadate using + operator[1, 3, 5, 7, 9, 2, 4, 6, 8, 10]\n"
          ]
        }
      ]
    },
    {
      "cell_type": "code",
      "source": [
        "# Python3 code to demonstrate list\n",
        "# concatenation using list comprehension\n",
        "\n",
        "# Initializing lists\n",
        "test_list1 = [1, 4, 5, 6, 5]\n",
        "test_list2 = [3, 5, 7, 2, 5]\n",
        "\n",
        "# using list comprehension to concat\n",
        "res_list = [y for x in [test_list1, test_list2] for y in x]\n",
        "\n",
        "# Printing concatenated list\n",
        "print (\"Concatenated list using list comprehension: \"\n",
        "\t\t\t\t\t\t\t\t\t+ str(res_list))"
      ],
      "metadata": {
        "colab": {
          "base_uri": "https://localhost:8080/"
        },
        "id": "f6nKcroz9Xu5",
        "outputId": "a9c9b239-2160-41ce-ed40-5468526cf234"
      },
      "execution_count": null,
      "outputs": [
        {
          "output_type": "stream",
          "name": "stdout",
          "text": [
            "Concatenated list using list comprehension: [1, 4, 5, 6, 5, 3, 5, 7, 2, 5]\n"
          ]
        }
      ]
    },
    {
      "cell_type": "code",
      "source": [
        "# Python3 code to demonstrate list\n",
        "# concatenation using list.extend()\n",
        "\n",
        "# Initializing lists\n",
        "test_list3 = [1, 4, 5, 6, 5]\n",
        "test_list4 = [3, 5, 7, 2, 5]\n",
        "\n",
        "# using list.extend() to concat\n",
        "test_list3.extend(test_list4)\n",
        "\n",
        "# Printing concatenated list\n",
        "print (\"Concatenated list using list.extend() : \"\n",
        "\t\t\t\t\t\t\t+ str(test_list3))"
      ],
      "metadata": {
        "colab": {
          "base_uri": "https://localhost:8080/"
        },
        "id": "MNudO-x79lNC",
        "outputId": "15dfefb4-0705-4ab0-81ea-8b29c02980c1"
      },
      "execution_count": null,
      "outputs": [
        {
          "output_type": "stream",
          "name": "stdout",
          "text": [
            "Concatenated list using list.extend() : [1, 4, 5, 6, 5, 3, 5, 7, 2, 5]\n"
          ]
        }
      ]
    },
    {
      "cell_type": "code",
      "source": [
        "# Python3 code to demonstrate list\n",
        "# concatenation using * operator\n",
        "\n",
        "# Initializing lists\n",
        "test_list1 = [1, 4, 5, 6, 5]\n",
        "test_list2 = [3, 5, 7, 2, 5]\n",
        "\n",
        "# using * operator to concat\n",
        "res_list = [*test_list1, *test_list2]\n",
        "\n",
        "# Printing concatenated list\n",
        "print (\"Concatenated list using * operator : \"\n",
        "\t\t\t\t\t\t\t+ str(res_list))"
      ],
      "metadata": {
        "colab": {
          "base_uri": "https://localhost:8080/"
        },
        "id": "pnRAXzKS9lFg",
        "outputId": "6863697c-ab50-4fe1-ed30-78e13582675e"
      },
      "execution_count": null,
      "outputs": [
        {
          "output_type": "stream",
          "name": "stdout",
          "text": [
            "Concatenated list using * operator : [1, 4, 5, 6, 5, 3, 5, 7, 2, 5]\n"
          ]
        }
      ]
    },
    {
      "cell_type": "markdown",
      "source": [
        "### Q26. How to find the occurrences of an element in the python list?"
      ],
      "metadata": {
        "id": "nQgIbe9u9vxP"
      }
    },
    {
      "cell_type": "code",
      "source": [
        "def countX(a,x):\n",
        "  count = 0\n",
        "  for ele in a:\n",
        "    if(ele == x):\n",
        "      count = count+1\n",
        "  return count\n",
        "\n",
        "a = [8, 6, 8, 10, 8, 20, 10, 8, 8]\n",
        "x = 8\n",
        "print('{} has occured {} times'.format (x, countX(a,x)))"
      ],
      "metadata": {
        "colab": {
          "base_uri": "https://localhost:8080/"
        },
        "id": "7PAN4_gh9r1o",
        "outputId": "0f11786a-5488-4df0-adc9-8eeca2844889"
      },
      "execution_count": null,
      "outputs": [
        {
          "output_type": "stream",
          "name": "stdout",
          "text": [
            "8 has occured 5 times\n"
          ]
        }
      ]
    },
    {
      "cell_type": "markdown",
      "source": [
        "##2) Python programs using Functions (Null 2)"
      ],
      "metadata": {
        "id": "ufnbbkXYFncU"
      }
    },
    {
      "cell_type": "markdown",
      "source": [
        "### Q27. Python Program for Find largest prime factor of a number."
      ],
      "metadata": {
        "id": "46UrCaTq_5yz"
      }
    },
    {
      "cell_type": "code",
      "source": [
        "import math \n",
        "def maxprimefactor (n):\n",
        "  maxprime = -1\n",
        "  while n% 2 == 0:\n",
        "    maxprime = 2\n",
        "    n >>= 1\n",
        "  for i in range (3, int(math.sqrt(n)) + 1, 2):\n",
        "    while n%i ==0:\n",
        "      maxprime = i\n",
        "      n = n/i\n",
        "  if n > 2:\n",
        "    maxprime = n\n",
        "  return int(maxprime)\n",
        "\n",
        "n= 17\n",
        "print(maxprimefactor(n))\n",
        "# Reference : geeks for geeks"
      ],
      "metadata": {
        "colab": {
          "base_uri": "https://localhost:8080/"
        },
        "id": "E6cz-BOBAKDQ",
        "outputId": "05a4f76e-53cb-45e6-e733-fd48d0ea693a"
      },
      "execution_count": null,
      "outputs": [
        {
          "output_type": "stream",
          "name": "stdout",
          "text": [
            "17\n"
          ]
        }
      ]
    },
    {
      "cell_type": "code",
      "source": [
        "def Largest_Prime_Factor(n):\n",
        "    return next(n // i for i in range(1, n) if n % i == 0 and is_prime(n // i))\n",
        "def is_prime(m):\n",
        "    return all(m % i for i in range(2, m - 1))\n",
        "print(Largest_Prime_Factor(200))\n",
        "# reference : https://www.w3resource.com/python-exercises/challenges/1/python-challenges-1-exercise-35.php"
      ],
      "metadata": {
        "colab": {
          "base_uri": "https://localhost:8080/"
        },
        "id": "50jZz6j5EVYE",
        "outputId": "cba1e8d4-79aa-4be5-9db6-dcfcfd7d3e0b"
      },
      "execution_count": null,
      "outputs": [
        {
          "output_type": "stream",
          "name": "stdout",
          "text": [
            "5\n"
          ]
        }
      ]
    },
    {
      "cell_type": "markdown",
      "source": [
        "### Q28. Python Program for Product of unique prime factors of a number."
      ],
      "metadata": {
        "id": "OZb9n0IOF4s1"
      }
    },
    {
      "cell_type": "code",
      "source": [
        "def productprimefactor(n):\n",
        "  product = 1\n",
        "  for i in range (2, n+1):\n",
        "    if (n%i == 0):\n",
        "      isprime = 1\n",
        "\n",
        "      for j in range (2, int(i/2 +1)):\n",
        "        if (i%j ==0):\n",
        "          isprime = 0\n",
        "          break\n",
        "\n",
        "      if (isprime):\n",
        "        product = product*i\n",
        "\n",
        "  return product\n",
        "\n",
        "n = 44\n",
        "print(productprimefactor(n))"
      ],
      "metadata": {
        "colab": {
          "base_uri": "https://localhost:8080/"
        },
        "id": "2MSQ4jGxFLjK",
        "outputId": "3a43348f-652b-4b5e-de23-5979ff8e8b6d"
      },
      "execution_count": null,
      "outputs": [
        {
          "output_type": "stream",
          "name": "stdout",
          "text": [
            "22\n"
          ]
        }
      ]
    },
    {
      "cell_type": "code",
      "source": [
        "# Python program to find product of\n",
        "# unique prime factors of a number\n",
        "\n",
        "import math\n",
        "\n",
        "def productPrimeFactors(n):\n",
        "\tproduct = 1\n",
        "\t\n",
        "\t# Handle prime factor 2 explicitly so that\n",
        "\t# can optimally handle other prime factors.\n",
        "\tif (n % 2 == 0):\n",
        "\t\tproduct *= 2\n",
        "\t\twhile (n%2 == 0):\n",
        "\t\t\tn = n/2\n",
        "\t\t\t\n",
        "\t# n must be odd at this point. So we can\n",
        "\t# skip one element (Note i = i +2)\n",
        "\tfor i in range (3, int(math.sqrt(n)), 2):\n",
        "\t\t# While i divides n, print i and\n",
        "\t\t# divide n\n",
        "\t\tif (n % i == 0):\n",
        "\t\t\tproduct = product * i\n",
        "\t\t\twhile (n%i == 0):\n",
        "\t\t\t\tn = n/i\n",
        "\t\t\t\t\n",
        "\t# This condition is to handle the case when n\n",
        "\t# is a prime number greater than 2\n",
        "\tif (n > 2):\n",
        "\t\tproduct = product * n\n",
        "\t\t\n",
        "\treturn product\t\n",
        "\t\n",
        "# main()\n",
        "n = 44\n",
        "print (int(productPrimeFactors(n)))\n",
        "\n",
        "# Contributed by _omg\n",
        "# Reference :https://www.geeksforgeeks.org/python-program-for-product-of-unique-prime-factors-of-a-number/"
      ],
      "metadata": {
        "colab": {
          "base_uri": "https://localhost:8080/"
        },
        "id": "X3YuiCOgIAAX",
        "outputId": "b9068ed7-706a-4326-c7f9-976798220e72"
      },
      "execution_count": null,
      "outputs": [
        {
          "output_type": "stream",
          "name": "stdout",
          "text": [
            "22\n"
          ]
        }
      ]
    },
    {
      "cell_type": "markdown",
      "source": [
        "### Q29. Python Program to find Factorial of Number."
      ],
      "metadata": {
        "id": "HLAhTTqVP464"
      }
    },
    {
      "cell_type": "code",
      "source": [
        "# Recursive\n",
        "def factorial(n):\n",
        "  return 1 if (n==1 or n==0) else n* factorial(n-1);\n",
        "\n",
        "n = 5;\n",
        "print('Factorial of', n, 'is', factorial(n))"
      ],
      "metadata": {
        "colab": {
          "base_uri": "https://localhost:8080/"
        },
        "id": "sDoyCrXQQdLB",
        "outputId": "876663b4-efde-4ce8-eaee-085aa73570e1"
      },
      "execution_count": null,
      "outputs": [
        {
          "output_type": "stream",
          "name": "stdout",
          "text": [
            "Factorial of 5 is 120\n"
          ]
        }
      ]
    },
    {
      "cell_type": "code",
      "source": [
        "# Iterative\n",
        "def factorial(n):\n",
        "  if n < 0:\n",
        "    return 0\n",
        "  elif n==0 or n==1:\n",
        "    return 1\n",
        "  else:\n",
        "    fact = 1\n",
        "    while (n > 1):\n",
        "      fact *= n\n",
        "      n -= 1\n",
        "    return fact\n",
        "\n",
        "n = 5 \n",
        "print(factorial(n))"
      ],
      "metadata": {
        "colab": {
          "base_uri": "https://localhost:8080/"
        },
        "id": "7udsqIEyRcLN",
        "outputId": "3a7658b2-6f6d-44c0-ac57-b00f4c3dc569"
      },
      "execution_count": null,
      "outputs": [
        {
          "output_type": "stream",
          "name": "stdout",
          "text": [
            "120\n"
          ]
        }
      ]
    },
    {
      "cell_type": "code",
      "source": [
        "# Python 3 program to find\n",
        "# factorial of given number\n",
        "\n",
        "def factorial(n):\n",
        "\n",
        "\t# single line to find factorial\n",
        "\treturn 1 if (n==1 or n==0) else n * factorial(n - 1)\n",
        "\n",
        "\n",
        "# Driver Code\n",
        "num = 5\n",
        "print (\"Factorial of\",num,\"is\",\n",
        "\tfactorial(num))\n",
        "\n",
        "# This code is contributed\n",
        "# by Smitha Dinesh Semwal."
      ],
      "metadata": {
        "colab": {
          "base_uri": "https://localhost:8080/"
        },
        "id": "tlBTdVxsUovR",
        "outputId": "2ca05290-2224-44d3-89fb-487bfdcb2d08"
      },
      "execution_count": null,
      "outputs": [
        {
          "output_type": "stream",
          "name": "stdout",
          "text": [
            "Factorial of 5 is 120\n"
          ]
        }
      ]
    },
    {
      "cell_type": "code",
      "source": [
        "# Python 3 program to find\n",
        "# factorial of given number\n",
        "import math\n",
        "\n",
        "def factorial(n):\n",
        "\treturn(math.factorial(n))\n",
        "\n",
        "\n",
        "# Driver Code\n",
        "num = 5\n",
        "print(\"Factorial of\", num, \"is\",\n",
        "\tfactorial(num))\n",
        "\n",
        "# This code is contributed by Ashutosh Pandit"
      ],
      "metadata": {
        "colab": {
          "base_uri": "https://localhost:8080/"
        },
        "id": "yrDOqqM1U45_",
        "outputId": "5b595189-6f2e-4617-da64-79b096b49555"
      },
      "execution_count": null,
      "outputs": [
        {
          "output_type": "stream",
          "name": "stdout",
          "text": [
            "Factorial of 5 is 120\n"
          ]
        }
      ]
    },
    {
      "cell_type": "markdown",
      "source": [
        "### Q30. Python Program for Find sum of odd factors of a number."
      ],
      "metadata": {
        "id": "ckByx3q0VXGm"
      }
    },
    {
      "cell_type": "code",
      "source": [
        "import math\n",
        "def sumofoddfactors(n):\n",
        "  res = 1\n",
        "  while n % 2 == 0:\n",
        "    n = n//2\n",
        "  for i in range(3, int(math.sqrt(n)+1)):\n",
        "    count = 0\n",
        "    curr_sum = 1\n",
        "    curr_term = 1\n",
        "    while n%i == 0:\n",
        "      count+=1\n",
        "      n = n//i\n",
        "      curr_term *= i\n",
        "      curr_sum += curr_term\n",
        "    res *= curr_sum\n",
        "\n",
        "  if n>= 2:\n",
        "    res *= (1+n)\n",
        "  return res\n",
        "\n",
        "n=30\n",
        "print(sumofoddfactors(n)) "
      ],
      "metadata": {
        "colab": {
          "base_uri": "https://localhost:8080/"
        },
        "id": "0Ac3FDz4U-Ax",
        "outputId": "8d686a12-638a-494c-9a16-0d57e519c69e"
      },
      "execution_count": null,
      "outputs": [
        {
          "output_type": "stream",
          "name": "stdout",
          "text": [
            "24\n"
          ]
        }
      ]
    },
    {
      "cell_type": "markdown",
      "source": [
        "### Q31. Python Program to Check if binary representation is a palindrome."
      ],
      "metadata": {
        "id": "y1xTN0VvfvBP"
      }
    },
    {
      "cell_type": "code",
      "source": [
        "def binarypalindrome(n):\n",
        "  binary = bin(n)\n",
        "  binary = binary[2:]\n",
        "  return binary == binary [-1::-1]\n",
        "\n",
        "if __name__ == '__main__':\n",
        "  n = 10\n",
        "print(binarypalindrome(n))"
      ],
      "metadata": {
        "colab": {
          "base_uri": "https://localhost:8080/"
        },
        "id": "QX-njL6idaAB",
        "outputId": "362e38e7-acc5-4323-bff1-467d94ce9178"
      },
      "execution_count": null,
      "outputs": [
        {
          "output_type": "stream",
          "name": "stdout",
          "text": [
            "False\n"
          ]
        }
      ]
    },
    {
      "cell_type": "code",
      "source": [
        "# Python Program to Check Whether the Binary Equivalent of a Given Number is Palindrome\n",
        " \n",
        "# take input the number user\n",
        "x=int(input('Enter a number: '))\n",
        " \n",
        "# converting to binary\n",
        "y=int(bin(x)[2:])\n",
        " \n",
        "# reversing the binary \n",
        "out=str(y)[::-1] \n",
        " \n",
        "print(\"The binary representation of number:\", y)\n",
        " \n",
        "# checking the palindrome\n",
        "if int(out)==y:\n",
        "    print(\"The binary representation of the number is a palindrome.\")\n",
        "else:\n",
        "    print(\"The binary representation of the number is not a palindrome.\")\n",
        "# reference: https://www.tutsmake.com/python-check-binary-representation-of-given-number-is-palindrome-or-not/"
      ],
      "metadata": {
        "colab": {
          "base_uri": "https://localhost:8080/"
        },
        "id": "w7MOnbx0kenj",
        "outputId": "e17634a9-bbaa-4f9f-8cc1-4d896a0bd38a"
      },
      "execution_count": null,
      "outputs": [
        {
          "output_type": "stream",
          "name": "stdout",
          "text": [
            "Enter a number: 25\n",
            "The binary representation of number: 11001\n",
            "The binary representation of the number is not a palindrome.\n"
          ]
        }
      ]
    },
    {
      "cell_type": "markdown",
      "source": [
        "### Q32. Python Program for Number of elements with odd factors in a given range."
      ],
      "metadata": {
        "id": "zPUkZIS9mzxY"
      }
    },
    {
      "cell_type": "code",
      "source": [
        "def countoddsquares(n,m):\n",
        "  return int(m**0.5) - int((n-1)**0.5)\n",
        "\n",
        "n= 5 \n",
        "m=100\n",
        "print('Count is',countoddsquares(n,m))\n",
        "# reference : https://www.geeksforgeeks.org/python-program-for-number-of-elements-with-odd-factors-in-given-range/"
      ],
      "metadata": {
        "colab": {
          "base_uri": "https://localhost:8080/"
        },
        "id": "M4hFOhozo6XI",
        "outputId": "b57bd79c-b1b2-490b-f512-61888a98ffd3"
      },
      "execution_count": null,
      "outputs": [
        {
          "output_type": "stream",
          "name": "stdout",
          "text": [
            "Count is 8\n"
          ]
        }
      ]
    },
    {
      "cell_type": "markdown",
      "source": [
        "### Q33. Python Program for Common Divisors of Two Numbers."
      ],
      "metadata": {
        "id": "HBqdH01dq586"
      }
    },
    {
      "cell_type": "code",
      "source": [
        "a = 12\n",
        "b = 24\n",
        "n = 0\n",
        "for i in range(1, min(a,b)+1):\n",
        "  if a%i==b%i==0:\n",
        "    n+=1\n",
        "print(n)\n"
      ],
      "metadata": {
        "colab": {
          "base_uri": "https://localhost:8080/"
        },
        "id": "nLnji2OLqUEB",
        "outputId": "a7b3f53f-2fa1-4a99-fb3c-6c48c31bc604"
      },
      "execution_count": null,
      "outputs": [
        {
          "output_type": "stream",
          "name": "stdout",
          "text": [
            "6\n"
          ]
        }
      ]
    },
    {
      "cell_type": "code",
      "source": [
        "# with user input\n",
        "num1 = int(input(\"ENTER FIRST NUMBER : \"))\n",
        "num2 = int(input(\"ENTER SECOND NUMBER : \"))\n",
        "divisor = 0\n",
        "print(\"THE COMMON DIVISORS OF NUMBER \",num1,\" AND \",num2,\" ARE -\")\n",
        "for i in range(1,min(num1,num2)+1):\n",
        "  if num1%i == num2%i == 0:\n",
        "    divisor = i\n",
        "    print(divisor)\n",
        "#reference : https://www.codespeedy.com/find-common-divisors-of-two-numbers-using-python/"
      ],
      "metadata": {
        "colab": {
          "base_uri": "https://localhost:8080/"
        },
        "id": "C0zAHh0crzYQ",
        "outputId": "b635dfa6-8572-4328-d257-d0573949449a"
      },
      "execution_count": null,
      "outputs": [
        {
          "output_type": "stream",
          "name": "stdout",
          "text": [
            "ENTER FIRST NUMBER : 12\n",
            "ENTER SECOND NUMBER : 4\n",
            "THE COMMON DIVISORS OF NUMBER  12  AND  4  ARE -\n",
            "1\n",
            "2\n",
            "4\n"
          ]
        }
      ]
    },
    {
      "cell_type": "markdown",
      "source": [
        "### Q34. Python Program to Check if a count of divisors is even or odd."
      ],
      "metadata": {
        "id": "PrbkadG6sgYk"
      }
    },
    {
      "cell_type": "code",
      "source": [
        "import math\n",
        "def countdivisior(n):\n",
        "  count = 0\n",
        "  for i in range(1, (int)(math.sqrt(n))+2):\n",
        "    if (n%i == 0):\n",
        "      if(n//i == i):\n",
        "        count = count +1\n",
        "      else:\n",
        "        count = count+2\n",
        "  if (count %2 == 0):\n",
        "    print('Even')\n",
        "  else:\n",
        "    print('Odd')\n",
        "\n",
        "print('The count of divisor :')\n",
        "countdivisior(15)"
      ],
      "metadata": {
        "colab": {
          "base_uri": "https://localhost:8080/"
        },
        "id": "1D4shR8ssQub",
        "outputId": "43df1149-1bdc-484e-8749-9b3a9f1b7516"
      },
      "execution_count": null,
      "outputs": [
        {
          "output_type": "stream",
          "name": "stdout",
          "text": [
            "The count of divisor :\n",
            "Even\n"
          ]
        }
      ]
    },
    {
      "cell_type": "code",
      "source": [
        "# Python program for\n",
        "# Efficient Solution to find\n",
        "# find if count of divisors\n",
        "# is even or odd\n",
        "\n",
        "# Python program for\n",
        "# Efficient Solution to find\n",
        "# find if count of divisors\n",
        "# is even or odd\n",
        "\n",
        "def NumOfDivisor(n):\n",
        "\tif n < 1:\n",
        "\t\treturn\n",
        "\troot_n = n**0.5\n",
        "\t\n",
        "\t# If n is a perfect square,\n",
        "\t# then it has odd divisors\n",
        "\tif root_n**2 == n:\n",
        "\t\tprint(\"Odd\")\n",
        "\telse:\n",
        "\t\tprint(\"Even\")\n",
        "\t\t\n",
        "# Driver code\t\n",
        "if __name__ == '__main__':\n",
        "\tprint(\"The count of divisor\"+\n",
        "\t\t\"of 10 is: \")\n",
        "\tNumOfDivisor(10)\n",
        "\t\n",
        "# This code is contributed by Yt R\n",
        "# reference : https://www.geeksforgeeks.org/python-program-for-check-if-count-of-divisors-is-even-or-odd/"
      ],
      "metadata": {
        "colab": {
          "base_uri": "https://localhost:8080/"
        },
        "id": "1hv9nRZWvnWh",
        "outputId": "65d529ab-75d6-40f2-9c1d-7f5c10707bcc"
      },
      "execution_count": null,
      "outputs": [
        {
          "output_type": "stream",
          "name": "stdout",
          "text": [
            "The count of divisorof 10 is: \n",
            "Even\n"
          ]
        }
      ]
    },
    {
      "cell_type": "markdown",
      "source": [
        "### Q35. Python Program to Find the minimum sum of factors of a number."
      ],
      "metadata": {
        "id": "W2KO-g641BBi"
      }
    },
    {
      "cell_type": "code",
      "source": [
        "def findminsum(num):\n",
        "  sum = 0\n",
        "  i = 2\n",
        "  while(i*i <= num):\n",
        "    while(num%i == 0):\n",
        "      sum += i\n",
        "      num //= i\n",
        "    i += 1\n",
        "  sum += num\n",
        "  return sum\n",
        "\n",
        "num =12 \n",
        "print(findminsum(num))\n",
        "# reference: https://www.geeksforgeeks.org/find-minimum-sum-factors-number/"
      ],
      "metadata": {
        "colab": {
          "base_uri": "https://localhost:8080/"
        },
        "id": "QnaB6mWu1EZv",
        "outputId": "007be634-7a96-4360-c4f6-09ec6379ca9c"
      },
      "execution_count": null,
      "outputs": [
        {
          "output_type": "stream",
          "name": "stdout",
          "text": [
            "7\n"
          ]
        }
      ]
    },
    {
      "cell_type": "markdown",
      "source": [
        "### Q36. Python Program to find Difference between sums of odd and even digits."
      ],
      "metadata": {
        "id": "G-P2eAws6n2z"
      }
    },
    {
      "cell_type": "code",
      "source": [
        "#This can be easily solved using divisibility of 11.\n",
        "#This condition is only satisfied if the number is divisible by 11. So check the number is divisible by 11 or not.\n",
        "def isdiff(n):\n",
        "  return (n%11 ==0)\n",
        "\n",
        "n=1122336656\n",
        "if (isdiff(n)):\n",
        "  print('Yes')\n",
        "else:\n",
        "  print('No')\n",
        "\n",
        "# reference: https://www.geeksforgeeks.org/python-program-for-difference-between-sums-of-odd-and-even-digits/"
      ],
      "metadata": {
        "colab": {
          "base_uri": "https://localhost:8080/"
        },
        "id": "d7cKSpNm23GB",
        "outputId": "b63aa4a6-1c66-48fb-f638-f30368f990b7"
      },
      "execution_count": null,
      "outputs": [
        {
          "output_type": "stream",
          "name": "stdout",
          "text": [
            "No\n"
          ]
        }
      ]
    },
    {
      "cell_type": "markdown",
      "source": [
        "### Q37. Python Program for Largest and Smallest K digit number divisible by X."
      ],
      "metadata": {
        "id": "qGR7dxIl8cCc"
      }
    },
    {
      "cell_type": "code",
      "source": [
        "def ans(x,k):\n",
        "  min = pow(10, k-1)\n",
        "  if (min%x == 0):\n",
        "    return min\n",
        "  else:\n",
        "    return ((min + x) - ((min + x)%x))\n",
        "\n",
        "x = 83;\n",
        "k = 5;\n",
        "print(ans(x,k))"
      ],
      "metadata": {
        "colab": {
          "base_uri": "https://localhost:8080/"
        },
        "id": "LATk-ert73ww",
        "outputId": "9093eb22-5d94-4876-9971-9929e3ce4732"
      },
      "execution_count": null,
      "outputs": [
        {
          "output_type": "stream",
          "name": "stdout",
          "text": [
            "10043\n"
          ]
        }
      ]
    },
    {
      "cell_type": "markdown",
      "source": [
        "### Q38.Python Program to calculate the area of a Tetrahedron."
      ],
      "metadata": {
        "id": "-1Q8U05WBAi1"
      }
    },
    {
      "cell_type": "code",
      "source": [
        "import math\n",
        "def areaoftetrahedron(side):\n",
        "  return (math.sqrt(3) * (side*side))\n",
        "\n",
        "side = 3\n",
        "print('Area of Tetrahedron = ', areaoftetrahedron(side))\n",
        "# Reference :https://www.geeksforgeeks.org/program-to-calculate-area-of-a-tetrahedron/"
      ],
      "metadata": {
        "colab": {
          "base_uri": "https://localhost:8080/"
        },
        "id": "t7zl2GUf-VgS",
        "outputId": "d5bc7fc2-c85c-49af-845c-b21d1876b8ee"
      },
      "execution_count": null,
      "outputs": [
        {
          "output_type": "stream",
          "name": "stdout",
          "text": [
            "Area of Tetrahedron =  15.588457268119894\n"
          ]
        }
      ]
    },
    {
      "cell_type": "markdown",
      "source": [
        "### Q39. Python Program to Find the perimeter of a cylinder."
      ],
      "metadata": {
        "id": "Po9vHVRrCzKk"
      }
    },
    {
      "cell_type": "code",
      "source": [
        "def perimeter(diameter,height):\n",
        "  return 2* (diameter + height)\n",
        "\n",
        "diameter = 5\n",
        "height = 10\n",
        "print('Perimeter is', perimeter(diameter,height))"
      ],
      "metadata": {
        "colab": {
          "base_uri": "https://localhost:8080/"
        },
        "id": "iUlH1-MoCV_-",
        "outputId": "0ee531d8-1179-4d5c-e2c8-4d6c1fd9c3bb"
      },
      "execution_count": null,
      "outputs": [
        {
          "output_type": "stream",
          "name": "stdout",
          "text": [
            "Perimeter is 30\n"
          ]
        }
      ]
    },
    {
      "cell_type": "markdown",
      "source": [
        "### Q40. Python Program to Find the vertex, focus, and directrix of a parabola.\n"
      ],
      "metadata": {
        "id": "0uaMDa-3ZNzT"
      }
    },
    {
      "cell_type": "code",
      "source": [
        "def parabola(a,b,c):\n",
        "  print(\"Vertex: (\", (-b/(2*a)), ',', (((4*a*c) - (b*b)) / (4*a)),')')\n",
        "  print(\"Focus: (\", (-b/(2*a)), ',', (((4*a*c) - (b*b)+1) / (4*a)),')')\n",
        "  print(\"Directrix: y=\", (int)(c - ((b*b)+1)*4*a))\n",
        "\n",
        "a= 5\n",
        "b= 3\n",
        "c= 2\n",
        "parabola(a,b,c)"
      ],
      "metadata": {
        "colab": {
          "base_uri": "https://localhost:8080/"
        },
        "id": "RkoBQ1_hOo0D",
        "outputId": "3040dc73-860d-4801-d8cb-e019c112ec11"
      },
      "execution_count": null,
      "outputs": [
        {
          "output_type": "stream",
          "name": "stdout",
          "text": [
            "Vertex: ( -0.3 , 1.55 )\n",
            "Focus: ( -0.3 , 1.6 )\n",
            "Directrix: y= -198\n"
          ]
        }
      ]
    },
    {
      "cell_type": "markdown",
      "source": [
        "### Q41. Python program to find the most occurring character and its count."
      ],
      "metadata": {
        "id": "a28jbHcaca5q"
      }
    },
    {
      "cell_type": "code",
      "source": [
        "import collections\n",
        "s = \"helloworld\"\n",
        "print(collections.Counter(s).most_common(1)[0])\n",
        "# reference : https://stackoverflow.com/questions/4131123/finding-the-most-frequent-character-in-a-string"
      ],
      "metadata": {
        "colab": {
          "base_uri": "https://localhost:8080/"
        },
        "id": "hRnWL9QEpPWS",
        "outputId": "e4ec42f5-674c-4b5e-d88b-6e0599e95eec"
      },
      "execution_count": null,
      "outputs": [
        {
          "output_type": "stream",
          "name": "stdout",
          "text": [
            "('l', 3)\n"
          ]
        }
      ]
    },
    {
      "cell_type": "markdown",
      "source": [
        "### Q42. Python Program to Find the sum of even factors of a number."
      ],
      "metadata": {
        "id": "GnC5ZpKGq4Vt"
      }
    },
    {
      "cell_type": "code",
      "source": [
        "import math\n",
        "def sumoffactors(n):\n",
        "  if (n%2 != 0):\n",
        "    return 0\n",
        "  res = 1\n",
        "  for i in range(2,(int)(math.sqrt(n)) +1):\n",
        "    count = 0\n",
        "    curr_sum = 1\n",
        "    curr_term = 1\n",
        "    while(n%i ==0):\n",
        "      count = count+ 1\n",
        "      n = n // i\n",
        "      if ( i==2 and count ==1):\n",
        "        curr_sum =0\n",
        "      curr_term = curr_term *i\n",
        "      curr_sum = curr_sum + curr_term\n",
        "    res = res * curr_sum\n",
        "  \n",
        "  if (n>= 2):\n",
        "    res = res *(1+n)\n",
        "  return res \n",
        "\n",
        "n = 18\n",
        "print(sumoffactors(n))\n",
        "# reference : https://www.geeksforgeeks.org/python-program-for-find-sum-of-even-factors-of-a-number/"
      ],
      "metadata": {
        "colab": {
          "base_uri": "https://localhost:8080/"
        },
        "id": "c9yBftmRqj8k",
        "outputId": "3a94bc40-b63b-4fde-8a7e-1ea9093110cb"
      },
      "execution_count": null,
      "outputs": [
        {
          "output_type": "stream",
          "name": "stdout",
          "text": [
            "26\n"
          ]
        }
      ]
    },
    {
      "cell_type": "markdown",
      "source": [
        "### Q43. Python Program to Check if all digits of a number divide it."
      ],
      "metadata": {
        "id": "iZeU_zJsupVH"
      }
    },
    {
      "cell_type": "code",
      "source": [
        "def checkdivisibility(n,digit):\n",
        "  return (digit != 0 and n%digit == 0)\n",
        "\n",
        "def alldigitdivive(n):\n",
        "  temp = n\n",
        "  while (temp > 0):\n",
        "    digit = temp%10\n",
        "    if (checkdivisibility(n,digit) == False):\n",
        "      return False\n",
        "    temp = temp // 10\n",
        "  return True\n",
        "\n",
        "n= 120\n",
        "if (alldigitdivive(n)):\n",
        "  print('Yes')\n",
        "else:\n",
        "  print('No')\n",
        "# reference : geeks for geeks"
      ],
      "metadata": {
        "colab": {
          "base_uri": "https://localhost:8080/"
        },
        "id": "WDQvbNFPuB3k",
        "outputId": "fd5c4623-194d-4e66-cbba-e1bf4e8e9e17"
      },
      "execution_count": null,
      "outputs": [
        {
          "output_type": "stream",
          "name": "stdout",
          "text": [
            "No\n"
          ]
        }
      ]
    },
    {
      "cell_type": "markdown",
      "source": [
        "### Q44. Python program to convert float decimal to Octal number."
      ],
      "metadata": {
        "id": "bCiILY53EdYE"
      }
    },
    {
      "cell_type": "code",
      "source": [
        "def floatoctalnum(number,places=3):\n",
        "  whole,dec = str(number).split('.')\n",
        "  whole = int(whole)\n",
        "  dec = int(dec)\n",
        "  res = oct(whole).lstrip('0o') + '.'\n",
        "  for x in range(places):\n",
        "    whole,dec = str((decimal_converter(dec))*8).split('.')\n",
        "    dec = int(dec)\n",
        "    res += whole\n",
        "  return res\n",
        "\n",
        "def decimal_converter(num):\n",
        "  while num >1:\n",
        "    num /=10\n",
        "  return num\n",
        "\n",
        "n = input('Enter your floating point value: \\n')\n",
        "p = int(input('Enter the number of decimal places of the result: \\n'))\n",
        "print(floatoctalnum(n, places = p))"
      ],
      "metadata": {
        "colab": {
          "base_uri": "https://localhost:8080/"
        },
        "id": "G6YY3a-VDhgG",
        "outputId": "e60307a2-e648-4d08-a641-d988d888b690"
      },
      "execution_count": null,
      "outputs": [
        {
          "output_type": "stream",
          "name": "stdout",
          "text": [
            "Enter your floating point value: \n",
            "7.16\n",
            "Enter the number of decimal places of the result: \n",
            "10\n",
            "7.1217273146\n"
          ]
        }
      ]
    },
    {
      "cell_type": "markdown",
      "source": [
        "### Q45. Python program to copy odd lines of one file to other."
      ],
      "metadata": {
        "id": "Zo9Xm5h2ObtD"
      }
    },
    {
      "cell_type": "code",
      "source": [
        "import pandas as pd"
      ],
      "metadata": {
        "id": "g13lMzOtCByZ"
      },
      "execution_count": null,
      "outputs": []
    },
    {
      "cell_type": "code",
      "source": [
        "from google.colab import drive\n",
        "drive.mount('/content/drive')"
      ],
      "metadata": {
        "colab": {
          "base_uri": "https://localhost:8080/"
        },
        "id": "PUiO8MuO-zia",
        "outputId": "8337910e-187b-408c-86df-8e15462b6e67"
      },
      "execution_count": null,
      "outputs": [
        {
          "output_type": "stream",
          "name": "stdout",
          "text": [
            "Mounted at /content/drive\n"
          ]
        }
      ]
    },
    {
      "cell_type": "code",
      "source": [
        "data = pd.read_csv(\"/content/drive/MyDrive/Projects/Capstone Projects/New folder/bcd.txt\")\n",
        "data1 = pd.read_csv(\"/content/drive/MyDrive/Projects/Capstone Projects/New folder/nfile.txt\")"
      ],
      "metadata": {
        "colab": {
          "base_uri": "https://localhost:8080/",
          "height": 241
        },
        "id": "97TFDOFg_ILP",
        "outputId": "63fc1003-1ddc-40b8-e86a-9f93f4e5d0ac"
      },
      "execution_count": null,
      "outputs": [
        {
          "output_type": "error",
          "ename": "EmptyDataError",
          "evalue": "ignored",
          "traceback": [
            "\u001b[0;31m---------------------------------------------------------------------------\u001b[0m",
            "\u001b[0;31mEmptyDataError\u001b[0m                            Traceback (most recent call last)",
            "\u001b[0;32m<ipython-input-12-d89ebb1ed70f>\u001b[0m in \u001b[0;36m<module>\u001b[0;34m()\u001b[0m\n\u001b[1;32m      1\u001b[0m \u001b[0mdata\u001b[0m \u001b[0;34m=\u001b[0m \u001b[0mpd\u001b[0m\u001b[0;34m.\u001b[0m\u001b[0mread_csv\u001b[0m\u001b[0;34m(\u001b[0m\u001b[0;34m\"/content/drive/MyDrive/Projects/Capstone Projects/New folder/bcd.txt\"\u001b[0m\u001b[0;34m)\u001b[0m\u001b[0;34m\u001b[0m\u001b[0;34m\u001b[0m\u001b[0m\n\u001b[0;32m----> 2\u001b[0;31m \u001b[0mdata1\u001b[0m \u001b[0;34m=\u001b[0m \u001b[0mpd\u001b[0m\u001b[0;34m.\u001b[0m\u001b[0mread_csv\u001b[0m\u001b[0;34m(\u001b[0m\u001b[0;34m\"/content/drive/MyDrive/Projects/Capstone Projects/New folder/nfile.txt\"\u001b[0m\u001b[0;34m)\u001b[0m\u001b[0;34m\u001b[0m\u001b[0;34m\u001b[0m\u001b[0m\n\u001b[0m",
            "\u001b[0;32m/usr/local/lib/python3.7/dist-packages/pandas/util/_decorators.py\u001b[0m in \u001b[0;36mwrapper\u001b[0;34m(*args, **kwargs)\u001b[0m\n\u001b[1;32m    309\u001b[0m                     \u001b[0mstacklevel\u001b[0m\u001b[0;34m=\u001b[0m\u001b[0mstacklevel\u001b[0m\u001b[0;34m,\u001b[0m\u001b[0;34m\u001b[0m\u001b[0;34m\u001b[0m\u001b[0m\n\u001b[1;32m    310\u001b[0m                 )\n\u001b[0;32m--> 311\u001b[0;31m             \u001b[0;32mreturn\u001b[0m \u001b[0mfunc\u001b[0m\u001b[0;34m(\u001b[0m\u001b[0;34m*\u001b[0m\u001b[0margs\u001b[0m\u001b[0;34m,\u001b[0m \u001b[0;34m**\u001b[0m\u001b[0mkwargs\u001b[0m\u001b[0;34m)\u001b[0m\u001b[0;34m\u001b[0m\u001b[0;34m\u001b[0m\u001b[0m\n\u001b[0m\u001b[1;32m    312\u001b[0m \u001b[0;34m\u001b[0m\u001b[0m\n\u001b[1;32m    313\u001b[0m         \u001b[0;32mreturn\u001b[0m \u001b[0mwrapper\u001b[0m\u001b[0;34m\u001b[0m\u001b[0;34m\u001b[0m\u001b[0m\n",
            "\u001b[0;32m/usr/local/lib/python3.7/dist-packages/pandas/io/parsers/readers.py\u001b[0m in \u001b[0;36mread_csv\u001b[0;34m(filepath_or_buffer, sep, delimiter, header, names, index_col, usecols, squeeze, prefix, mangle_dupe_cols, dtype, engine, converters, true_values, false_values, skipinitialspace, skiprows, skipfooter, nrows, na_values, keep_default_na, na_filter, verbose, skip_blank_lines, parse_dates, infer_datetime_format, keep_date_col, date_parser, dayfirst, cache_dates, iterator, chunksize, compression, thousands, decimal, lineterminator, quotechar, quoting, doublequote, escapechar, comment, encoding, encoding_errors, dialect, error_bad_lines, warn_bad_lines, on_bad_lines, delim_whitespace, low_memory, memory_map, float_precision, storage_options)\u001b[0m\n\u001b[1;32m    584\u001b[0m     \u001b[0mkwds\u001b[0m\u001b[0;34m.\u001b[0m\u001b[0mupdate\u001b[0m\u001b[0;34m(\u001b[0m\u001b[0mkwds_defaults\u001b[0m\u001b[0;34m)\u001b[0m\u001b[0;34m\u001b[0m\u001b[0;34m\u001b[0m\u001b[0m\n\u001b[1;32m    585\u001b[0m \u001b[0;34m\u001b[0m\u001b[0m\n\u001b[0;32m--> 586\u001b[0;31m     \u001b[0;32mreturn\u001b[0m \u001b[0m_read\u001b[0m\u001b[0;34m(\u001b[0m\u001b[0mfilepath_or_buffer\u001b[0m\u001b[0;34m,\u001b[0m \u001b[0mkwds\u001b[0m\u001b[0;34m)\u001b[0m\u001b[0;34m\u001b[0m\u001b[0;34m\u001b[0m\u001b[0m\n\u001b[0m\u001b[1;32m    587\u001b[0m \u001b[0;34m\u001b[0m\u001b[0m\n\u001b[1;32m    588\u001b[0m \u001b[0;34m\u001b[0m\u001b[0m\n",
            "\u001b[0;32m/usr/local/lib/python3.7/dist-packages/pandas/io/parsers/readers.py\u001b[0m in \u001b[0;36m_read\u001b[0;34m(filepath_or_buffer, kwds)\u001b[0m\n\u001b[1;32m    480\u001b[0m \u001b[0;34m\u001b[0m\u001b[0m\n\u001b[1;32m    481\u001b[0m     \u001b[0;31m# Create the parser.\u001b[0m\u001b[0;34m\u001b[0m\u001b[0;34m\u001b[0m\u001b[0;34m\u001b[0m\u001b[0m\n\u001b[0;32m--> 482\u001b[0;31m     \u001b[0mparser\u001b[0m \u001b[0;34m=\u001b[0m \u001b[0mTextFileReader\u001b[0m\u001b[0;34m(\u001b[0m\u001b[0mfilepath_or_buffer\u001b[0m\u001b[0;34m,\u001b[0m \u001b[0;34m**\u001b[0m\u001b[0mkwds\u001b[0m\u001b[0;34m)\u001b[0m\u001b[0;34m\u001b[0m\u001b[0;34m\u001b[0m\u001b[0m\n\u001b[0m\u001b[1;32m    483\u001b[0m \u001b[0;34m\u001b[0m\u001b[0m\n\u001b[1;32m    484\u001b[0m     \u001b[0;32mif\u001b[0m \u001b[0mchunksize\u001b[0m \u001b[0;32mor\u001b[0m \u001b[0miterator\u001b[0m\u001b[0;34m:\u001b[0m\u001b[0;34m\u001b[0m\u001b[0;34m\u001b[0m\u001b[0m\n",
            "\u001b[0;32m/usr/local/lib/python3.7/dist-packages/pandas/io/parsers/readers.py\u001b[0m in \u001b[0;36m__init__\u001b[0;34m(self, f, engine, **kwds)\u001b[0m\n\u001b[1;32m    809\u001b[0m             \u001b[0mself\u001b[0m\u001b[0;34m.\u001b[0m\u001b[0moptions\u001b[0m\u001b[0;34m[\u001b[0m\u001b[0;34m\"has_index_names\"\u001b[0m\u001b[0;34m]\u001b[0m \u001b[0;34m=\u001b[0m \u001b[0mkwds\u001b[0m\u001b[0;34m[\u001b[0m\u001b[0;34m\"has_index_names\"\u001b[0m\u001b[0;34m]\u001b[0m\u001b[0;34m\u001b[0m\u001b[0;34m\u001b[0m\u001b[0m\n\u001b[1;32m    810\u001b[0m \u001b[0;34m\u001b[0m\u001b[0m\n\u001b[0;32m--> 811\u001b[0;31m         \u001b[0mself\u001b[0m\u001b[0;34m.\u001b[0m\u001b[0m_engine\u001b[0m \u001b[0;34m=\u001b[0m \u001b[0mself\u001b[0m\u001b[0;34m.\u001b[0m\u001b[0m_make_engine\u001b[0m\u001b[0;34m(\u001b[0m\u001b[0mself\u001b[0m\u001b[0;34m.\u001b[0m\u001b[0mengine\u001b[0m\u001b[0;34m)\u001b[0m\u001b[0;34m\u001b[0m\u001b[0;34m\u001b[0m\u001b[0m\n\u001b[0m\u001b[1;32m    812\u001b[0m \u001b[0;34m\u001b[0m\u001b[0m\n\u001b[1;32m    813\u001b[0m     \u001b[0;32mdef\u001b[0m \u001b[0mclose\u001b[0m\u001b[0;34m(\u001b[0m\u001b[0mself\u001b[0m\u001b[0;34m)\u001b[0m\u001b[0;34m:\u001b[0m\u001b[0;34m\u001b[0m\u001b[0;34m\u001b[0m\u001b[0m\n",
            "\u001b[0;32m/usr/local/lib/python3.7/dist-packages/pandas/io/parsers/readers.py\u001b[0m in \u001b[0;36m_make_engine\u001b[0;34m(self, engine)\u001b[0m\n\u001b[1;32m   1038\u001b[0m             )\n\u001b[1;32m   1039\u001b[0m         \u001b[0;31m# error: Too many arguments for \"ParserBase\"\u001b[0m\u001b[0;34m\u001b[0m\u001b[0;34m\u001b[0m\u001b[0;34m\u001b[0m\u001b[0m\n\u001b[0;32m-> 1040\u001b[0;31m         \u001b[0;32mreturn\u001b[0m \u001b[0mmapping\u001b[0m\u001b[0;34m[\u001b[0m\u001b[0mengine\u001b[0m\u001b[0;34m]\u001b[0m\u001b[0;34m(\u001b[0m\u001b[0mself\u001b[0m\u001b[0;34m.\u001b[0m\u001b[0mf\u001b[0m\u001b[0;34m,\u001b[0m \u001b[0;34m**\u001b[0m\u001b[0mself\u001b[0m\u001b[0;34m.\u001b[0m\u001b[0moptions\u001b[0m\u001b[0;34m)\u001b[0m  \u001b[0;31m# type: ignore[call-arg]\u001b[0m\u001b[0;34m\u001b[0m\u001b[0;34m\u001b[0m\u001b[0m\n\u001b[0m\u001b[1;32m   1041\u001b[0m \u001b[0;34m\u001b[0m\u001b[0m\n\u001b[1;32m   1042\u001b[0m     \u001b[0;32mdef\u001b[0m \u001b[0m_failover_to_python\u001b[0m\u001b[0;34m(\u001b[0m\u001b[0mself\u001b[0m\u001b[0;34m)\u001b[0m\u001b[0;34m:\u001b[0m\u001b[0;34m\u001b[0m\u001b[0;34m\u001b[0m\u001b[0m\n",
            "\u001b[0;32m/usr/local/lib/python3.7/dist-packages/pandas/io/parsers/c_parser_wrapper.py\u001b[0m in \u001b[0;36m__init__\u001b[0;34m(self, src, **kwds)\u001b[0m\n\u001b[1;32m     67\u001b[0m         \u001b[0mkwds\u001b[0m\u001b[0;34m[\u001b[0m\u001b[0;34m\"dtype\"\u001b[0m\u001b[0;34m]\u001b[0m \u001b[0;34m=\u001b[0m \u001b[0mensure_dtype_objs\u001b[0m\u001b[0;34m(\u001b[0m\u001b[0mkwds\u001b[0m\u001b[0;34m.\u001b[0m\u001b[0mget\u001b[0m\u001b[0;34m(\u001b[0m\u001b[0;34m\"dtype\"\u001b[0m\u001b[0;34m,\u001b[0m \u001b[0;32mNone\u001b[0m\u001b[0;34m)\u001b[0m\u001b[0;34m)\u001b[0m\u001b[0;34m\u001b[0m\u001b[0;34m\u001b[0m\u001b[0m\n\u001b[1;32m     68\u001b[0m         \u001b[0;32mtry\u001b[0m\u001b[0;34m:\u001b[0m\u001b[0;34m\u001b[0m\u001b[0;34m\u001b[0m\u001b[0m\n\u001b[0;32m---> 69\u001b[0;31m             \u001b[0mself\u001b[0m\u001b[0;34m.\u001b[0m\u001b[0m_reader\u001b[0m \u001b[0;34m=\u001b[0m \u001b[0mparsers\u001b[0m\u001b[0;34m.\u001b[0m\u001b[0mTextReader\u001b[0m\u001b[0;34m(\u001b[0m\u001b[0mself\u001b[0m\u001b[0;34m.\u001b[0m\u001b[0mhandles\u001b[0m\u001b[0;34m.\u001b[0m\u001b[0mhandle\u001b[0m\u001b[0;34m,\u001b[0m \u001b[0;34m**\u001b[0m\u001b[0mkwds\u001b[0m\u001b[0;34m)\u001b[0m\u001b[0;34m\u001b[0m\u001b[0;34m\u001b[0m\u001b[0m\n\u001b[0m\u001b[1;32m     70\u001b[0m         \u001b[0;32mexcept\u001b[0m \u001b[0mException\u001b[0m\u001b[0;34m:\u001b[0m\u001b[0;34m\u001b[0m\u001b[0;34m\u001b[0m\u001b[0m\n\u001b[1;32m     71\u001b[0m             \u001b[0mself\u001b[0m\u001b[0;34m.\u001b[0m\u001b[0mhandles\u001b[0m\u001b[0;34m.\u001b[0m\u001b[0mclose\u001b[0m\u001b[0;34m(\u001b[0m\u001b[0;34m)\u001b[0m\u001b[0;34m\u001b[0m\u001b[0;34m\u001b[0m\u001b[0m\n",
            "\u001b[0;32m/usr/local/lib/python3.7/dist-packages/pandas/_libs/parsers.pyx\u001b[0m in \u001b[0;36mpandas._libs.parsers.TextReader.__cinit__\u001b[0;34m()\u001b[0m\n",
            "\u001b[0;31mEmptyDataError\u001b[0m: No columns to parse from file"
          ]
        }
      ]
    },
    {
      "cell_type": "code",
      "source": [
        "print(data)"
      ],
      "metadata": {
        "colab": {
          "base_uri": "https://localhost:8080/"
        },
        "id": "7ju5DEaOCPeY",
        "outputId": "5b9884fd-01f6-48e3-c0ad-dc15456b4529"
      },
      "execution_count": null,
      "outputs": [
        {
          "output_type": "stream",
          "name": "stdout",
          "text": [
            "    line 1\n",
            "0  line 2 \n",
            "1  line 3 \n",
            "2  line 4 \n",
            "3   line 5\n"
          ]
        }
      ]
    },
    {
      "cell_type": "code",
      "source": [
        "fn = ('data','r')\n",
        "fn1 = ('data1.txt','w')\n",
        "cont = fn.readlines()\n",
        "type(cont)\n",
        "for i in range(0,len(cont)):\n",
        "  if (i%2 != 0):\n",
        "    fn1.write(cont[i])\n",
        "  else:\n",
        "    pass \n",
        "  fn1.close()\n",
        "  fn1 = open ('nfile.txt','r')\n",
        "  cont1 = fn1.read()\n",
        "  print(cont1)\n",
        "  fn.close()\n",
        "  fn1.close()"
      ],
      "metadata": {
        "colab": {
          "base_uri": "https://localhost:8080/",
          "height": 235
        },
        "id": "vm1uMlGaN_ir",
        "outputId": "cd340797-35b7-4d1e-bbaa-8f5ea217a909"
      },
      "execution_count": null,
      "outputs": [
        {
          "output_type": "error",
          "ename": "AttributeError",
          "evalue": "ignored",
          "traceback": [
            "\u001b[0;31m---------------------------------------------------------------------------\u001b[0m",
            "\u001b[0;31mAttributeError\u001b[0m                            Traceback (most recent call last)",
            "\u001b[0;32m<ipython-input-10-fd211cb10279>\u001b[0m in \u001b[0;36m<module>\u001b[0;34m()\u001b[0m\n\u001b[1;32m      1\u001b[0m \u001b[0mfn\u001b[0m \u001b[0;34m=\u001b[0m \u001b[0;34m(\u001b[0m\u001b[0;34m'data'\u001b[0m\u001b[0;34m,\u001b[0m\u001b[0;34m'r'\u001b[0m\u001b[0;34m)\u001b[0m\u001b[0;34m\u001b[0m\u001b[0;34m\u001b[0m\u001b[0m\n\u001b[1;32m      2\u001b[0m \u001b[0mfn1\u001b[0m \u001b[0;34m=\u001b[0m \u001b[0mopen\u001b[0m\u001b[0;34m(\u001b[0m\u001b[0;34m'nfile.txt'\u001b[0m\u001b[0;34m,\u001b[0m\u001b[0;34m'w'\u001b[0m\u001b[0;34m)\u001b[0m\u001b[0;34m\u001b[0m\u001b[0;34m\u001b[0m\u001b[0m\n\u001b[0;32m----> 3\u001b[0;31m \u001b[0mcont\u001b[0m \u001b[0;34m=\u001b[0m \u001b[0mfn\u001b[0m\u001b[0;34m.\u001b[0m\u001b[0mreadlines\u001b[0m\u001b[0;34m(\u001b[0m\u001b[0;34m)\u001b[0m\u001b[0;34m\u001b[0m\u001b[0;34m\u001b[0m\u001b[0m\n\u001b[0m\u001b[1;32m      4\u001b[0m \u001b[0mtype\u001b[0m\u001b[0;34m(\u001b[0m\u001b[0mcont\u001b[0m\u001b[0;34m)\u001b[0m\u001b[0;34m\u001b[0m\u001b[0;34m\u001b[0m\u001b[0m\n\u001b[1;32m      5\u001b[0m \u001b[0;32mfor\u001b[0m \u001b[0mi\u001b[0m \u001b[0;32min\u001b[0m \u001b[0mrange\u001b[0m\u001b[0;34m(\u001b[0m\u001b[0;36m0\u001b[0m\u001b[0;34m,\u001b[0m\u001b[0mlen\u001b[0m\u001b[0;34m(\u001b[0m\u001b[0mcont\u001b[0m\u001b[0;34m)\u001b[0m\u001b[0;34m)\u001b[0m\u001b[0;34m:\u001b[0m\u001b[0;34m\u001b[0m\u001b[0;34m\u001b[0m\u001b[0m\n",
            "\u001b[0;31mAttributeError\u001b[0m: 'tuple' object has no attribute 'readlines'"
          ]
        }
      ]
    },
    {
      "cell_type": "markdown",
      "source": [
        "### Q45. Write a Python program to replace whitespaces with an underscore and vice versa."
      ],
      "metadata": {
        "id": "ik5LQrx2GG8-"
      }
    },
    {
      "cell_type": "code",
      "source": [
        "import re\n",
        "text = 'A B'\n",
        "text = text.replace(' ','_')\n",
        "print(text)\n",
        "text =  text.replace('_',' ')\n",
        "print(text)"
      ],
      "metadata": {
        "colab": {
          "base_uri": "https://localhost:8080/"
        },
        "id": "vLwbCxtE-VWl",
        "outputId": "c35e2560-7d9d-4f66-8944-635cef91ea7b"
      },
      "execution_count": null,
      "outputs": [
        {
          "output_type": "stream",
          "name": "stdout",
          "text": [
            "A_B\n",
            "A B\n"
          ]
        }
      ]
    },
    {
      "cell_type": "markdown",
      "source": [
        "### Q46. Write a Python program to convert a date or yyyy-mm-dd format to dd-mm-yyyy."
      ],
      "metadata": {
        "id": "slhUYbgNU8GL"
      }
    },
    {
      "cell_type": "code",
      "source": [
        "import re\n",
        "def changedateformat(dt):\n",
        "  return re.sub(r'(\\d{4})-(\\d{1,2})-(\\d{1,2})','\\\\3-\\\\2-\\\\1', dt)\n",
        "dt1 = '2022-05-12'\n",
        "print('Original date format in YYYY-MM-DD', dt1)\n",
        "print('New date format in DD-MM-YYYY', changedateformat(dt1))"
      ],
      "metadata": {
        "colab": {
          "base_uri": "https://localhost:8080/"
        },
        "id": "b3YYbgt6UbNU",
        "outputId": "00972619-632e-47ce-e402-9fd2e327e72e"
      },
      "execution_count": null,
      "outputs": [
        {
          "output_type": "stream",
          "name": "stdout",
          "text": [
            "Original date format in YYYY-MM-DD 2022-05-12\n",
            "New date format in DD-MM-YYYY 12-05-2022\n"
          ]
        }
      ]
    },
    {
      "cell_type": "markdown",
      "source": [
        "### Q47. Write a Python program to find all words starting with 'a' or 'e' in a given string."
      ],
      "metadata": {
        "id": "JedGjakjZysy"
      }
    },
    {
      "cell_type": "code",
      "source": [
        "import re\n",
        "text = \"The following example creates an ArrayList with a capacity of 50 elements. Four elements are then added to the ArrayList and the ArrayList is trimmed accordingly.\"\n",
        "list1 = re.findall('[ae]\\w+',text) \n",
        "print(list1)\n",
        "len(list1)"
      ],
      "metadata": {
        "colab": {
          "base_uri": "https://localhost:8080/"
        },
        "id": "yke5jWKpZpnq",
        "outputId": "f708d433-7654-483e-99d1-446a62cf342a"
      },
      "execution_count": null,
      "outputs": [
        {
          "output_type": "stream",
          "name": "stdout",
          "text": [
            "['example', 'eates', 'an', 'ayList', 'apacity', 'elements', 'elements', 'are', 'en', 'added', 'ayList', 'and', 'ayList', 'ed', 'accordingly']\n"
          ]
        },
        {
          "output_type": "execute_result",
          "data": {
            "text/plain": [
              "15"
            ]
          },
          "metadata": {},
          "execution_count": 23
        }
      ]
    },
    {
      "cell_type": "markdown",
      "source": [
        "### Q48. Write a Python program to abbreviate 'Road' as 'Rd.' in a given string."
      ],
      "metadata": {
        "id": "xWInjgw3bXO8"
      }
    },
    {
      "cell_type": "code",
      "source": [
        "import re\n",
        "street = ('21 Ramakrishna Road')\n",
        "print(re.sub('Road$','Rd.',street))"
      ],
      "metadata": {
        "colab": {
          "base_uri": "https://localhost:8080/"
        },
        "id": "32Z0QYGLbBpc",
        "outputId": "82646c2d-9c66-43e4-ebc2-d0983bfd1739"
      },
      "execution_count": null,
      "outputs": [
        {
          "output_type": "stream",
          "name": "stdout",
          "text": [
            "21 Ramakrishna Rd.\n"
          ]
        }
      ]
    },
    {
      "cell_type": "markdown",
      "source": [
        "##3) String programs"
      ],
      "metadata": {
        "id": "AKnJcL1RinNm"
      }
    },
    {
      "cell_type": "markdown",
      "source": [
        "### Q49 Write a re program to check that a string contains only a certain set of characters (in this case a-z, A-Z and 0-9). "
      ],
      "metadata": {
        "id": "oEy19fq3im2L"
      }
    },
    {
      "cell_type": "code",
      "source": [
        "import re\n",
        "pattern = '^[A-Za-z0-9_-]*$'\n",
        "string = 'G33ks_F0r_Geeks'\n",
        "state = bool(re.match(pattern,string))\n",
        "print(state)"
      ],
      "metadata": {
        "colab": {
          "base_uri": "https://localhost:8080/"
        },
        "id": "NWh6moTyb54T",
        "outputId": "218f133d-209a-49c1-8e85-0aecbd0b181a"
      },
      "execution_count": null,
      "outputs": [
        {
          "output_type": "stream",
          "name": "stdout",
          "text": [
            "True\n"
          ]
        }
      ]
    },
    {
      "cell_type": "code",
      "source": [
        "import re\n",
        "print(bool(re.match('^[A-Za-z0-9_-]*$','validstring12-_')))\n",
        "print(bool(re.match('^[A-Za-z0-9_-]*$','invalid@string')))"
      ],
      "metadata": {
        "colab": {
          "base_uri": "https://localhost:8080/"
        },
        "id": "BimzgRd-kOFR",
        "outputId": "6aa48aee-6617-4984-cf44-da12fefbb7cf"
      },
      "execution_count": null,
      "outputs": [
        {
          "output_type": "stream",
          "name": "stdout",
          "text": [
            "True\n",
            "False\n"
          ]
        }
      ]
    },
    {
      "cell_type": "code",
      "source": [
        "# create a set of allowed characters\n",
        "allowed_chars = set((\"0123456789abcdefghijklmnopqrstuvwxyzABCDEFGHIJKLMNOPQRSTUVWXYZ_-\"))\n",
        "\n",
        "# input string\n",
        "string = \"inv@lid\"\n",
        "\n",
        "# convert string into set of characters\n",
        "validation = set((string))\n",
        "\n",
        "# check condition\n",
        "if validation.issubset(allowed_chars):\n",
        "\tprint(\"True\")\n",
        "\t\n",
        "else:\n",
        "\tprint (\"False\")\n",
        "# Reference :https://www.geeksforgeeks.org/python-program-to-verify-that-a-string-only-contains-letters-numbers-underscores-and-dashes/"
      ],
      "metadata": {
        "colab": {
          "base_uri": "https://localhost:8080/"
        },
        "id": "B3QQaJDvlQaq",
        "outputId": "81673a2a-cced-4126-fb32-f93d0c74d506"
      },
      "execution_count": null,
      "outputs": [
        {
          "output_type": "stream",
          "name": "stdout",
          "text": [
            "False\n"
          ]
        }
      ]
    },
    {
      "cell_type": "code",
      "source": [
        "allowed_chars = set(\"0123456789abcdefghijklmnopqrstuvwxyzABCDEFGHIJKLMNOPQRSTUVWXYZ_-\")\n",
        "\n",
        "string = \"__Val1d__\"\n",
        "\n",
        "validation = set((string))\n",
        "\n",
        "if validation.issubset(allowed_chars):\n",
        "\tprint(\"True\")\n",
        "\t\n",
        "else:\n",
        "\tprint (\"False\")\n",
        "# Reference :https://www.geeksforgeeks.org/python-program-to-verify-that-a-string-only-contains-letters-numbers-underscores-and-dashes/"
      ],
      "metadata": {
        "colab": {
          "base_uri": "https://localhost:8080/"
        },
        "id": "1nAPom88l1yv",
        "outputId": "624a1cc7-a984-47b0-d656-8f4706dbc997"
      },
      "execution_count": null,
      "outputs": [
        {
          "output_type": "stream",
          "name": "stdout",
          "text": [
            "True\n"
          ]
        }
      ]
    },
    {
      "cell_type": "markdown",
      "source": [
        "### Q50. Code that would matches a string that has an a followed by zero or more b's."
      ],
      "metadata": {
        "id": "vJYaB7YI1cSE"
      }
    },
    {
      "cell_type": "code",
      "source": [
        "import re\n",
        "def textmatch(text):\n",
        "  pattrens = '^a(b*)$'\n",
        "  if re.search(pattrens, text):\n",
        "    return 'Found a match'\n",
        "  else:\n",
        "    return 'Not matched'\n",
        "\n",
        "print(textmatch(\"ac\"))\n",
        "print(textmatch(\"abc\"))\n",
        "print(textmatch(\"a\"))\n",
        "print(textmatch(\"ab\"))\n",
        "print(textmatch(\"abb\"))"
      ],
      "metadata": {
        "colab": {
          "base_uri": "https://localhost:8080/"
        },
        "id": "Z6OTCoNO2gED",
        "outputId": "dea99212-f471-4d7e-8fbb-c088a7d20d2a"
      },
      "execution_count": null,
      "outputs": [
        {
          "output_type": "stream",
          "name": "stdout",
          "text": [
            "Not matched\n",
            "Not matched\n",
            "Found a match\n",
            "Found a match\n",
            "Found a match\n"
          ]
        }
      ]
    },
    {
      "cell_type": "markdown",
      "source": [
        "### Q51. Wap to find Three digit number followed by space followed by two digit number in a string."
      ],
      "metadata": {
        "id": "_WKKe_HdF_aZ"
      }
    },
    {
      "cell_type": "code",
      "source": [
        "import re\n",
        "string = '39801 356, 2102 1111'\n",
        "pattern = '(\\d{3}) (\\d{2})'\n",
        "match = re.search(pattern, string)\n",
        "if match:\n",
        "  print(match.group())\n",
        "else:\n",
        "  print('No match')\n",
        "# reference: https://www.fireblazeaischool.in/blogs/python-regex-operations/"
      ],
      "metadata": {
        "colab": {
          "base_uri": "https://localhost:8080/"
        },
        "id": "aaq83yeR3WYQ",
        "outputId": "f185a3e5-abaf-49f1-83cb-ca5cd60fc016"
      },
      "execution_count": null,
      "outputs": [
        {
          "output_type": "stream",
          "name": "stdout",
          "text": [
            "801 35\n"
          ]
        }
      ]
    },
    {
      "cell_type": "markdown",
      "source": [
        "### Q52. Write a Python program that matches a string that has an a followed by one or more b's."
      ],
      "metadata": {
        "id": "YYnalB8kTnL3"
      }
    },
    {
      "cell_type": "code",
      "source": [
        "import re\n",
        "def textmatch(text):\n",
        "  pattern = 'ab+?'\n",
        "  if re.search(pattern,text):\n",
        "    return('Found match')\n",
        "  else:\n",
        "    return('No match found')\n",
        "\n",
        "print(textmatch('ab'))\n",
        "print(textmatch('abc'))\n",
        "# reference: https://www.w3resource.com/python-exercises/re/python-re-exercise-3.php"
      ],
      "metadata": {
        "colab": {
          "base_uri": "https://localhost:8080/"
        },
        "id": "syfULrDcTWSg",
        "outputId": "d368f0dd-9244-411b-a8a8-db28a2dd6490"
      },
      "execution_count": null,
      "outputs": [
        {
          "output_type": "stream",
          "name": "stdout",
          "text": [
            "Found match\n",
            "Found match\n"
          ]
        }
      ]
    },
    {
      "cell_type": "markdown",
      "source": [
        "### Q53. Write a program to search inform in a string both in uppercase & in lowercase. (INFORM or inform)\n"
      ],
      "metadata": {
        "id": "POsIviCxTyFT"
      }
    },
    {
      "cell_type": "code",
      "source": [
        "def chaeck(ch):\n",
        "  if (ch >= 'A' and ch <= 'Z'):\n",
        "    print(ch,'Character is in upper case');\n",
        "  elif (ch >= 'a' and ch <= 'z'):\n",
        "    print(ch,'Character is in lower case');\n",
        "  else:\n",
        "    print(ch,'Character is not alphabetic character');\n",
        "\n",
        "(chaeck('inform'))\n",
        "(chaeck('INFORM'))\n",
        "# Reference : https://www.geeksforgeeks.org/check-whether-the-given-character-is-in-upper-case-lower-case-or-non-alphabetic-character/"
      ],
      "metadata": {
        "id": "mIJDbTbUVP7u",
        "colab": {
          "base_uri": "https://localhost:8080/"
        },
        "outputId": "249d1171-6ae5-4873-f0f8-2df62cf7d3ba"
      },
      "execution_count": null,
      "outputs": [
        {
          "output_type": "stream",
          "name": "stdout",
          "text": [
            "inform Character is in lower case\n",
            "INFORM Character is in upper case\n"
          ]
        }
      ]
    },
    {
      "cell_type": "markdown",
      "source": [
        "### Q54. WAP that matches a string that has an a followed by zero or one 'b'."
      ],
      "metadata": {
        "id": "dGpXM9VLWp8L"
      }
    },
    {
      "cell_type": "code",
      "source": [
        "import re\n",
        "def textmatch(text):\n",
        "  pattern = 'ab?'\n",
        "  if re.search(pattern,text):\n",
        "    return('Found match')\n",
        "  else:\n",
        "    return('Match not found')\n",
        "\n",
        "print(textmatch(\"ab\"))\n",
        "print(textmatch(\"abc\"))\n",
        "print(textmatch(\"abbc\"))\n",
        "print(textmatch(\"aabbc\"))\n",
        "# Reference: https://www.w3resource.com/python-exercises/re/python-re-exercise-4.php"
      ],
      "metadata": {
        "colab": {
          "base_uri": "https://localhost:8080/"
        },
        "id": "ejp3OxUtVSbR",
        "outputId": "55293397-662a-4a62-98b4-651e8ea0112f"
      },
      "execution_count": null,
      "outputs": [
        {
          "output_type": "stream",
          "name": "stdout",
          "text": [
            "Found match\n",
            "Found match\n",
            "Found match\n",
            "Found match\n"
          ]
        }
      ]
    },
    {
      "cell_type": "markdown",
      "source": [
        "### Q55. WAP that matches a string that has an a followed by three 'b'."
      ],
      "metadata": {
        "id": "9uK2mSRkYfHd"
      }
    },
    {
      "cell_type": "code",
      "source": [
        "import re\n",
        "def textmatch(text):\n",
        "  pattern = 'ab{3}?'\n",
        "  if re.search(pattern,text):\n",
        "    return('Match found')\n",
        "  else:\n",
        "    return('Match not found')\n",
        "\n",
        "print(textmatch(\"abbb\"))\n",
        "print(textmatch(\"aabbbbbc\"))"
      ],
      "metadata": {
        "colab": {
          "base_uri": "https://localhost:8080/"
        },
        "id": "T9PyikhQYWQ1",
        "outputId": "9ddfeddd-262c-4760-d534-eb229f98aa70"
      },
      "execution_count": null,
      "outputs": [
        {
          "output_type": "stream",
          "name": "stdout",
          "text": [
            "Match not found\n",
            "Match found\n"
          ]
        }
      ]
    },
    {
      "cell_type": "markdown",
      "source": [
        "### Q56. Write a Python program that matches a string that has an a followed by two to three 'b'."
      ],
      "metadata": {
        "id": "H2EskIbrcugz"
      }
    },
    {
      "cell_type": "code",
      "source": [
        "import re \n",
        "def textmatch(text):\n",
        "  pattern = 'ab{2,3}'\n",
        "  if re.search(pattern,text):\n",
        "    print('Match found')\n",
        "  else:\n",
        "    print('Match not found')\n",
        "\n",
        "textmatch(\"ab\")\n",
        "textmatch(\"aabbbbbc\")\n",
        "# Reference: https://www.w3resource.com/python-exercises/re/python-re-exercise-6.php"
      ],
      "metadata": {
        "colab": {
          "base_uri": "https://localhost:8080/"
        },
        "id": "LcjlcwEWckoU",
        "outputId": "9498f46b-24cb-453b-98cb-47b142cde903"
      },
      "execution_count": null,
      "outputs": [
        {
          "output_type": "stream",
          "name": "stdout",
          "text": [
            "Match not found\n",
            "Match found\n"
          ]
        }
      ]
    },
    {
      "cell_type": "markdown",
      "source": [
        "### Q57. Find all the words starting in range of k-n using a for loop & re."
      ],
      "metadata": {
        "id": "UUyJdvcXdrr5"
      }
    },
    {
      "cell_type": "code",
      "source": [
        ""
      ],
      "metadata": {
        "id": "vSr4hf3Vdh2v"
      },
      "execution_count": null,
      "outputs": []
    },
    {
      "cell_type": "markdown",
      "source": [
        "### Q58. Write a Python program to find sequences of lowercase letters joined with a underscore."
      ],
      "metadata": {
        "id": "7kpsumLFgT3t"
      }
    },
    {
      "cell_type": "code",
      "source": [
        "import re\n",
        "def textmatch(text):\n",
        "  pattern = '^[a-z]+_[a-z]+$'\n",
        "  if re.search(pattern,text):\n",
        "    print('Match found')\n",
        "  else:\n",
        "    print('No match found')\n",
        "\n",
        "(textmatch(\"aab_cbbbc\"))\n",
        "(textmatch(\"aab_Abbbc\"))\n",
        "(textmatch(\"Aaab_abbbc\"))"
      ],
      "metadata": {
        "colab": {
          "base_uri": "https://localhost:8080/"
        },
        "id": "f5tmx372hGwn",
        "outputId": "f02d18a2-eee3-43e7-fd31-28f3683e74dc"
      },
      "execution_count": null,
      "outputs": [
        {
          "output_type": "stream",
          "name": "stdout",
          "text": [
            "Match found\n",
            "No match found\n",
            "No match found\n"
          ]
        }
      ]
    },
    {
      "cell_type": "markdown",
      "source": [
        "### Q59. Write a program to find the sequences of one upper case letter followed by lower case letters."
      ],
      "metadata": {
        "id": "h8gC84e8h41l"
      }
    },
    {
      "cell_type": "code",
      "source": [
        "import re\n",
        "def textmatch(text):\n",
        "  pattern = '[A-Z]+[a-z]+$'\n",
        "  if re.search(pattern,text):\n",
        "    print('Match found')\n",
        "  else:\n",
        "    print('No match found')\n",
        "\n",
        "(textmatch(\"AaBbGg\"))\n",
        "(textmatch(\"Python\"))\n",
        "(textmatch(\"python\"))\n",
        "(textmatch(\"PYTHON\"))\n",
        "(textmatch(\"aA\"))\n",
        "(textmatch(\"Aa\"))"
      ],
      "metadata": {
        "colab": {
          "base_uri": "https://localhost:8080/"
        },
        "id": "3E-PnQ2yhzRT",
        "outputId": "28a4b7ae-bf21-4d94-9749-c92dcba1f353"
      },
      "execution_count": null,
      "outputs": [
        {
          "output_type": "stream",
          "name": "stdout",
          "text": [
            "Match found\n",
            "Match found\n",
            "No match found\n",
            "No match found\n",
            "No match found\n",
            "Match found\n"
          ]
        }
      ]
    },
    {
      "cell_type": "markdown",
      "source": [
        "### Q60. Write a program that matches a string that has an 'a' followed by anything, ending in 'b'."
      ],
      "metadata": {
        "id": "T_UA2mnEtrgJ"
      }
    },
    {
      "cell_type": "code",
      "source": [
        "import re \n",
        "def textmatch(text):\n",
        "  pattern = 'a.*?b$'\n",
        "  if re.search(pattern,text):\n",
        "    print('Match found')\n",
        "  else:\n",
        "    print('No match found')\n",
        "\n",
        "(textmatch(\"aabbbbd\"))\n",
        "(textmatch(\"aabAbbbc\"))\n",
        "(textmatch(\"accddbbjjjb\"))"
      ],
      "metadata": {
        "id": "sZqIJa7utS3b",
        "colab": {
          "base_uri": "https://localhost:8080/"
        },
        "outputId": "b5a40dbf-98dd-46c7-86da-8f7737a5879c"
      },
      "execution_count": null,
      "outputs": [
        {
          "output_type": "stream",
          "name": "stdout",
          "text": [
            "No match found\n",
            "No match found\n",
            "Match found\n"
          ]
        }
      ]
    },
    {
      "cell_type": "markdown",
      "source": [
        "### Q61. WAP that matches a word at the beginning of a string."
      ],
      "metadata": {
        "id": "MI_0qhYy09FY"
      }
    },
    {
      "cell_type": "code",
      "source": [
        "import re\n",
        "def textmatch(text):\n",
        "  pattern = '^\\w+'\n",
        "  if re.search(pattern,text):\n",
        "    print('Match found')\n",
        "  else:\n",
        "    print('No match found')\n",
        "\n",
        "(textmatch(\"The quick brown fox jumps over the lazy dog.\"))\n",
        "(textmatch(\" The quick brown fox jumps over the lazy dog.\"))"
      ],
      "metadata": {
        "colab": {
          "base_uri": "https://localhost:8080/"
        },
        "id": "GlgQWLrp0077",
        "outputId": "835ff5f9-f79c-4e5c-acd1-1beedc1ebc19"
      },
      "execution_count": null,
      "outputs": [
        {
          "output_type": "stream",
          "name": "stdout",
          "text": [
            "Match found\n",
            "No match found\n"
          ]
        }
      ]
    },
    {
      "cell_type": "markdown",
      "source": [
        "### Q62. Write a program that matches a word at the end of string, with optional punctuation."
      ],
      "metadata": {
        "id": "pEkbwltM3blH"
      }
    },
    {
      "cell_type": "code",
      "source": [
        "import re\n",
        "def textmatch(text):\n",
        "  pattern = '\\w+\\S*$'\n",
        "  if re.search(pattern,text):\n",
        "    print('Match found')\n",
        "  else:\n",
        "    print('No match found')\n",
        "\n",
        "(textmatch(\"The quick brown fox jumps over the lazy dog.\"))\n",
        "(textmatch(\"The quick brown fox jumps over the lazy dog. \"))\n",
        "(textmatch(\"The quick brown fox jumps over the lazy dog \"))"
      ],
      "metadata": {
        "colab": {
          "base_uri": "https://localhost:8080/"
        },
        "id": "7fa0iIKI1ygi",
        "outputId": "00bbeba8-e8da-4565-fcb1-b5340ca490a9"
      },
      "execution_count": null,
      "outputs": [
        {
          "output_type": "stream",
          "name": "stdout",
          "text": [
            "Match found\n",
            "No match found\n",
            "No match found\n"
          ]
        }
      ]
    },
    {
      "cell_type": "markdown",
      "source": [
        "### Q63. Write a Python program that matches a word containing 'z'."
      ],
      "metadata": {
        "id": "dv3ytY2DPG6S"
      }
    },
    {
      "cell_type": "code",
      "source": [
        "import re\n",
        "def textmatch(text):\n",
        "  pattern = '\\w*z.\\w*' \n",
        "  if re.search(pattern,text):\n",
        "    print('Match found')\n",
        "  else:\n",
        "    print('No match found')\n",
        "\n",
        "(textmatch(\"The quick brown fox jumps over the lazy dog.\"))\n",
        "(textmatch(\"Python Exercises.\"))"
      ],
      "metadata": {
        "colab": {
          "base_uri": "https://localhost:8080/"
        },
        "id": "atllCxPHFG-x",
        "outputId": "f8c689f6-7ab2-4891-8c11-6fe2fe8600ac"
      },
      "execution_count": null,
      "outputs": [
        {
          "output_type": "stream",
          "name": "stdout",
          "text": [
            "Match found\n",
            "No match found\n"
          ]
        }
      ]
    },
    {
      "cell_type": "markdown",
      "source": [
        "### Q64. Write a program that matches a word containing 'z', not at the start or end of the word. "
      ],
      "metadata": {
        "id": "qqtk8JVGP7eQ"
      }
    },
    {
      "cell_type": "code",
      "source": [
        "import re\n",
        "def textmatch(text):\n",
        "  pattern = '\\Bz\\B'\n",
        "  if re.search(pattern,text):\n",
        "    print('Match found')\n",
        "  else:\n",
        "    print('No match found')\n",
        "\n",
        "(textmatch(\"The quick brown fox jumps over the lazy dog.\"))\n",
        "(textmatch(\"Python Exercises.\"))"
      ],
      "metadata": {
        "colab": {
          "base_uri": "https://localhost:8080/"
        },
        "id": "MPrK6oh4P0WS",
        "outputId": "a7b6ff29-09f1-4862-cf91-a3579943cbe0"
      },
      "execution_count": null,
      "outputs": [
        {
          "output_type": "stream",
          "name": "stdout",
          "text": [
            "Match found\n",
            "No match found\n"
          ]
        }
      ]
    },
    {
      "cell_type": "markdown",
      "source": [
        "### Q65. Write a program to match a string that contains only upper and lowercase letters, numbers, and underscores. "
      ],
      "metadata": {
        "id": "5aq7TBt_Q3fQ"
      }
    },
    {
      "cell_type": "code",
      "source": [
        "import re\n",
        "def textmatch(text):\n",
        "  pattern = '^[a-zA-Z0-9_]*$'\n",
        "  if re.search(pattern,text):\n",
        "    print('Found match')\n",
        "  else:\n",
        "    print('No match found')\n",
        "\n",
        "(textmatch(\"The quick brown fox jumps over the lazy dog.\"))\n",
        "(textmatch(\"Python_Exercises_1\"))"
      ],
      "metadata": {
        "colab": {
          "base_uri": "https://localhost:8080/"
        },
        "id": "0RxnXWaNQsuq",
        "outputId": "60a83149-6b5e-44d6-debc-20feb2dc85bc"
      },
      "execution_count": null,
      "outputs": [
        {
          "output_type": "stream",
          "name": "stdout",
          "text": [
            "No match found\n",
            "Found match\n"
          ]
        }
      ]
    },
    {
      "cell_type": "markdown",
      "source": [
        "### Q66. WAP where a string will start with a specific number."
      ],
      "metadata": {
        "id": "AseHCkPCSBqS"
      }
    },
    {
      "cell_type": "code",
      "source": [
        "import re\n",
        "def matchnum(string):\n",
        "  text = re.compile(r'^5')\n",
        "  if text.match(string):\n",
        "    print('True')\n",
        "  else:\n",
        "    print('False')\n",
        "\n",
        "(matchnum('5-2345861'))\n",
        "(matchnum('6-2345861'))"
      ],
      "metadata": {
        "colab": {
          "base_uri": "https://localhost:8080/"
        },
        "id": "eFz8h9gER1eI",
        "outputId": "2a68e392-6b27-4441-c274-584cd4648dc3"
      },
      "execution_count": null,
      "outputs": [
        {
          "output_type": "stream",
          "name": "stdout",
          "text": [
            "True\n",
            "False\n"
          ]
        }
      ]
    },
    {
      "cell_type": "markdown",
      "source": [
        "### Q67. Write a Python program to remove leading zeros from an IP address. "
      ],
      "metadata": {
        "id": "09cAce3ETOdx"
      }
    },
    {
      "cell_type": "code",
      "source": [
        "import re\n",
        "ip = \"216.08.094.196\"\n",
        "string = re.sub('\\.[0]*','.',ip)\n",
        "print(string)"
      ],
      "metadata": {
        "colab": {
          "base_uri": "https://localhost:8080/"
        },
        "id": "SKg2TIFMTFvh",
        "outputId": "be1fd3fe-b540-4e11-c22c-dbeb276ceefb"
      },
      "execution_count": null,
      "outputs": [
        {
          "output_type": "stream",
          "name": "stdout",
          "text": [
            "216.8.94.196\n"
          ]
        }
      ]
    },
    {
      "cell_type": "markdown",
      "source": [
        "### Q68. Write a program to check for a number at the end of a string."
      ],
      "metadata": {
        "id": "qWoPS3UtUHfe"
      }
    },
    {
      "cell_type": "code",
      "source": [
        "import re\n",
        "def endnum(string):\n",
        "  text = re.compile(r'.*[0-9]$')\n",
        "  if text.match(string):\n",
        "    return True\n",
        "  else:\n",
        "    return False\n",
        "\n",
        "print(endnum('abcdef'))\n",
        "print(endnum('abcdef6'))\n",
        "# reference: https://www.w3resource.com/python-exercises/re/python-re-exercise-17.php"
      ],
      "metadata": {
        "colab": {
          "base_uri": "https://localhost:8080/"
        },
        "id": "HAF6jpugUD3n",
        "outputId": "a84542b6-0572-474b-e935-f4f570f61d24"
      },
      "execution_count": null,
      "outputs": [
        {
          "output_type": "stream",
          "name": "stdout",
          "text": [
            "False\n",
            "True\n"
          ]
        }
      ]
    },
    {
      "cell_type": "markdown",
      "source": [
        "### Q69. Code a program to search the numbers (0-9) of length between 1 to 3 in a given string. \"Exercises number 1, 12, 13, and 345 are important\""
      ],
      "metadata": {
        "id": "2H0HuE0WW2xr"
      }
    },
    {
      "cell_type": "code",
      "source": [
        "import re \n",
        "results = re.finditer(r'[0-9]{1,3}',\"Exercises number 1, 12, 13, and 345 are important\")\n",
        "print('Number of length 1 to 3')\n",
        "for n in results:\n",
        "  print(n.group(0))"
      ],
      "metadata": {
        "colab": {
          "base_uri": "https://localhost:8080/"
        },
        "id": "QVTkYVHoWu77",
        "outputId": "6791ce9a-6241-495e-c0cd-ccf3c4f1a1b0"
      },
      "execution_count": null,
      "outputs": [
        {
          "output_type": "stream",
          "name": "stdout",
          "text": [
            "Number of length 1 to 3\n",
            "1\n",
            "12\n",
            "13\n",
            "345\n"
          ]
        }
      ]
    },
    {
      "cell_type": "markdown",
      "source": [
        "### Q70. Write a program to search some literals strings in a string. Sample text : 'The quick brown fox jumps over the lazy dog. 'Searched words : 'fox', 'dog', 'horse'"
      ],
      "metadata": {
        "id": "ExyJy0MOYJId"
      }
    },
    {
      "cell_type": "code",
      "source": [
        "import re\n",
        "patterns = ['fox','dog','horse']\n",
        "text = 'The quick brown fox jumps over the lazy dog'\n",
        "for pattern in patterns:\n",
        "  print(\"searching for '%s' in '%s' ->\" %(pattern,text),)\n",
        "  if re.search(pattern,text):\n",
        "    print('Matched')\n",
        "  else:\n",
        "    print('Not matched')\n",
        "#reference: https://www.w3resource.com/python-exercises/re/python-re-exercise-19.php"
      ],
      "metadata": {
        "colab": {
          "base_uri": "https://localhost:8080/"
        },
        "id": "Xc0ode9hYGYx",
        "outputId": "c80dbbbe-8903-4482-b5b4-ed72c8e5397c"
      },
      "execution_count": null,
      "outputs": [
        {
          "output_type": "stream",
          "name": "stdout",
          "text": [
            "searching for 'fox' in 'The quick brown fox jumps over the lazy dog' ->\n",
            "Matched\n",
            "searching for 'dog' in 'The quick brown fox jumps over the lazy dog' ->\n",
            "Matched\n",
            "searching for 'horse' in 'The quick brown fox jumps over the lazy dog' ->\n",
            "Not matched\n"
          ]
        }
      ]
    },
    {
      "cell_type": "markdown",
      "source": [
        "### Q71. Write a Python program to search a literals string in a string and also find the location within the original string where the pattern occurs. .\n",
        "### Sample text : 'The quick brown fox jumps over the lazy dog.'\n",
        "### Searched words : 'fox'\n"
      ],
      "metadata": {
        "id": "cO2959iCmkK1"
      }
    },
    {
      "cell_type": "code",
      "source": [
        "import re\n",
        "pattern = 'fox'\n",
        "text = 'The quick browm fox jumps over the lazy dog'\n",
        "match = re.search(pattern,text)\n",
        "s = match.start()\n",
        "e = match.end()\n",
        "print('found \"%s\" in \"%s\" from %d to %d '% \\\n",
        "      (match.re.pattern,match.string, s, e))"
      ],
      "metadata": {
        "colab": {
          "base_uri": "https://localhost:8080/"
        },
        "id": "v6DIsRwZaZZi",
        "outputId": "df2a3df5-dbde-4cc6-fb5a-49e87617ed40"
      },
      "execution_count": null,
      "outputs": [
        {
          "output_type": "stream",
          "name": "stdout",
          "text": [
            "found \"fox\" in \"The quick browm fox jumps over the lazy dog\" from 16 to 19 \n"
          ]
        }
      ]
    },
    {
      "cell_type": "markdown",
      "source": [
        "### Q72. Write a code to find a common substrings within a string. \n",
        "### Sample text : 'Python exercises, PHP exercises, C# exercises'\n",
        "### Pattern : 'exercises'\n",
        "### Note: There are two instances of exercises in the input string."
      ],
      "metadata": {
        "id": "7Rrpl2uookA_"
      }
    },
    {
      "cell_type": "code",
      "source": [
        "import re \n",
        "text = 'Python exercises, PHP exercises, C# exercises'\n",
        "pattern = 'exercises'\n",
        "for match in re.findall(pattern,text):\n",
        "  print('found\"%s\"'% match)"
      ],
      "metadata": {
        "colab": {
          "base_uri": "https://localhost:8080/"
        },
        "id": "lTYC3RjooOF-",
        "outputId": "a3bb4e8e-e9f8-4f36-a0e8-717df286da2c"
      },
      "execution_count": null,
      "outputs": [
        {
          "output_type": "stream",
          "name": "stdout",
          "text": [
            "found\"exercises\"\n",
            "found\"exercises\"\n",
            "found\"exercises\"\n"
          ]
        }
      ]
    },
    {
      "cell_type": "markdown",
      "source": [
        "### Q73. Write a program to find the occurrence and position of the substrings within a string. .\n"
      ],
      "metadata": {
        "id": "JR1JCWzRrFa_"
      }
    },
    {
      "cell_type": "code",
      "source": [
        "import re\n",
        "text = 'Python exercises, PHP exercises, C# exercises'\n",
        "pattern = 'exercises'\n",
        "for match in re.finditer(pattern,text):\n",
        "  s = match.start()\n",
        "  e = match.end()\n",
        "  print(\"Found '%s' at %d:%d\" % (text[s:e],s,e))"
      ],
      "metadata": {
        "colab": {
          "base_uri": "https://localhost:8080/"
        },
        "id": "Q2XgjTqwq__S",
        "outputId": "8fe1f60e-e417-4d12-9f28-59b51b7f3985"
      },
      "execution_count": null,
      "outputs": [
        {
          "output_type": "stream",
          "name": "stdout",
          "text": [
            "Found 'exercises' at 7:16\n",
            "Found 'exercises' at 22:31\n",
            "Found 'exercises' at 36:45\n"
          ]
        }
      ]
    },
    {
      "cell_type": "markdown",
      "source": [
        "### Q74. Write a code to replace whitespaces with an underscore and vice versa.\n"
      ],
      "metadata": {
        "id": "BHMCk3Y-seZC"
      }
    },
    {
      "cell_type": "code",
      "source": [
        "import re\n",
        "text = 'Python exercises'\n",
        "text = text.replace(' ','_')\n",
        "print(text)\n",
        "text = text.replace('_',' ')\n",
        "print(text)"
      ],
      "metadata": {
        "colab": {
          "base_uri": "https://localhost:8080/"
        },
        "id": "dECZf5r5sY78",
        "outputId": "88821aff-186c-4e73-884d-d75b2df0491b"
      },
      "execution_count": null,
      "outputs": [
        {
          "output_type": "stream",
          "name": "stdout",
          "text": [
            "Python_exercises\n",
            "Python exercises\n"
          ]
        }
      ]
    },
    {
      "cell_type": "markdown",
      "source": [
        "### Q75. How would you remove all whitespaces from a string?\n"
      ],
      "metadata": {
        "id": "SZ-MyH42tTy9"
      }
    },
    {
      "cell_type": "code",
      "source": [
        "import re\n",
        "text = 'Python    Exercises'\n",
        "print('Original string:',text)\n",
        "print('Without extra spaces:',re.sub(r'\\s+', '',text))"
      ],
      "metadata": {
        "colab": {
          "base_uri": "https://localhost:8080/"
        },
        "id": "qlONRGFMtPoL",
        "outputId": "c1b1b4c9-b9ee-45cf-a8c8-ac0ab5ff81bf"
      },
      "execution_count": null,
      "outputs": [
        {
          "output_type": "stream",
          "name": "stdout",
          "text": [
            "Original string: Python    Exercises\n",
            "Without extra spaces: PythonExercises\n"
          ]
        }
      ]
    },
    {
      "cell_type": "markdown",
      "source": [
        "### Q76. Write a Python program to match if two words from a list of words starting with letter 'P'.\n"
      ],
      "metadata": {
        "id": "WxiVOpZauqxe"
      }
    },
    {
      "cell_type": "code",
      "source": [
        "import re\n",
        "words = [\"Python PHP\", \"Java JavaScript\", \"c c++\",'Predict Proba']\n",
        "for w in words:\n",
        "  m = re.match('(P\\w+)\\W(P\\w+)',w)\n",
        "  if m:\n",
        "    print(m.groups())"
      ],
      "metadata": {
        "colab": {
          "base_uri": "https://localhost:8080/"
        },
        "id": "vycDxjOnuhcW",
        "outputId": "e1c76ccb-28db-4487-fd31-0bacaaab5892"
      },
      "execution_count": null,
      "outputs": [
        {
          "output_type": "stream",
          "name": "stdout",
          "text": [
            "('Python', 'PHP')\n",
            "('Predict', 'Proba')\n"
          ]
        }
      ]
    },
    {
      "cell_type": "markdown",
      "source": [
        "### Q77. Write a code to find all words starting with 'a' or 'e' in a given string.\n"
      ],
      "metadata": {
        "id": "OPdCluXBv4Hv"
      }
    },
    {
      "cell_type": "code",
      "source": [
        "import re\n",
        "text = \"The following example creates an ArrayList with a capacity of 50 elements. Four elements are then added to the ArrayList and the ArrayList is trimmed accordingly.\"\n",
        "list = re.findall('[ae]\\w+',text)\n",
        "print(list)\n",
        "print(len(list))"
      ],
      "metadata": {
        "colab": {
          "base_uri": "https://localhost:8080/"
        },
        "id": "YGZ7ihJnvuzd",
        "outputId": "7604f326-c0e0-4796-eda3-edc302ab9c1e"
      },
      "execution_count": null,
      "outputs": [
        {
          "output_type": "stream",
          "name": "stdout",
          "text": [
            "['example', 'eates', 'an', 'ayList', 'apacity', 'elements', 'elements', 'are', 'en', 'added', 'ayList', 'and', 'ayList', 'ed', 'accordingly']\n",
            "15\n"
          ]
        }
      ]
    },
    {
      "cell_type": "markdown",
      "source": [
        "### Q78. Write a Python program to separate and print the numbers and their position of a given string.\n"
      ],
      "metadata": {
        "id": "re_0NRlZwzap"
      }
    },
    {
      "cell_type": "code",
      "source": [
        "import re\n",
        "text = \"The following example creates an ArrayList with a capacity of 50 elements. Four elements are then added to the ArrayList and the ArrayList is trimmed accordingly.\"\n",
        "for m in re.finditer('\\d+',text):\n",
        "  print(m.group(0))\n",
        "  print('Index position:', m.start())"
      ],
      "metadata": {
        "colab": {
          "base_uri": "https://localhost:8080/"
        },
        "id": "j7R3jSfjwkAC",
        "outputId": "f3e0a9fe-29e4-4b1b-c5d9-a809cb48d710"
      },
      "execution_count": null,
      "outputs": [
        {
          "output_type": "stream",
          "name": "stdout",
          "text": [
            "50\n",
            "Index position: 62\n"
          ]
        }
      ]
    },
    {
      "cell_type": "markdown",
      "source": [
        "### Q79. Write a program to abbreviate 'Road' as 'Rd.' in a given string. .(BASICALLY REPLACE 'ROAD' WITH 'RD' WHEREVER IT OCCURS)\n"
      ],
      "metadata": {
        "id": "M8j9_ekDxwtk"
      }
    },
    {
      "cell_type": "code",
      "source": [
        "import re\n",
        "street = '21 Ramakrishna Road'\n",
        "print(re.sub('Road$','Rd.',street))"
      ],
      "metadata": {
        "colab": {
          "base_uri": "https://localhost:8080/"
        },
        "id": "T8Ghz_4BxqDx",
        "outputId": "60cd8e9d-c961-4f46-9a0d-a064a5023997"
      },
      "execution_count": null,
      "outputs": [
        {
          "output_type": "stream",
          "name": "stdout",
          "text": [
            "21 Ramakrishna Rd.\n"
          ]
        }
      ]
    },
    {
      "cell_type": "markdown",
      "source": [
        "### Q80. Write a Python program to replace all occurrences of space, comma, or dot with a colon.\n"
      ],
      "metadata": {
        "id": "vI4WSRL0yfR6"
      }
    },
    {
      "cell_type": "code",
      "source": [
        "import re\n",
        "text = 'Python Exercises, PHP exercises.'\n",
        "print(re.sub('[ ,.]',':',text))"
      ],
      "metadata": {
        "colab": {
          "base_uri": "https://localhost:8080/"
        },
        "id": "p6WJY4RCydTQ",
        "outputId": "b6a00e05-e63b-4714-feb4-4e14f1de97e7"
      },
      "execution_count": null,
      "outputs": [
        {
          "output_type": "stream",
          "name": "stdout",
          "text": [
            "Python:Exercises::PHP:exercises:\n"
          ]
        }
      ]
    },
    {
      "cell_type": "markdown",
      "source": [
        "### Q81. Write a program to replace maximum 2 occurrences of space, comma, or dot with a colon.\n"
      ],
      "metadata": {
        "id": "Njl4gdSWzOzS"
      }
    },
    {
      "cell_type": "code",
      "source": [
        "import re\n",
        "text = 'Python Exercises, PHP exercises.'\n",
        "print(re.sub('[ ,.]',':',text, 2))"
      ],
      "metadata": {
        "colab": {
          "base_uri": "https://localhost:8080/"
        },
        "id": "CBsDLbAGzGW-",
        "outputId": "9605022b-1bbe-4c93-9878-f338d477cc30"
      },
      "execution_count": null,
      "outputs": [
        {
          "output_type": "stream",
          "name": "stdout",
          "text": [
            "Python:Exercises: PHP exercises.\n"
          ]
        }
      ]
    },
    {
      "cell_type": "markdown",
      "source": [
        "### Q82. Write a Python program to find all three, four, five characters long words in a string.\n"
      ],
      "metadata": {
        "id": "wy5_CTjj0Bse"
      }
    },
    {
      "cell_type": "code",
      "source": [
        "import re\n",
        "text = 'The quick brown fox jumps over the lazy dog.'\n",
        "print(re.findall(r'\\b\\w{3,5}\\b',text))"
      ],
      "metadata": {
        "colab": {
          "base_uri": "https://localhost:8080/"
        },
        "id": "jeCPFjdNz5vc",
        "outputId": "540deaf1-887c-4a6c-91ec-b75b68d85b84"
      },
      "execution_count": null,
      "outputs": [
        {
          "output_type": "stream",
          "name": "stdout",
          "text": [
            "['The', 'quick', 'brown', 'fox', 'jumps', 'over', 'the', 'lazy', 'dog']\n"
          ]
        }
      ]
    },
    {
      "cell_type": "markdown",
      "source": [
        "### Q83. Write a program to extract values between quotation marks of a string.\n"
      ],
      "metadata": {
        "id": "37uK3Qeb6JtB"
      }
    },
    {
      "cell_type": "code",
      "source": [
        "import re\n",
        "text = \"'Python Exercises', 'PHP exercises.'\"\n",
        "print(re.findall(r\"'(.*?)'\",text))\n"
      ],
      "metadata": {
        "colab": {
          "base_uri": "https://localhost:8080/"
        },
        "id": "JqvBCBpi0yTc",
        "outputId": "00078dc1-0f0e-4cd0-eaf8-0ed1e69ff17c"
      },
      "execution_count": null,
      "outputs": [
        {
          "output_type": "stream",
          "name": "stdout",
          "text": [
            "['Python Exercises', 'PHP exercises.']\n"
          ]
        }
      ]
    },
    {
      "cell_type": "markdown",
      "source": [
        "### Q84. How would you remove multiple spaces in a string?\n",
        "### >>> write a python program to remove multiple spaces in string.\n"
      ],
      "metadata": {
        "id": "_eEpQ_oy7Jn0"
      }
    },
    {
      "cell_type": "code",
      "source": [
        "import re\n",
        "text = 'Python       Exercises'\n",
        "print('Original string:', text)\n",
        "print('Without extra spaces:',re.sub(' +',' ',text))"
      ],
      "metadata": {
        "colab": {
          "base_uri": "https://localhost:8080/"
        },
        "id": "P_B48wuJ7GQI",
        "outputId": "17e216de-3d4c-452b-b0cb-e5234cfb2e03"
      },
      "execution_count": null,
      "outputs": [
        {
          "output_type": "stream",
          "name": "stdout",
          "text": [
            "Original string: Python       Exercises\n",
            "Without extra spaces: Python Exercises\n"
          ]
        }
      ]
    },
    {
      "cell_type": "markdown",
      "source": [
        "## 4) Variable, srting, int, float. (Null 4)"
      ],
      "metadata": {
        "id": "5LnF1Y1hXPhd"
      }
    },
    {
      "cell_type": "markdown",
      "source": [
        "### Q85. Write a program to print every character of a string entered by the user in a new line using a loop"
      ],
      "metadata": {
        "id": "--xszZz_XVCN"
      }
    },
    {
      "cell_type": "code",
      "source": [
        "str1 = input('Enter your own string: ')\n",
        "total = 1\n",
        "for i in range(len(str1)):\n",
        "  print('The character at %d Index position = %c' %(i,str1[i]))"
      ],
      "metadata": {
        "colab": {
          "base_uri": "https://localhost:8080/"
        },
        "id": "QLrmMYQK8LsL",
        "outputId": "0e7aa89c-ab4c-4c56-92e5-f1c82115e2ce"
      },
      "execution_count": null,
      "outputs": [
        {
          "output_type": "stream",
          "name": "stdout",
          "text": [
            "Enter your own string: Python Program\n",
            "The character at 0 Index position = P\n",
            "The character at 1 Index position = y\n",
            "The character at 2 Index position = t\n",
            "The character at 3 Index position = h\n",
            "The character at 4 Index position = o\n",
            "The character at 5 Index position = n\n",
            "The character at 6 Index position =  \n",
            "The character at 7 Index position = P\n",
            "The character at 8 Index position = r\n",
            "The character at 9 Index position = o\n",
            "The character at 10 Index position = g\n",
            "The character at 11 Index position = r\n",
            "The character at 12 Index position = a\n",
            "The character at 13 Index position = m\n"
          ]
        }
      ]
    },
    {
      "cell_type": "code",
      "source": [
        "# Python program to Print Characters in a String\n",
        " \n",
        "str1 = input(\"Please Enter your Own String : \")\n",
        "i = 0\n",
        "\n",
        "while(i < len(str1)):\n",
        "    print(\"The Character at %d Index Position = %c\" %(i, str1[i]))\n",
        "    i = i + 1\n",
        "\n",
        "# Reference: https://www.tutorialgateway.org/python-program-to-print-characters-in-a-string/"
      ],
      "metadata": {
        "colab": {
          "base_uri": "https://localhost:8080/"
        },
        "id": "TqZJhhuRZiYX",
        "outputId": "3d5f3ca7-d5d6-4962-a2c1-ce7867b50f88"
      },
      "execution_count": null,
      "outputs": [
        {
          "output_type": "stream",
          "name": "stdout",
          "text": [
            "Please Enter your Own String : Python Program\n",
            "The Character at 0 Index Position = P\n",
            "The Character at 1 Index Position = y\n",
            "The Character at 2 Index Position = t\n",
            "The Character at 3 Index Position = h\n",
            "The Character at 4 Index Position = o\n",
            "The Character at 5 Index Position = n\n",
            "The Character at 6 Index Position =  \n",
            "The Character at 7 Index Position = P\n",
            "The Character at 8 Index Position = r\n",
            "The Character at 9 Index Position = o\n",
            "The Character at 10 Index Position = g\n",
            "The Character at 11 Index Position = r\n",
            "The Character at 12 Index Position = a\n",
            "The Character at 13 Index Position = m\n"
          ]
        }
      ]
    },
    {
      "cell_type": "markdown",
      "source": [
        "### Q86. Write a program to find the length of the string \"machine learning\" with and without using len function"
      ],
      "metadata": {
        "id": "cIbmbNmoaEhz"
      }
    },
    {
      "cell_type": "code",
      "source": [
        "Str = 'Machine learning'\n",
        "print(len(Str))"
      ],
      "metadata": {
        "colab": {
          "base_uri": "https://localhost:8080/"
        },
        "id": "8QSr9yVSZ3Ze",
        "outputId": "e3e2ef9c-3ba1-4c66-90e3-d990d6597860"
      },
      "execution_count": null,
      "outputs": [
        {
          "output_type": "stream",
          "name": "stdout",
          "text": [
            "16\n"
          ]
        }
      ]
    },
    {
      "cell_type": "code",
      "source": [
        "def findlen(Str):\n",
        "  counter = 0 \n",
        "  for i in Str:\n",
        "    counter += 1\n",
        "  return counter \n",
        "\n",
        "Str = 'Machine learning'\n",
        "print(findlen(Str))"
      ],
      "metadata": {
        "colab": {
          "base_uri": "https://localhost:8080/"
        },
        "id": "juoaXT8Vau3O",
        "outputId": "dd180f5c-ece5-41ff-daad-5d9a9d2c23d3"
      },
      "execution_count": null,
      "outputs": [
        {
          "output_type": "stream",
          "name": "stdout",
          "text": [
            "16\n"
          ]
        }
      ]
    },
    {
      "cell_type": "code",
      "source": [
        "# Python code to demonstrate string length\n",
        "# using while loop.\n",
        "\n",
        "# Returns length of string\n",
        "def findLen(str):\n",
        "\tcounter = 0\n",
        "\twhile str[counter:]:\n",
        "\t\tcounter += 1\n",
        "\treturn counter\n",
        "\n",
        "str = \"geeks\"\n",
        "print(findLen(str))"
      ],
      "metadata": {
        "colab": {
          "base_uri": "https://localhost:8080/"
        },
        "id": "xoEt_jM3bQ46",
        "outputId": "07d62985-bd4c-4370-8e56-9b7a2b5afb51"
      },
      "execution_count": null,
      "outputs": [
        {
          "output_type": "stream",
          "name": "stdout",
          "text": [
            "5\n"
          ]
        }
      ]
    },
    {
      "cell_type": "code",
      "source": [
        "# Python code to demonstrate string length\n",
        "# using join and count\n",
        "\n",
        "# Returns length of string\n",
        "def findLen(str):\n",
        "\tif not str:\n",
        "\t\treturn 0\n",
        "\telse:\n",
        "\t\tsome_random_str = 'py'\n",
        "\t\treturn ((some_random_str).join(str)).count(some_random_str) + 1\n",
        "\n",
        "str = \"geeks\"\n",
        "print(findLen(str))"
      ],
      "metadata": {
        "colab": {
          "base_uri": "https://localhost:8080/"
        },
        "id": "my5hRextbYHc",
        "outputId": "a3ff1aa8-163f-4bc3-a8df-227a5701dc12"
      },
      "execution_count": null,
      "outputs": [
        {
          "output_type": "stream",
          "name": "stdout",
          "text": [
            "5\n"
          ]
        }
      ]
    },
    {
      "cell_type": "markdown",
      "source": [
        "### Q87. Write a program to check if the word 'orange' is present in the \"This is orange juice\".\n"
      ],
      "metadata": {
        "id": "aD1ifFeybisR"
      }
    },
    {
      "cell_type": "code",
      "source": [
        "string = \"This is orange juice\"\n",
        "print('orange' in string)"
      ],
      "metadata": {
        "colab": {
          "base_uri": "https://localhost:8080/"
        },
        "id": "r3R2SuIVbryX",
        "outputId": "b123fcd9-35b2-43cf-a646-778a8b901df3"
      },
      "execution_count": null,
      "outputs": [
        {
          "output_type": "stream",
          "name": "stdout",
          "text": [
            "True\n"
          ]
        }
      ]
    },
    {
      "cell_type": "code",
      "source": [
        "string = \"This is orange juice\"\n",
        "if 'orange' in string:\n",
        "  print('orange is present')\n",
        "else:\n",
        "  print('orange is not present')"
      ],
      "metadata": {
        "colab": {
          "base_uri": "https://localhost:8080/"
        },
        "id": "tH0e43kJc4Q8",
        "outputId": "f15746cc-4a41-4da6-b612-4a183fae4b4a"
      },
      "execution_count": null,
      "outputs": [
        {
          "output_type": "stream",
          "name": "stdout",
          "text": [
            "orange is present\n"
          ]
        }
      ]
    },
    {
      "cell_type": "markdown",
      "source": [
        "### Q88. Write a program to find the number of vowels, consonants, digits, and white space characters in a string."
      ],
      "metadata": {
        "id": "C1QDjgBid7xd"
      }
    },
    {
      "cell_type": "code",
      "source": [
        "def countcharactertype(str):\n",
        "  vowles = 0\n",
        "  consonant = 0\n",
        "  specialchar = 0 \n",
        "  digit = 0\n",
        "  for i in range(0, len(str)):\n",
        "    ch = str[i]\n",
        "    if ((ch >= 'a' and ch <='z') or (ch >= 'A' and ch <= 'Z')):\n",
        "      ch = ch.lower()\n",
        "      if (ch == 'a' or ch == 'e' or ch == 'i' or ch == 'o' or ch == 'u'):\n",
        "        vowles += 1\n",
        "      else:\n",
        "        consonant +=1\n",
        "    elif (ch >='0' and ch <='9'):\n",
        "      digit +=1\n",
        "    else:\n",
        "      specialchar +=1\n",
        "\n",
        "  print('Vowles :', vowles)\n",
        "  print('Consonant :', consonant)\n",
        "  print('Special Character :', specialchar)\n",
        "  print('Digit :', digit)\n",
        "\n",
        "str = \"geeks for geeks121\"\n",
        "countcharactertype(str)\n",
        "\n",
        "# reference: https://www.geeksforgeeks.org/program-count-vowels-consonant-digits-special-characters-string/"
      ],
      "metadata": {
        "colab": {
          "base_uri": "https://localhost:8080/"
        },
        "id": "AntUlgqGdQqo",
        "outputId": "a17879a2-1d04-4982-985b-35599e4d2617"
      },
      "execution_count": null,
      "outputs": [
        {
          "output_type": "stream",
          "name": "stdout",
          "text": [
            "Vowles : 5\n",
            "Consonant : 8\n",
            "Special Character : 2\n",
            "Digit : 3\n"
          ]
        }
      ]
    },
    {
      "cell_type": "markdown",
      "source": [
        "### Q89. Write a Python program to count Uppercase, Lowercase, special character, and numeric values in a given string."
      ],
      "metadata": {
        "id": "DFaEeKfchoT7"
      }
    },
    {
      "cell_type": "code",
      "source": [
        "def count(str):\n",
        "  upper,lower,number,special = 0,0,0,0\n",
        "  for i in range(len(str)):\n",
        "    if str[i].isupper():\n",
        "      upper += 1\n",
        "    elif str[i].islower():\n",
        "      lower +=1\n",
        "    elif str[i].isdigit():\n",
        "      number +=1\n",
        "    else:\n",
        "      special +=1\n",
        "  print('Upper case letters :', upper)\n",
        "  print('Lower case letters :', lower)\n",
        "  print('Numbers :',number)\n",
        "  print('Special character :',special)\n",
        "\n",
        "str = \"#GeeKs01fOr@gEEks07\"\n",
        "count(str)"
      ],
      "metadata": {
        "colab": {
          "base_uri": "https://localhost:8080/"
        },
        "id": "lbKbgE7rhVMt",
        "outputId": "ed8e47e0-6f48-4aa7-c00d-7c1e87b30abb"
      },
      "execution_count": null,
      "outputs": [
        {
          "output_type": "stream",
          "name": "stdout",
          "text": [
            "Upper case letters : 5\n",
            "Lower case letters : 8\n",
            "Numbers : 4\n",
            "Special character : 2\n"
          ]
        }
      ]
    },
    {
      "cell_type": "markdown",
      "source": [
        "### Q90. Write a program to make a new string with all the consonants deleted from the string \"Hello, have a good day\".\n"
      ],
      "metadata": {
        "id": "GpDFwscGoscs"
      }
    },
    {
      "cell_type": "code",
      "source": [
        "a = input('Enter any string')\n",
        "print('The original string is : ' + a)\n",
        "res = []\n",
        "for i in a:\n",
        "  if i in 'aeiouAEIOU ':\n",
        "    res.extend(i)\n",
        "res = ''.join(res)\n",
        "print('String after consonants removal :' + (res))\n",
        "\n",
        "#reference: https://learnaboutprograme.blogspot.com/2021/03/python-codes-with-question.html"
      ],
      "metadata": {
        "colab": {
          "base_uri": "https://localhost:8080/"
        },
        "id": "klv7wMn_oZZb",
        "outputId": "0ec1134a-69ee-4941-8d82-d6b58bd9735d"
      },
      "execution_count": null,
      "outputs": [
        {
          "output_type": "stream",
          "name": "stdout",
          "text": [
            "Enter any string \"Hello, have a good day\".\n",
            "The original string is :  \"Hello, have a good day\".\n",
            "String after consonants removal : eo ae a oo a\n"
          ]
        }
      ]
    },
    {
      "cell_type": "code",
      "source": [
        "a = ['a','e','i','o','u','A','E','I','O','U',' ']    \n",
        "b = \"Hello, have a good day\"\n",
        "c = \"\"                          \n",
        "for i in b:                             \n",
        "    if i not in a:                                 \n",
        "        continue               \n",
        "    else:                 \n",
        "        c=c+i      \n",
        "print(c)\n",
        "# reference :https://stackoverflow.com/questions/61724131/can-someone-explain-this-python-operation-bb-indexibb-indexi1"
      ],
      "metadata": {
        "colab": {
          "base_uri": "https://localhost:8080/"
        },
        "id": "_ApljKDurDQa",
        "outputId": "691aa868-31c8-4c41-cd28-14e97d223c59"
      },
      "execution_count": null,
      "outputs": [
        {
          "output_type": "stream",
          "name": "stdout",
          "text": [
            "eo ae a oo a\n"
          ]
        }
      ]
    },
    {
      "cell_type": "markdown",
      "source": [
        "### Q91. Write a Python program to remove the nth index character from a non-empty string.\n"
      ],
      "metadata": {
        "id": "qsLHW8FmZPf-"
      }
    },
    {
      "cell_type": "code",
      "source": [
        "def removechar(str,n):\n",
        "  first_part = str[:n]\n",
        "  last_part = str[n+1:]\n",
        "  return first_part + last_part\n",
        "\n",
        "print(removechar('Python', 0))\n",
        "print(removechar('Python', 3))\n",
        "print(removechar('Python', 5))"
      ],
      "metadata": {
        "colab": {
          "base_uri": "https://localhost:8080/"
        },
        "id": "YnoR7OxQrwVI",
        "outputId": "7c34cdae-e461-4e20-eeed-3506f942a0ec"
      },
      "execution_count": null,
      "outputs": [
        {
          "output_type": "stream",
          "name": "stdout",
          "text": [
            "ython\n",
            "Pyton\n",
            "Pytho\n"
          ]
        }
      ]
    },
    {
      "cell_type": "markdown",
      "source": [
        "### Q92. Write a Python program to change a given string to a new string where the first and last characters have been exchanged.\n"
      ],
      "metadata": {
        "id": "50GfQgjbbEop"
      }
    },
    {
      "cell_type": "code",
      "source": [
        "def changestring(str1):\n",
        "  return str1[-1:] + str1[1:-1] + str1[:1]\n",
        "\n",
        "print(changestring('abcd'))\n",
        "print(changestring('12345'))"
      ],
      "metadata": {
        "colab": {
          "base_uri": "https://localhost:8080/"
        },
        "id": "agORfZtga4P6",
        "outputId": "24cdec86-9eaf-46c1-848b-f45cf82ab211"
      },
      "execution_count": null,
      "outputs": [
        {
          "output_type": "stream",
          "name": "stdout",
          "text": [
            "dbca\n",
            "52341\n"
          ]
        }
      ]
    },
    {
      "cell_type": "markdown",
      "source": [
        "### Q93. Write a Python program to count the occurrences of each word in a given sentence."
      ],
      "metadata": {
        "id": "T6jl-5a0cNK4"
      }
    },
    {
      "cell_type": "code",
      "source": [
        "def wordcount(str):\n",
        "  count = dict()\n",
        "  words = str.split()\n",
        "  for word in words:\n",
        "    if word in count:\n",
        "      count[word] +=1\n",
        "    else:\n",
        "      count[word] = 1\n",
        "  return count\n",
        "\n",
        "print( wordcount('the quick brown fox jumps over the lazy dog.'))\n",
        "# reference: https://www.w3resource.com/python-exercises/string/python-data-type-string-exercise-12.php"
      ],
      "metadata": {
        "colab": {
          "base_uri": "https://localhost:8080/"
        },
        "id": "UjpOlbkzcBKh",
        "outputId": "8350cb8b-56e5-43e4-ce36-cefc4f4a6786"
      },
      "execution_count": null,
      "outputs": [
        {
          "output_type": "stream",
          "name": "stdout",
          "text": [
            "{'the': 2, 'quick': 1, 'brown': 1, 'fox': 1, 'jumps': 1, 'over': 1, 'lazy': 1, 'dog.': 1}\n"
          ]
        }
      ]
    },
    {
      "cell_type": "markdown",
      "source": [
        "### Q94. How do you count the occurrence of a given character in a string?"
      ],
      "metadata": {
        "id": "2cjcuU-Ydf5S"
      }
    },
    {
      "cell_type": "code",
      "source": [
        "def count(s,c):\n",
        "  res = 0\n",
        "  for i in range(len(s)):\n",
        "    if (s[i] == c):\n",
        "      res = res+1\n",
        "  return res\n",
        "\n",
        "str= \"geeksforgeeks\"\n",
        "c = 's'\n",
        "print(count(str, c))"
      ],
      "metadata": {
        "colab": {
          "base_uri": "https://localhost:8080/"
        },
        "id": "nhg3_n4OdZdm",
        "outputId": "88b2402e-cd48-4cd2-fba3-a4710647e2eb"
      },
      "execution_count": null,
      "outputs": [
        {
          "output_type": "stream",
          "name": "stdout",
          "text": [
            "2\n"
          ]
        }
      ]
    },
    {
      "cell_type": "code",
      "source": [
        "def countinString(ch, s):\n",
        "\n",
        "\t# base case;\n",
        "\tif (len(s) == 0):\n",
        "\t\treturn 0\n",
        "\tcount = 0\n",
        "\n",
        "\t# checking if the first character of\n",
        "\t# the given string is that character\n",
        "\t# or not\n",
        "\tif (s[0] == ch):\n",
        "\t\tcount += 1\n",
        "\n",
        "\t# this will count the occurrence of\n",
        "\t# given character in the string\n",
        "\t# from index 1 to the last\n",
        "\t# index of the string\n",
        "\tcount += countinString(ch, s[1:])\n",
        "\n",
        "\treturn count\n",
        "\t\n",
        "str = \"geeksforgeeks\"\n",
        "c = 'e'\n",
        "print(countinString(c, str))\n",
        "\n",
        "# This code is contributed by shinjanpatra\n",
        "# reference : https://www.geeksforgeeks.org/program-count-occurrence-given-character-string/"
      ],
      "metadata": {
        "colab": {
          "base_uri": "https://localhost:8080/"
        },
        "id": "nkzgfSZfentI",
        "outputId": "21e119a5-1ec5-499b-86fc-4566000ec830"
      },
      "execution_count": null,
      "outputs": [
        {
          "output_type": "stream",
          "name": "stdout",
          "text": [
            "4\n"
          ]
        }
      ]
    },
    {
      "cell_type": "markdown",
      "source": [
        "### Q95. Write a program to find last 10 characters of a string?"
      ],
      "metadata": {
        "id": "iJsJx3TYexsz"
      }
    },
    {
      "cell_type": "code",
      "source": [
        "str = 'The quick brown fox jumps over the lazy dog.'\n",
        "n = 10\n",
        "print(str)\n",
        "while (n > 0):\n",
        "  print(str[-n], end = '')\n",
        "  n = n-1"
      ],
      "metadata": {
        "colab": {
          "base_uri": "https://localhost:8080/"
        },
        "id": "PYkpp8Jje-gt",
        "outputId": "b920ea35-5ccd-466d-d713-3113ce490fac"
      },
      "execution_count": null,
      "outputs": [
        {
          "output_type": "stream",
          "name": "stdout",
          "text": [
            "The quick brown fox jumps over the lazy dog.\n",
            " lazy dog."
          ]
        }
      ]
    },
    {
      "cell_type": "code",
      "source": [
        "# get input\n",
        "Str = \"Geeks For Geeks!\"\n",
        "N = 4\n",
        "\n",
        "# print the string\n",
        "print(Str)\n",
        "\n",
        "# get length of string\n",
        "length = len(Str)\n",
        "\n",
        "# create a new string of last N characters\n",
        "Str2 = Str[length - N:]\n",
        "\n",
        "# print Last N characters\n",
        "print(Str2)"
      ],
      "metadata": {
        "colab": {
          "base_uri": "https://localhost:8080/"
        },
        "id": "4jClrC--f9t0",
        "outputId": "93d9638a-303a-4a32-d0f0-9fd0ef5f72d7"
      },
      "execution_count": null,
      "outputs": [
        {
          "output_type": "stream",
          "name": "stdout",
          "text": [
            "Geeks For Geeks!\n",
            "eks!\n"
          ]
        }
      ]
    },
    {
      "cell_type": "markdown",
      "source": [
        "### Q96. WAP to convert a given string to all uppercase if it contains at least 2 uppercase characters in the first 4 characters.\n"
      ],
      "metadata": {
        "id": "HUnDIZHRgD4g"
      }
    },
    {
      "cell_type": "code",
      "source": [
        "def touppercase(str1):\n",
        "  num_upper = 0\n",
        "  for letter in str1[:4]:\n",
        "    if letter.upper() == letter:\n",
        "      num_upper += 1\n",
        "    if num_upper >= 2:\n",
        "      return str1.upper()\n",
        "  return str1\n",
        "\n",
        "print(touppercase('Python'))\n",
        "print(touppercase('PyThon'))\n",
        "# reference: https://www.w3resource.com/python-exercises/string/python-data-type-string-exercise-21.php"
      ],
      "metadata": {
        "colab": {
          "base_uri": "https://localhost:8080/"
        },
        "id": "5pMOF00vg9d2",
        "outputId": "9e1c6333-81ba-43f3-eccd-e5f10004d2fd"
      },
      "execution_count": null,
      "outputs": [
        {
          "output_type": "stream",
          "name": "stdout",
          "text": [
            "Python\n",
            "PYTHON\n"
          ]
        }
      ]
    },
    {
      "cell_type": "markdown",
      "source": [
        "### Q97. Write a Python program to remove a newline in Python."
      ],
      "metadata": {
        "id": "RSNvrfx0ibR0"
      }
    },
    {
      "cell_type": "code",
      "source": [
        "str1 = 'Python Excercises \\n'\n",
        "print(str1)\n",
        "print(str1.rstrip())\n",
        "# reference : https://www.w3resource.com/python-exercises/string/python-data-type-string-exercise-23.php"
      ],
      "metadata": {
        "colab": {
          "base_uri": "https://localhost:8080/"
        },
        "id": "whD3eVCzh8Ou",
        "outputId": "21b5cf39-c774-4d70-891d-70d338a0ea89"
      },
      "execution_count": null,
      "outputs": [
        {
          "output_type": "stream",
          "name": "stdout",
          "text": [
            "Python Excercises \n",
            "\n",
            "Python Excercises\n"
          ]
        }
      ]
    },
    {
      "cell_type": "markdown",
      "source": [
        "### Q98.  Write a Python program to swap commas and dots in a string\n",
        "### ○ Sample string: \"32.054,23\"\n",
        "### ○ Expected Output: \"32,054.23\""
      ],
      "metadata": {
        "id": "dou2sO2gw1G1"
      }
    },
    {
      "cell_type": "code",
      "source": [
        "amount = \"32.054,23\"\n",
        "maketrans = amount.maketrans\n",
        "amount = amount.translate(maketrans(',.','.,'))\n",
        "print(amount)"
      ],
      "metadata": {
        "colab": {
          "base_uri": "https://localhost:8080/"
        },
        "id": "-7CDyNjNwvys",
        "outputId": "2c275ae0-63a7-4eb3-a6bd-535c46583db8"
      },
      "execution_count": null,
      "outputs": [
        {
          "output_type": "stream",
          "name": "stdout",
          "text": [
            "32,054.23\n"
          ]
        }
      ]
    },
    {
      "cell_type": "markdown",
      "source": [
        "### Q99. Write a Python program to find the first repeated character in a given string"
      ],
      "metadata": {
        "id": "0h9mBRhCxwid"
      }
    },
    {
      "cell_type": "code",
      "source": [
        "def firstrepeatedchar(str):\n",
        "  h = {}\n",
        "  for ch in str:\n",
        "    if ch in h:\n",
        "      return ch;\n",
        "    else:\n",
        "      h[ch] = 0\n",
        "  return ''\n",
        "\n",
        "print(firstrepeatedchar('abcdabcd'))\n",
        "# reference: geeks for geeks "
      ],
      "metadata": {
        "colab": {
          "base_uri": "https://localhost:8080/"
        },
        "id": "Ry9mmwKvxqTd",
        "outputId": "6759acfd-bf80-4107-8502-cdfbfdd0f83c"
      },
      "execution_count": null,
      "outputs": [
        {
          "output_type": "stream",
          "name": "stdout",
          "text": [
            "a\n"
          ]
        }
      ]
    },
    {
      "cell_type": "code",
      "source": [
        "def first_repeated_char(str1):\n",
        "  for index,c in enumerate(str1):\n",
        "    if str1[:index+1].count(c) > 1:\n",
        "      return c \n",
        "  return \"None\"\n",
        "\n",
        "print(first_repeated_char(\"abcdabcd\"))\n",
        "print(first_repeated_char(\"abcd\"))\n",
        "# reference: https://www.w3resource.com/python-exercises/string/python-data-type-string-exercise-53.php"
      ],
      "metadata": {
        "colab": {
          "base_uri": "https://localhost:8080/"
        },
        "id": "OPDL6vinyMEf",
        "outputId": "5f0774ca-5b86-4f6c-a6d1-d8d23933ecd0"
      },
      "execution_count": null,
      "outputs": [
        {
          "output_type": "stream",
          "name": "stdout",
          "text": [
            "a\n",
            "None\n"
          ]
        }
      ]
    },
    {
      "cell_type": "markdown",
      "source": [
        "### Q100. Write a Python program to find the second most repeated word in a given string"
      ],
      "metadata": {
        "id": "o2F2GpQOzA-t"
      }
    },
    {
      "cell_type": "code",
      "source": [
        "def word_count(str):\n",
        "  counts = dict()\n",
        "  words = str.split()\n",
        "  for word in words:\n",
        "    if word in counts:\n",
        "      counts[word] += 1\n",
        "    else:\n",
        "      counts[word] = 1\n",
        "  \n",
        "  counts_x = sorted(counts.items(), key = lambda kv: kv[1])\n",
        "  return counts_x[-2]\n",
        "\n",
        "print(word_count(\"Both of these issues are fixed by postponing the evaluation of annotations. Instead of compiling code which executes expressions in annotations at their definition time, the compiler stores the annotation in a string form equivalent to the AST of the expression in question. If needed, annotations can be resolved at runtime using typing.get_type_hints(). In the common case where this is not required, the annotations are cheaper to store (since short strings are interned by the interpreter) and make startup time faster.\"))\n",
        "\n",
        "# reference: https://www.w3resource.com/python-exercises/string/python-data-type-string-exercise-56.php"
      ],
      "metadata": {
        "colab": {
          "base_uri": "https://localhost:8080/"
        },
        "id": "YQpZV1k1zK7H",
        "outputId": "9e6aa49c-6631-48a1-a8ed-65eb314be8de"
      },
      "execution_count": null,
      "outputs": [
        {
          "output_type": "stream",
          "name": "stdout",
          "text": [
            "('of', 4)\n"
          ]
        }
      ]
    },
    {
      "cell_type": "code",
      "source": [
        "# Python3 program to find out the second\n",
        "# most repeated word\n",
        "\n",
        "# Function to find the word\n",
        "def secMostRepeated(seq):\n",
        "\t\n",
        "\t# Store all the words with its occurrence\n",
        "\tocc = {}\n",
        "\tfor i in range(len(seq)):\n",
        "\t\tocc[seq[i]] = occ.get(seq[i], 0) + 1\n",
        "\n",
        "\t# Find the second largest occurrence\n",
        "\tfirst_max = -10**8\n",
        "\tsec_max = -10**8\n",
        "\n",
        "\tfor it in occ:\n",
        "\t\tif (occ[it] > first_max):\n",
        "\t\t\tsec_max = first_max\n",
        "\t\t\tfirst_max = occ[it]\n",
        "\t\t\t\n",
        "\t\telif (occ[it] > sec_max and\n",
        "\t\t\tocc[it] != first_max):\n",
        "\t\t\tsec_max = occ[it]\n",
        "\n",
        "\t# Return with occurrence equals\n",
        "\t# to sec_max\n",
        "\tfor it in occ:\n",
        "\t\tif (occ[it] == sec_max):\n",
        "\t\t\treturn it\n",
        "\n",
        "# Driver code\n",
        "if __name__ == '__main__':\n",
        "\t\n",
        "\tseq = [ \"ccc\", \"aaa\", \"ccc\",\n",
        "\t\t\t\"ddd\", \"aaa\", \"aaa\" ]\n",
        "\tprint(secMostRepeated(seq))\n",
        "\n",
        "# This code is contributed by mohit kumar 29\n",
        "# reference: https://www.geeksforgeeks.org/second-repeated-word-sequence/"
      ],
      "metadata": {
        "colab": {
          "base_uri": "https://localhost:8080/"
        },
        "id": "iV1PkLFxzj5_",
        "outputId": "8c78183e-68b1-4101-c440-53bd5feff5ec"
      },
      "execution_count": null,
      "outputs": [
        {
          "output_type": "stream",
          "name": "stdout",
          "text": [
            "ccc\n"
          ]
        }
      ]
    },
    {
      "cell_type": "markdown",
      "source": [
        "### Q101. Python program to Count Even and Odd numbers in a string."
      ],
      "metadata": {
        "id": "wbDIXw8B8Aoy"
      }
    },
    {
      "cell_type": "code",
      "source": [
        "list1 = [10, 21, 4, 45, 66, 93, 1]\n",
        "even_count,odd_count = 0,0\n",
        "for num in list1:\n",
        "  if num % 2 == 0:\n",
        "    even_count += 1\n",
        "  else:\n",
        "    odd_count +=1\n",
        "\n",
        "print('Even number in list :', even_count)\n",
        "print('Odd number in list :', odd_count)"
      ],
      "metadata": {
        "colab": {
          "base_uri": "https://localhost:8080/"
        },
        "id": "SSMKf7dF8JXQ",
        "outputId": "e6ef72cb-8a7c-45ba-b420-c8b19b16f49f"
      },
      "execution_count": null,
      "outputs": [
        {
          "output_type": "stream",
          "name": "stdout",
          "text": [
            "Even number in list : 3\n",
            "Odd number in list : 4\n"
          ]
        }
      ]
    },
    {
      "cell_type": "code",
      "source": [
        "# Python program to count Even and Odd numbers in a List\n",
        "\n",
        "# list of numbers\n",
        "list1 = [10, 21, 4, 45, 66, 93, 11]\n",
        "\n",
        "even_count, odd_count = 0, 0\n",
        "num = 0\n",
        "\n",
        "# using while loop\t\n",
        "while(num < len(list1)):\n",
        "\t\n",
        "\t# checking condition\n",
        "\tif list1[num] % 2 == 0:\n",
        "\t\teven_count += 1\n",
        "\telse:\n",
        "\t\todd_count += 1\n",
        "\t\n",
        "\t# increment num\n",
        "\tnum += 1\n",
        "\t\n",
        "print(\"Even numbers in the list: \", even_count)\n",
        "print(\"Odd numbers in the list: \", odd_count)"
      ],
      "metadata": {
        "colab": {
          "base_uri": "https://localhost:8080/"
        },
        "id": "7ebnM7k-9L89",
        "outputId": "a2234e5f-e33f-46a9-a7e7-46651d4997e4"
      },
      "execution_count": null,
      "outputs": [
        {
          "output_type": "stream",
          "name": "stdout",
          "text": [
            "Even numbers in the list:  3\n",
            "Odd numbers in the list:  4\n"
          ]
        }
      ]
    },
    {
      "cell_type": "code",
      "source": [
        "# using lambda expression\n",
        "list1 = [10, 21, 4, 45, 66, 93, 11]\n",
        "odd_count = len(list(filter(lambda x: (x%2 != 0), list1)))\n",
        "even_count = len(list(filter(lambda x: (x%2 == 0), list1)))\n",
        "\n",
        "print('Even number in list', even_count)\n",
        "print('Odd number in list', odd_count)"
      ],
      "metadata": {
        "colab": {
          "base_uri": "https://localhost:8080/"
        },
        "id": "zDAjyPkg9cfZ",
        "outputId": "0fc33af7-5ba9-4b65-90ca-073f119ef19a"
      },
      "execution_count": null,
      "outputs": [
        {
          "output_type": "stream",
          "name": "stdout",
          "text": [
            "Even number in list 3\n",
            "Odd number in list 4\n"
          ]
        }
      ]
    },
    {
      "cell_type": "code",
      "source": [
        "# Python program to print odd Numbers in a List\n",
        "\n",
        "# list of numbers\n",
        "list1 = [10, 21, 4, 45, 66, 93, 11]\n",
        "\n",
        "only_odd = [num for num in list1 if num % 2 == 1]\n",
        "odd_count = len(only_odd)\n",
        "\n",
        "print(\"Even numbers in the list: \", len(list1) - odd_count)\n",
        "print(\"Odd numbers in the list: \", odd_count)\n",
        "#reference: https://www.geeksforgeeks.org/python-program-to-count-even-and-odd-numbers-in-a-list/"
      ],
      "metadata": {
        "colab": {
          "base_uri": "https://localhost:8080/"
        },
        "id": "poMdm3va-5q8",
        "outputId": "7569246b-9dc3-4e59-8638-833fd0b5e0ed"
      },
      "execution_count": null,
      "outputs": [
        {
          "output_type": "stream",
          "name": "stdout",
          "text": [
            "Even numbers in the list:  3\n",
            "Odd numbers in the list:  4\n"
          ]
        }
      ]
    },
    {
      "cell_type": "markdown",
      "source": [
        "### Q102. How do you check if a string contains only digits?"
      ],
      "metadata": {
        "id": "QtaMVXNb_JXl"
      }
    },
    {
      "cell_type": "code",
      "source": [
        "ini_string1 = '1234556'\n",
        "ini_string2 = 'ab123bc'\n",
        "print('Initial strings :', ini_string1, ini_string2)\n",
        "if ini_string1.isdigit():\n",
        "  print('String1 contains all digit')\n",
        "else:\n",
        "  print('String1 does not contain all digit')\n",
        "if ini_string2.isdigit():\n",
        "  print('String2 contains all digit')\n",
        "else:\n",
        "  print('String2 does not contain all digit')\n"
      ],
      "metadata": {
        "colab": {
          "base_uri": "https://localhost:8080/"
        },
        "id": "tnLJQn5g_b8b",
        "outputId": "d3b092b3-3329-49c3-a4d8-1981892c0b5f"
      },
      "execution_count": null,
      "outputs": [
        {
          "output_type": "stream",
          "name": "stdout",
          "text": [
            "Initial strings : 1234556 ab123bc\n",
            "String1 contains all digit\n",
            "String2 does not contain all digit\n"
          ]
        }
      ]
    },
    {
      "cell_type": "code",
      "source": [
        "import re\n",
        "ini_string1 = '1234556'\n",
        "ini_string2 = 'ab123bc'\n",
        "print('Initial strings :', ini_string1, ini_string2)\n",
        "if re.match('^[0-9]*$', ini_string1):\n",
        "  print('String1 contains all digit')\n",
        "else:\n",
        "  print('String1 does not contain all digit')\n",
        "if re.match('^[0-9]*$', ini_string2):\n",
        "  print('String2 contains all digit')\n",
        "else:\n",
        "  print('String2 does not contain all digit')\n",
        "\n"
      ],
      "metadata": {
        "colab": {
          "base_uri": "https://localhost:8080/"
        },
        "id": "T3UYvBAEAtM5",
        "outputId": "fe9e7ec9-ebaf-4629-e043-0d9fbd3ca18a"
      },
      "execution_count": null,
      "outputs": [
        {
          "output_type": "stream",
          "name": "stdout",
          "text": [
            "Initial strings : 1234556 ab123bc\n",
            "String1 contains all digit\n",
            "String2 does not contain all digit\n"
          ]
        }
      ]
    },
    {
      "cell_type": "code",
      "source": [
        "# Python3 code to demonstrate\n",
        "# how to check whether string contains\n",
        "# only numbers or not\n",
        "\n",
        "# Initialising string\n",
        "ini_string1 = '1234556'\n",
        "ini_string2 = 'abc123'\n",
        "\n",
        "# printing initial string\n",
        "print (\"Initial Strings : \", ini_string1, ini_string2)\n",
        "\n",
        "# Using try / exception:\n",
        "try:\n",
        "\tnum = int(ini_string1)\n",
        "\tprint (\"String1 contains only digits\")\n",
        "except:\n",
        "\tprint (\"String1 doesn'tcontains only digits\")\n",
        "\t\n",
        "try:\n",
        "\tnum = int(ini_string2)\n",
        "\tprint (\"String2 contains only digits\")\n",
        "except:\n",
        "\tprint (\"String2 doesn't contains only digits\")\n",
        "\t\n",
        "# reference: https://www.geeksforgeeks.org/python-check-whether-string-contains-only-numbers-or-not/"
      ],
      "metadata": {
        "colab": {
          "base_uri": "https://localhost:8080/"
        },
        "id": "oqrXeJCtBuaZ",
        "outputId": "bdfbdd96-1802-4fc3-84be-2b35ebf74b17"
      },
      "execution_count": null,
      "outputs": [
        {
          "output_type": "stream",
          "name": "stdout",
          "text": [
            "Initial Strings :  1234556 abc123\n",
            "String1 contains only digits\n",
            "String2 doesn't contains only digits\n"
          ]
        }
      ]
    },
    {
      "cell_type": "markdown",
      "source": [
        "### Q103. How do you remove a given character/word from String?"
      ],
      "metadata": {
        "id": "GFAtQPwiCUlE"
      }
    },
    {
      "cell_type": "code",
      "source": [
        "# using replace\n",
        "s = 'flexible!'\n",
        "s2 = s.replace('b','p')\n",
        "print(s2)\n",
        "s3 = s.replace('!','.')\n",
        "print(s3)"
      ],
      "metadata": {
        "colab": {
          "base_uri": "https://localhost:8080/"
        },
        "id": "bBspazs2CbUm",
        "outputId": "82de3d5a-b3cf-4632-ec2a-753fb7fac0fe"
      },
      "execution_count": null,
      "outputs": [
        {
          "output_type": "stream",
          "name": "stdout",
          "text": [
            "flexiple!\n",
            "flexible.\n"
          ]
        }
      ]
    },
    {
      "cell_type": "code",
      "source": [
        "# using translate\n",
        "s = 'flexible!'\n",
        "x = 'b'\n",
        "y = 'p'\n",
        "s2 = s.maketrans(x,y)\n",
        "print(s.translate(s2))\n",
        "# reference: https://flexiple.com/python-remove-character-from-string/#:~:text=Using%20translate()%3A,with%20None%20and%20not%20%22%22%20."
      ],
      "metadata": {
        "colab": {
          "base_uri": "https://localhost:8080/"
        },
        "id": "9oRQu0aAOUai",
        "outputId": "1f26a53f-b785-4883-b640-6169c96ba7ec"
      },
      "execution_count": null,
      "outputs": [
        {
          "output_type": "stream",
          "name": "stdout",
          "text": [
            "flexiple!\n"
          ]
        }
      ]
    },
    {
      "cell_type": "markdown",
      "source": [
        "### Q104. Write a Python program to remove the characters which have odd index values of a given string"
      ],
      "metadata": {
        "id": "8e-FxoGpO-2j"
      }
    },
    {
      "cell_type": "code",
      "source": [
        "def oddvaluestr(str):\n",
        "  result = ''\n",
        "  for i in range(len(str)):\n",
        "    if i%2 == 0:\n",
        "      result = result + str[i]\n",
        "  return(result)\n",
        "\n",
        "print(oddvaluestr('abcdef'))\n",
        "print(oddvaluestr('python'))\n",
        "# reference: https://www.w3resource.com/python-exercises/string/python-data-type-string-exercise-11.php"
      ],
      "metadata": {
        "colab": {
          "base_uri": "https://localhost:8080/"
        },
        "id": "Hu59C4MNO1EQ",
        "outputId": "6f28852f-5bd2-4820-fa7f-c5af01825d9d"
      },
      "execution_count": null,
      "outputs": [
        {
          "output_type": "stream",
          "name": "stdout",
          "text": [
            "ace\n",
            "pto\n"
          ]
        }
      ]
    },
    {
      "cell_type": "markdown",
      "source": [
        "### Q105. Write a Python function to reverses a string if its length is a multiple of 5"
      ],
      "metadata": {
        "id": "buF7fmqAQSNn"
      }
    },
    {
      "cell_type": "code",
      "source": [
        "def reversestr(str):\n",
        "  if len(str) %5 == 0:\n",
        "    return ''.join(reversed(str))\n",
        "  return(str)\n",
        "\n",
        "print(reversestr('abcde'))\n",
        "print(reversestr('python'))\n",
        "# reference: https://www.w3resource.com/python-exercises/string/python-data-type-string-exercise-20.php"
      ],
      "metadata": {
        "colab": {
          "base_uri": "https://localhost:8080/"
        },
        "id": "tTpeN-4TP3CJ",
        "outputId": "19d569ac-910c-41f9-b7ab-a7d4ffa8af49"
      },
      "execution_count": null,
      "outputs": [
        {
          "output_type": "stream",
          "name": "stdout",
          "text": [
            "edcba\n",
            "python\n"
          ]
        }
      ]
    },
    {
      "cell_type": "markdown",
      "source": [
        "### Q106. Write a Python program to format a number with a percentage(0.05 >> 5%)"
      ],
      "metadata": {
        "id": "J6qvH_HSXR96"
      }
    },
    {
      "cell_type": "code",
      "source": [
        "x = 0.05\n",
        "y = -0.05\n",
        "print('Original number: ',x)\n",
        "print(\"Formatted number with percentage: \"+\"{:.2%}\".format(x));\n",
        "print('Original number: ',y)\n",
        "print(\"Formatted number with percentage: \"+\"{:.2%}\".format(y));\n",
        "print()"
      ],
      "metadata": {
        "colab": {
          "base_uri": "https://localhost:8080/"
        },
        "id": "ltQ_txmEW-df",
        "outputId": "a0e9792a-a5a7-45c2-baec-983c9cdc0d8a"
      },
      "execution_count": null,
      "outputs": [
        {
          "output_type": "stream",
          "name": "stdout",
          "text": [
            "Original number:  0.05\n",
            "Formatted number with percentage: 5.00%\n",
            "Original number:  -0.05\n",
            "Formatted number with percentage: -5.00%\n",
            "\n"
          ]
        }
      ]
    },
    {
      "cell_type": "markdown",
      "source": [
        "### Q107. Write a Python program to reverse words in a string."
      ],
      "metadata": {
        "id": "PcUS05V-ZvYh"
      }
    },
    {
      "cell_type": "code",
      "source": [
        "def reversesentense(sentense):\n",
        "  words = sentense.split(' ')\n",
        "  reverse_sentense = ' '.join(reversed(words))\n",
        "  return reverse_sentense\n",
        "\n",
        "if __name__ == '__main__':\n",
        " input = 'geeks quiz practice code'\n",
        " print(reversesentense(input))\n",
        "# reference: geeks for geeks"
      ],
      "metadata": {
        "colab": {
          "base_uri": "https://localhost:8080/"
        },
        "id": "zytTJ1i7Zgm0",
        "outputId": "780d54ed-df8e-47f4-93c9-0c0478b00fb8"
      },
      "execution_count": null,
      "outputs": [
        {
          "output_type": "stream",
          "name": "stdout",
          "text": [
            "code practice quiz geeks\n"
          ]
        }
      ]
    },
    {
      "cell_type": "code",
      "source": [
        "## initializing the string\n",
        "string = \"I am a python programmer\"\n",
        "## splitting the string on space\n",
        "words = string.split()\n",
        "## reversing the words using reversed() function\n",
        "words = list(reversed(words))\n",
        "## joining the words and printing\n",
        "print(\" \".join(words))\n",
        "# reference: https://www.tutorialspoint.com/reverse-words-in-a-given-string-in-python"
      ],
      "metadata": {
        "colab": {
          "base_uri": "https://localhost:8080/"
        },
        "id": "k8tw566XdNk1",
        "outputId": "dc8212a5-fb5c-4fe8-f467-6251d8d60f47"
      },
      "execution_count": null,
      "outputs": [
        {
          "output_type": "stream",
          "name": "stdout",
          "text": [
            "programmer python a am I\n"
          ]
        }
      ]
    },
    {
      "cell_type": "markdown",
      "source": [
        "### Q108. Write a Python program to swap cases of a given string."
      ],
      "metadata": {
        "id": "-0gNAKmld75p"
      }
    },
    {
      "cell_type": "code",
      "source": [
        "def swapcasestr(str1):\n",
        "  result_str = ''\n",
        "  for item in str1:\n",
        "    if item.isupper():\n",
        "      result_str += item.lower()\n",
        "    else:\n",
        "      result_str += item.upper()\n",
        "  return result_str\n",
        "\n",
        "print(swapcasestr(\"Python Exercises\"))\n",
        "print(swapcasestr(\"Java\"))\n",
        "print(swapcasestr(\"NumPy\"))\n",
        "# reference: https://www.w3resource.com/python-exercises/string/python-data-type-string-exercise-84.php"
      ],
      "metadata": {
        "colab": {
          "base_uri": "https://localhost:8080/"
        },
        "id": "xAbnD88hdy_y",
        "outputId": "8f59080b-f3b4-4505-b349-3b5511a9d536"
      },
      "execution_count": null,
      "outputs": [
        {
          "output_type": "stream",
          "name": "stdout",
          "text": [
            "pYTHON eXERCISES\n",
            "jAVA\n",
            "nUMpY\n"
          ]
        }
      ]
    },
    {
      "cell_type": "code",
      "source": [
        "# Python program to demonstrate the use of\n",
        "# swapcase() method\n",
        "\n",
        "string = \"gEEksFORgeeks\"\n",
        "\n",
        "# prints after swappong all cases\n",
        "print(string.swapcase())\n",
        "\n",
        "string = \"striver\"\n",
        "print(string.swapcase())\n",
        "# reference: https://www.geeksforgeeks.org/python-string-swapcase/"
      ],
      "metadata": {
        "colab": {
          "base_uri": "https://localhost:8080/"
        },
        "id": "VXU0ckqifrUV",
        "outputId": "22f89f45-ab62-49d1-fc4e-46acc8c40828"
      },
      "execution_count": null,
      "outputs": [
        {
          "output_type": "stream",
          "name": "stdout",
          "text": [
            "GeeKSforGEEKS\n",
            "STRIVER\n"
          ]
        }
      ]
    },
    {
      "cell_type": "markdown",
      "source": [
        "### Q109. Write a Python program to remove spaces from a given string"
      ],
      "metadata": {
        "id": "SSaC-zYogJgg"
      }
    },
    {
      "cell_type": "code",
      "source": [
        "def removespaces(str1):\n",
        "  str1 = str1.replace(' ','')\n",
        "  return str1\n",
        "\n",
        "print(removespaces(\"w 3 res ou r ce\"))\n",
        "print(removespaces(\"a b c\"))"
      ],
      "metadata": {
        "colab": {
          "base_uri": "https://localhost:8080/"
        },
        "id": "rY2oxtCYgF5M",
        "outputId": "cd686073-ca1b-4a2f-ecf5-8123a664cb5b"
      },
      "execution_count": null,
      "outputs": [
        {
          "output_type": "stream",
          "name": "stdout",
          "text": [
            "w3resource\n",
            "abc\n"
          ]
        }
      ]
    },
    {
      "cell_type": "markdown",
      "source": [
        "### Q110. Write a Python program to remove duplicate characters of a given string"
      ],
      "metadata": {
        "id": "Mgm-j_1aiHru"
      }
    },
    {
      "cell_type": "code",
      "source": [
        "from collections import OrderedDict\n",
        "def removeduplicates(str1):\n",
        "  return ''.join(OrderedDict.fromkeys(str1))\n",
        "\n",
        "print(removeduplicates(\"python exercises practice solution\"))\n",
        "print(removeduplicates(\"w3resource\"))\n",
        "# reference: https://www.w3resource.com/python-exercises/string/python-data-type-string-exercise-61.php"
      ],
      "metadata": {
        "colab": {
          "base_uri": "https://localhost:8080/"
        },
        "id": "F601d7lmiF2N",
        "outputId": "cbfba526-98ef-4a1e-8d09-081713effacf"
      },
      "execution_count": null,
      "outputs": [
        {
          "output_type": "stream",
          "name": "stdout",
          "text": [
            "python exrcisalu\n",
            "w3resouc\n"
          ]
        }
      ]
    },
    {
      "cell_type": "code",
      "source": [
        "def removeduplicates(str1):\n",
        "  s = set(str)\n",
        "  s = ''.join(s)\n",
        "  print('Without order :',s)\n",
        "  t = ''\n",
        "  for i in str:\n",
        "    if (i in t):\n",
        "      pass \n",
        "    else:\n",
        "      t = t+i\n",
        "    print('With order :',t)\n",
        "\n",
        "str=\"geeksforgeeks\"\n",
        "removeduplicates(str)\n",
        "# reference: https://www.geeksforgeeks.org/remove-duplicates-given-string-python/"
      ],
      "metadata": {
        "colab": {
          "base_uri": "https://localhost:8080/"
        },
        "id": "_M0oISZRjC-y",
        "outputId": "3988fa20-05e3-459e-a29f-f096dd4a2d7f"
      },
      "execution_count": null,
      "outputs": [
        {
          "output_type": "stream",
          "name": "stdout",
          "text": [
            "Without order : gokfser\n",
            "With order : g\n",
            "With order : ge\n",
            "With order : ge\n",
            "With order : gek\n",
            "With order : geks\n",
            "With order : geksf\n",
            "With order : geksfo\n",
            "With order : geksfor\n",
            "With order : geksfor\n",
            "With order : geksfor\n",
            "With order : geksfor\n",
            "With order : geksfor\n",
            "With order : geksfor\n"
          ]
        }
      ]
    },
    {
      "cell_type": "markdown",
      "source": [
        "### Q112. Write a Python Program to find the area of a circle"
      ],
      "metadata": {
        "id": "oupgHKpzkwHW"
      }
    },
    {
      "cell_type": "code",
      "source": [
        "def areaofcircle(r):\n",
        "  area = 3.142*r**2\n",
        "  return area\n",
        "areaofcircle(5)"
      ],
      "metadata": {
        "colab": {
          "base_uri": "https://localhost:8080/"
        },
        "id": "2dgN_Zj0kg07",
        "outputId": "3798f272-cf4a-40c6-ce43-4315b34a7d21"
      },
      "execution_count": null,
      "outputs": [
        {
          "output_type": "execute_result",
          "data": {
            "text/plain": [
              "78.55"
            ]
          },
          "metadata": {},
          "execution_count": 65
        }
      ]
    },
    {
      "cell_type": "markdown",
      "source": [
        "### Q113. Python Program to find Sum of squares of first n natural numbers."
      ],
      "metadata": {
        "id": "Bq9rNYchmiPI"
      }
    },
    {
      "cell_type": "code",
      "source": [
        "def squaresum(n):\n",
        "  sm = 0\n",
        "  for i in range(1, n+1):\n",
        "    sm = sm + (i*i)\n",
        "  return sm\n",
        "\n",
        "print(squaresum(5))"
      ],
      "metadata": {
        "colab": {
          "base_uri": "https://localhost:8080/"
        },
        "id": "w04iGaNimYMq",
        "outputId": "b18785de-573c-42e5-ee79-ca105e686746"
      },
      "execution_count": null,
      "outputs": [
        {
          "output_type": "stream",
          "name": "stdout",
          "text": [
            "55\n"
          ]
        }
      ]
    },
    {
      "cell_type": "code",
      "source": [
        "# Python3 Program to find sum of square of first n natural numbers\n",
        "# Return the sum of square of first n natural numbers\n",
        "def squaresum(n) :\n",
        "\treturn (n * (n + 1) * (2 * n + 1)) // 6\n",
        "\n",
        "# Driven Program\n",
        "n = 4\n",
        "print(squaresum(n))\n",
        "\n",
        "#This code is contributed by Nikita Tiwari.\t\t\t\t\t\t\t\t\t\t\t\t\t\t\t"
      ],
      "metadata": {
        "colab": {
          "base_uri": "https://localhost:8080/"
        },
        "id": "UOxkbH_nmrMN",
        "outputId": "b87a0bbb-2baa-4a1d-ee97-b972b08eee74"
      },
      "execution_count": null,
      "outputs": [
        {
          "output_type": "stream",
          "name": "stdout",
          "text": [
            "30\n"
          ]
        }
      ]
    },
    {
      "cell_type": "code",
      "source": [
        "# Python Program to find sum of square of first n natural numbers. This program avoids overflow upto some extent for large value of n.y\n",
        "\n",
        "def squaresum(n):\n",
        "\treturn (n * (n + 1) / 2) * (2 * n + 1) / 3\n",
        "\n",
        "# main()\n",
        "n = 4\n",
        "print(squaresum(n));\n",
        "\n",
        "# Code Contributed by Mohit Gupta_OMG <(0_o)>\n",
        "# reference: https://www.geeksforgeeks.org/python-program-for-sum-of-squares-of-first-n-natural-numbers/"
      ],
      "metadata": {
        "colab": {
          "base_uri": "https://localhost:8080/"
        },
        "id": "fUBs-vGlnxm0",
        "outputId": "1f4c2cee-8050-4fef-e7f1-414ebbdf9903"
      },
      "execution_count": null,
      "outputs": [
        {
          "output_type": "stream",
          "name": "stdout",
          "text": [
            "30.0\n"
          ]
        }
      ]
    },
    {
      "cell_type": "markdown",
      "source": [
        "### Q114. Python Program to find cube sum of first n natural numbers."
      ],
      "metadata": {
        "id": "v2NWxXgdoXpY"
      }
    },
    {
      "cell_type": "code",
      "source": [
        "def cubesum(n):\n",
        "  sm = 0\n",
        "  for i in range(1, n+1):\n",
        "    sm = sm + (i**3)\n",
        "  return sm\n",
        "\n",
        "print(cubesum(5))"
      ],
      "metadata": {
        "colab": {
          "base_uri": "https://localhost:8080/"
        },
        "id": "KeebAclrocNm",
        "outputId": "a0c77e0c-f749-4f19-bebd-ba85673225d6"
      },
      "execution_count": null,
      "outputs": [
        {
          "output_type": "stream",
          "name": "stdout",
          "text": [
            "225\n"
          ]
        }
      ]
    },
    {
      "cell_type": "code",
      "source": [
        "# A formula based Python program to find sum\n",
        "# of series with cubes of first n natural\n",
        "# numbers\n",
        "\n",
        "# Returns the sum of series\n",
        "def sumOfSeries(n):\n",
        "\tx = (n * (n + 1) / 2)\n",
        "\treturn (int)(x * x)\n",
        "\n",
        "\n",
        "\n",
        "# Driver Function\n",
        "n = 5\n",
        "print(sumOfSeries(n))\n",
        "\n",
        "# Code Contributed by Mohit Gupta_OMG <(0_o)>"
      ],
      "metadata": {
        "id": "X_1siENvo3w7"
      },
      "execution_count": null,
      "outputs": []
    },
    {
      "cell_type": "code",
      "source": [
        "# Efficient Python program to find sum of cubes\n",
        "# of first n natural numbers that avoids\n",
        "# overflow if result is going to be withing\n",
        "# limits.\n",
        "\n",
        "# Returns the sum of series\n",
        "def sumOfSeries(n):\n",
        "\tx = 0\n",
        "\tif n % 2 == 0 :\n",
        "\t\tx = (n/2) * (n+1)\n",
        "\telse:\n",
        "\t\tx = ((n + 1) / 2) * n\n",
        "\t\t\n",
        "\treturn (int)(x * x)\n",
        "\n",
        "\n",
        "# Driver Function\n",
        "n = 5\n",
        "print(sumOfSeries(n))\n",
        "\n",
        "# Code Contributed by Mohit Gupta_OMG <(0_o)>\n",
        "# reference : https://www.geeksforgeeks.org/python-program-for-program-for-cube-sum-of-first-n-natural-numbers/"
      ],
      "metadata": {
        "id": "OTQsYWEWpzFF"
      },
      "execution_count": null,
      "outputs": []
    },
    {
      "cell_type": "markdown",
      "source": [
        "### Q115. Python Program to find simple interest and compound interest."
      ],
      "metadata": {
        "id": "fs_rh5c7p-cR"
      }
    },
    {
      "cell_type": "code",
      "source": [
        "def simpleintrest(p,t,r):\n",
        "  print('The principle is :',p)\n",
        "  print('Time is :',t)\n",
        "  print('Rate of intrest is :',r)\n",
        "  si = (p*t*r) / 100\n",
        "  print('The simple intrest is :', si)\n",
        "  return si\n",
        "\n",
        "(simpleintrest(1000,2,10))"
      ],
      "metadata": {
        "colab": {
          "base_uri": "https://localhost:8080/"
        },
        "id": "gcRUyLdGqIDh",
        "outputId": "9a8c8097-8e49-4394-f5c7-d9d89e54404b"
      },
      "execution_count": null,
      "outputs": [
        {
          "output_type": "stream",
          "name": "stdout",
          "text": [
            "The principle is : 1000\n",
            "Time is : 2\n",
            "Rate of intrest is : 10\n",
            "The simple intrest is : 200.0\n"
          ]
        },
        {
          "output_type": "execute_result",
          "data": {
            "text/plain": [
              "200.0"
            ]
          },
          "metadata": {},
          "execution_count": 81
        }
      ]
    },
    {
      "cell_type": "code",
      "source": [
        "def compoundintrest(principle, rate, time):\n",
        "  amount = principle * (pow((1 + rate / 100), time))\n",
        "  ci = amount - principle\n",
        "  print('The compound intrest is: ',ci)\n",
        "\n",
        "compoundintrest(10000, 10.25, 5)\n",
        "# reference: https://www.geeksforgeeks.org/python-program-for-compound-interest/"
      ],
      "metadata": {
        "colab": {
          "base_uri": "https://localhost:8080/"
        },
        "id": "lNQv5JBYrbdT",
        "outputId": "7229aec9-e41f-4674-af7d-c7132c39e290"
      },
      "execution_count": null,
      "outputs": [
        {
          "output_type": "stream",
          "name": "stdout",
          "text": [
            "The compound intrest is:  6288.946267774416\n"
          ]
        }
      ]
    },
    {
      "cell_type": "markdown",
      "source": [
        "### Q116. Python program to check whether a number is Prime or not."
      ],
      "metadata": {
        "id": "HitCGPv8s9Iv"
      }
    },
    {
      "cell_type": "code",
      "source": [
        "num = 11\n",
        "if num > 1:\n",
        "  for i in range(2, int(num/2)+1):\n",
        "    if num % i == 0:\n",
        "      print(num, 'is not Prime Number')\n",
        "      break\n",
        "  else:\n",
        "    print(num, 'is prime Number')\n",
        "else:\n",
        "  print(num, 'is not Prime Number')\n",
        "    "
      ],
      "metadata": {
        "colab": {
          "base_uri": "https://localhost:8080/"
        },
        "id": "WlIzyI4Zsyi5",
        "outputId": "05945ac1-3e79-460a-8fb7-865216ab254e"
      },
      "execution_count": null,
      "outputs": [
        {
          "output_type": "stream",
          "name": "stdout",
          "text": [
            "11 is prime Number\n"
          ]
        }
      ]
    },
    {
      "cell_type": "markdown",
      "source": [
        "## 5) Python program using loop, dict, functions (Null 6)"
      ],
      "metadata": {
        "id": "nDhaz0HKvKK9"
      }
    },
    {
      "cell_type": "markdown",
      "source": [
        "### Q117. Python program to sort Python Dictionaries by Keys."
      ],
      "metadata": {
        "id": "no1b_o3qh_Jr"
      }
    },
    {
      "cell_type": "code",
      "source": [
        "color_dict = {'red':'#FF0000',\n",
        "          'green':'#008000',\n",
        "          'black':'#000000',\n",
        "          'white':'#FFFFFF'}\n",
        "for key in sorted(color_dict):\n",
        "  print('%s: %s'%(key, color_dict[key]))"
      ],
      "metadata": {
        "id": "iKi87JzouLmy",
        "colab": {
          "base_uri": "https://localhost:8080/"
        },
        "outputId": "c4e558e8-128e-4455-d0e0-b49272f99159"
      },
      "execution_count": null,
      "outputs": [
        {
          "output_type": "stream",
          "name": "stdout",
          "text": [
            "black: #000000\n",
            "green: #008000\n",
            "red: #FF0000\n",
            "white: #FFFFFF\n"
          ]
        }
      ]
    },
    {
      "cell_type": "code",
      "source": [
        "def sortdictbykey(d, reverse = False):\n",
        "  return dict(sorted(d.items(), reverse=reverse))\n",
        "students = { 'name1': 'Theodore', 'name2': 'Mathew', 'name4': 'Roxanne', 'name3': 'David' }\n",
        "print('Original dictionary: ',students)\n",
        "print('\\n Sort the dictionary by key (Ascending order)')\n",
        "print(sortdictbykey(students))\n",
        "print('\\n Sort the dictionary by key (Descending order)')\n",
        "print(sortdictbykey(students, True))"
      ],
      "metadata": {
        "colab": {
          "base_uri": "https://localhost:8080/"
        },
        "id": "myz75jstlwQS",
        "outputId": "c3e8c50e-8166-48ca-dcd7-ae6e4f36d501"
      },
      "execution_count": null,
      "outputs": [
        {
          "output_type": "stream",
          "name": "stdout",
          "text": [
            "Original dictionary:  {'name1': 'Theodore', 'name2': 'Mathew', 'name4': 'Roxanne', 'name3': 'David'}\n",
            "\n",
            " Sort the dictionary by key (Ascending order)\n",
            "{'name1': 'Theodore', 'name2': 'Mathew', 'name3': 'David', 'name4': 'Roxanne'}\n",
            "\n",
            " Sort the dictionary by key (Descending order)\n",
            "{'name4': 'Roxanne', 'name3': 'David', 'name2': 'Mathew', 'name1': 'Theodore'}\n"
          ]
        }
      ]
    },
    {
      "cell_type": "code",
      "source": [
        "# Creates a sorted dictionary (sorted by key)\n",
        "from collections import OrderedDict\n",
        "\n",
        "dict = {'ravi':'10','rajnish':'9','sanjeev':'15','yash':'2','suraj':'32'}\n",
        "dict1 = OrderedDict(sorted(dict.items()))\n",
        "print(dict1)"
      ],
      "metadata": {
        "colab": {
          "base_uri": "https://localhost:8080/"
        },
        "id": "DkwPuoGQovMf",
        "outputId": "e6f8220d-50a4-4005-909c-38f74b502c6c"
      },
      "execution_count": null,
      "outputs": [
        {
          "output_type": "stream",
          "name": "stdout",
          "text": [
            "OrderedDict([('rajnish', '9'), ('ravi', '10'), ('sanjeev', '15'), ('suraj', '32'), ('yash', '2')])\n"
          ]
        }
      ]
    },
    {
      "cell_type": "markdown",
      "source": [
        "### Q118. Python program to sort Python Dictionaries by Values."
      ],
      "metadata": {
        "id": "PLa8McQInb8v"
      }
    },
    {
      "cell_type": "code",
      "source": [
        "import operator\n",
        "d = {1: 2, 3: 4, 4: 3, 2: 1, 0: 0}\n",
        "print('Original dictionary: ',d)\n",
        "sorted_d = sorted(d.items(), key = operator.itemgetter(1))\n",
        "print('Dictionary in ascending order by value :',sorted_d)\n",
        "sorted_d = (sorted(d.items(), key = operator.itemgetter(1), reverse = True))\n",
        "print('Dictionary in descending order by value :',sorted_d)"
      ],
      "metadata": {
        "colab": {
          "base_uri": "https://localhost:8080/"
        },
        "id": "X9cRFXdAnF0T",
        "outputId": "0e4b2c1e-3069-424c-df6a-c9f7c93793c8"
      },
      "execution_count": null,
      "outputs": [
        {
          "output_type": "stream",
          "name": "stdout",
          "text": [
            "Original dictionary:  {1: 2, 3: 4, 4: 3, 2: 1, 0: 0}\n",
            "Dictionary in ascending order by value : [(0, 0), (2, 1), (1, 2), (4, 3), (3, 4)]\n",
            "Dictionary in descending order by value : [(3, 4), (4, 3), (1, 2), (2, 1), (0, 0)]\n"
          ]
        }
      ]
    },
    {
      "cell_type": "code",
      "source": [
        "def sort_dict_by_value(d, reverse = False):\n",
        "  return (sorted(d.items(), key = lambda x: x[1], reverse = reverse))\n",
        "print(\"Original dictionary elements:\")\n",
        "colors = {'Red': 1, 'Green': 3, 'Black': 5, 'White': 2, 'Pink': 4}\n",
        "print(colors)\n",
        "print(\"\\nSort (ascending) the said dictionary elements by value:\")\n",
        "print(sort_dict_by_value(colors))\n",
        "print(\"\\nSort (descending) the said dictionary elements by value:\")\n",
        "print(sort_dict_by_value(colors, True))\n",
        "# reference: https://www.w3resource.com/python-exercises/dictionary/python-data-type-dictionary-exercise-1.php"
      ],
      "metadata": {
        "colab": {
          "base_uri": "https://localhost:8080/"
        },
        "id": "AwcZ-YiRowKi",
        "outputId": "56b97f17-eef2-4f98-eacd-caed2ffb7114"
      },
      "execution_count": null,
      "outputs": [
        {
          "output_type": "stream",
          "name": "stdout",
          "text": [
            "Original dictionary elements:\n",
            "{'Red': 1, 'Green': 3, 'Black': 5, 'White': 2, 'Pink': 4}\n",
            "\n",
            "Sort (ascending) the said dictionary elements by value:\n",
            "[('Red', 1), ('White', 2), ('Green', 3), ('Pink', 4), ('Black', 5)]\n",
            "\n",
            "Sort (descending) the said dictionary elements by value:\n",
            "[('Black', 5), ('Pink', 4), ('Green', 3), ('White', 2), ('Red', 1)]\n"
          ]
        }
      ]
    },
    {
      "cell_type": "markdown",
      "source": [
        "### Q119. Python program to find the sum of all items in a dictionary.\n"
      ],
      "metadata": {
        "id": "h2LcmOtIsRAQ"
      }
    },
    {
      "cell_type": "code",
      "source": [
        "def returnsum(mydict):\n",
        "  list = []\n",
        "  for i in mydict:\n",
        "    list.append(mydict[i])\n",
        "  final = sum(list)\n",
        "  return final\n",
        "\n",
        "dict = {10: 100, 20: 200, 30: 300}\n",
        "print(\"Sum :\", returnsum(dict))"
      ],
      "metadata": {
        "colab": {
          "base_uri": "https://localhost:8080/"
        },
        "id": "Y2PZIeMmsCDR",
        "outputId": "4b79643d-992f-45a2-bdb4-557671cd0ea8"
      },
      "execution_count": null,
      "outputs": [
        {
          "output_type": "stream",
          "name": "stdout",
          "text": [
            "Sum : 600\n"
          ]
        }
      ]
    },
    {
      "cell_type": "code",
      "source": [
        "# Python3 Program to find sum of\n",
        "# all items in a Dictionary\n",
        "\n",
        "# Function to print sum\n",
        "\n",
        "\n",
        "def returnSum(dict):\n",
        "\n",
        "\tsum = 0\n",
        "\tfor i in dict.values():\n",
        "\t\tsum = sum + i\n",
        "\n",
        "\treturn sum\n",
        "\n",
        "\n",
        "# Driver Function\n",
        "dict = {'a': 100, 'b': 200, 'c': 300}\n",
        "print(\"Sum :\", returnSum(dict))"
      ],
      "metadata": {
        "colab": {
          "base_uri": "https://localhost:8080/"
        },
        "id": "1HAo_vwbuY9f",
        "outputId": "92b325cf-3f3f-4242-e0c2-8180579a0cc3"
      },
      "execution_count": null,
      "outputs": [
        {
          "output_type": "stream",
          "name": "stdout",
          "text": [
            "Sum : 600\n"
          ]
        }
      ]
    },
    {
      "cell_type": "code",
      "source": [
        "# Python3 Program to find sum of\n",
        "# all items in a Dictionary\n",
        "\n",
        "# Function to print sum\n",
        "\n",
        "\n",
        "def returnSum(dict):\n",
        "\n",
        "\tsum = 0\n",
        "\tfor i in dict:\n",
        "\t\tsum = sum + dict[i]\n",
        "\n",
        "\treturn sum\n",
        "\n",
        "\n",
        "# Driver Function\n",
        "dict = {'a': 100, 'b': 200, 'c': 300}\n",
        "print(\"Sum :\", returnSum(dict))"
      ],
      "metadata": {
        "colab": {
          "base_uri": "https://localhost:8080/"
        },
        "id": "Tinr0NE9unAX",
        "outputId": "da5b3491-5a65-440a-cce9-698fc1dc0f11"
      },
      "execution_count": null,
      "outputs": [
        {
          "output_type": "stream",
          "name": "stdout",
          "text": [
            "Sum : 600\n"
          ]
        }
      ]
    },
    {
      "cell_type": "code",
      "source": [
        "# Python3 Program to find sum of\n",
        "# all items in a Dictionary\n",
        "\n",
        "# Function to print sum\n",
        "\n",
        "\n",
        "def returnSum(dict):\n",
        "\treturn sum(dict.values())\n",
        "\n",
        "\n",
        "# Driver Function\n",
        "dict = {'a': 100, 'b': 200, 'c': 300}\n",
        "print(\"Sum :\", returnSum(dict))"
      ],
      "metadata": {
        "colab": {
          "base_uri": "https://localhost:8080/"
        },
        "id": "YQqtPDk2um3-",
        "outputId": "64d305c2-434b-41c8-9c9b-aee3211e5074"
      },
      "execution_count": null,
      "outputs": [
        {
          "output_type": "stream",
          "name": "stdout",
          "text": [
            "Sum : 600\n"
          ]
        }
      ]
    },
    {
      "cell_type": "markdown",
      "source": [
        "### Q120. Python program to remove a key from a dictionary."
      ],
      "metadata": {
        "id": "S7362biuvIpi"
      }
    },
    {
      "cell_type": "code",
      "source": [
        "mydict = {'a':1,'b':2,'c':3,'d':4}\n",
        "print(mydict)\n",
        "if 'a' in mydict:\n",
        "  del mydict['a']\n",
        "print(mydict)"
      ],
      "metadata": {
        "colab": {
          "base_uri": "https://localhost:8080/"
        },
        "id": "5C98kHRlvPBA",
        "outputId": "3adbce38-15ec-4a92-d97b-09e0d6294dc1"
      },
      "execution_count": null,
      "outputs": [
        {
          "output_type": "stream",
          "name": "stdout",
          "text": [
            "{'a': 1, 'b': 2, 'c': 3, 'd': 4}\n",
            "{'b': 2, 'c': 3, 'd': 4}\n"
          ]
        }
      ]
    },
    {
      "cell_type": "code",
      "source": [
        "# Python code to demonstrate\n",
        "# removal of dict. pair\n",
        "# using pop()\n",
        "\n",
        "# Initializing dictionary\n",
        "test_dict = {\"Arushi\" : 22, \"Anuradha\" : 21, \"Mani\" : 21, \"Haritha\" : 21}\n",
        "\n",
        "# Printing dictionary before removal\n",
        "print (\"The dictionary before performing remove is : \" + str(test_dict))\n",
        "\n",
        "# Using pop() to remove a dict. pair\n",
        "# removes Mani\n",
        "removed_value = test_dict.pop('Mani')\n",
        "\n",
        "# Printing dictionary after removal\n",
        "print (\"The dictionary after remove is : \" + str(test_dict))\n",
        "print (\"The removed key's value is : \" + str(removed_value))\n",
        "\n",
        "print ('\\r')\n",
        "\n",
        "# Using pop() to remove a dict. pair\n",
        "# doesn't raise exception\n",
        "# assigns 'No Key found' to removed_value\n",
        "removed_value = test_dict.pop('Manjeet', 'No Key found')\n",
        "\n",
        "# Printing dictionary after removal\n",
        "print (\"The dictionary after remove is : \" + str(test_dict))\n",
        "print (\"The removed key's value is : \" + str(removed_value))"
      ],
      "metadata": {
        "colab": {
          "base_uri": "https://localhost:8080/"
        },
        "id": "FDdtVE7evlhG",
        "outputId": "8e7b2b41-08e1-4222-c2cd-3c58b98566b3"
      },
      "execution_count": null,
      "outputs": [
        {
          "output_type": "stream",
          "name": "stdout",
          "text": [
            "The dictionary before performing remove is : {'Arushi': 22, 'Anuradha': 21, 'Mani': 21, 'Haritha': 21}\n",
            "The dictionary after remove is : {'Arushi': 22, 'Anuradha': 21, 'Haritha': 21}\n",
            "The removed key's value is : 21\n",
            "\r\n",
            "The dictionary after remove is : {'Arushi': 22, 'Anuradha': 21, 'Haritha': 21}\n",
            "The removed key's value is : No Key found\n"
          ]
        }
      ]
    },
    {
      "cell_type": "code",
      "source": [
        "# using dict comprihension\n",
        "test_dict = {\"Arushi\" : 22, \"Anuradha\" : 21, \"Mani\" : 21, \"Haritha\" : 21}\n",
        "print('The dictionary before performing remove is :' +str(test_dict))\n",
        "new_dict = {key:val for key, val in test_dict.items() if key != 'Mani'}\n",
        "print('The dictionary after remove is :' +str(new_dict))"
      ],
      "metadata": {
        "colab": {
          "base_uri": "https://localhost:8080/"
        },
        "id": "utNzuQaJwE9I",
        "outputId": "be18f5ed-b608-4e70-e426-6e91766794b5"
      },
      "execution_count": null,
      "outputs": [
        {
          "output_type": "stream",
          "name": "stdout",
          "text": [
            "The dictionary before performing remove is :{'Arushi': 22, 'Anuradha': 21, 'Mani': 21, 'Haritha': 21}\n",
            "The dictionary after remove is :{'Arushi': 22, 'Anuradha': 21, 'Haritha': 21}\n"
          ]
        }
      ]
    },
    {
      "cell_type": "markdown",
      "source": [
        "### Q 121. Python program to merge two Dictionaries."
      ],
      "metadata": {
        "id": "ZaTIn0ShxQRT"
      }
    },
    {
      "cell_type": "code",
      "source": [
        "def merge(dict1, dict2):\n",
        "  return (dict2.update(dict1))\n",
        "\n",
        "dict1 = {'a': 10, 'b': 8}\n",
        "dict2 = {'d': 6, 'c': 4}\n",
        "print(merge(dict1, dict2))\n",
        "print(dict2)"
      ],
      "metadata": {
        "colab": {
          "base_uri": "https://localhost:8080/"
        },
        "id": "RGTEcj3ew-43",
        "outputId": "8ee58d9e-3ac8-4022-bee3-80b888837dbe"
      },
      "execution_count": null,
      "outputs": [
        {
          "output_type": "stream",
          "name": "stdout",
          "text": [
            "None\n",
            "{'d': 6, 'c': 4, 'a': 10, 'b': 8}\n"
          ]
        }
      ]
    },
    {
      "cell_type": "code",
      "source": [
        "# Python code to merge dict using a single\n",
        "# expression\n",
        "def Merge(dict1, dict2):\n",
        "\tres = {**dict1, **dict2}\n",
        "\treturn res\n",
        "\t\n",
        "# Driver code\n",
        "dict1 = {'a': 10, 'b': 8}\n",
        "dict2 = {'d': 6, 'c': 4}\n",
        "dict3 = Merge(dict1, dict2)\n",
        "print(dict3)"
      ],
      "metadata": {
        "colab": {
          "base_uri": "https://localhost:8080/"
        },
        "id": "gDFCGyZhyF8G",
        "outputId": "ccc5de0d-9adc-4380-bce7-178401a45292"
      },
      "execution_count": null,
      "outputs": [
        {
          "output_type": "stream",
          "name": "stdout",
          "text": [
            "{'a': 10, 'b': 8, 'd': 6, 'c': 4}\n"
          ]
        }
      ]
    },
    {
      "cell_type": "markdown",
      "source": [
        "### Q122. Program to create grade calculator in Python.\n"
      ],
      "metadata": {
        "id": "4mMCTIQvypJp"
      }
    },
    {
      "cell_type": "code",
      "source": [
        "#Python code for the Grade Calculator program in action\n",
        "  \n",
        "# Creating a dictionary which consists of the student name, assignment result test results and their respective lab results\n",
        "  \n",
        "# 1. Jack's dictionary\n",
        "jack = { \"name\":\"Jack Frost\",\n",
        "         \"assignment\" : [80, 50, 40, 20],\n",
        "         \"test\" : [75, 75],\n",
        "         \"lab\" : [78.20, 77.20]\n",
        "       }\n",
        "         \n",
        "# 2. James's dictionary\n",
        "james = { \"name\":\"James Potter\",\n",
        "          \"assignment\" : [82, 56, 44, 30],\n",
        "          \"test\" : [80, 80],\n",
        "          \"lab\" : [67.90, 78.72]\n",
        "        }\n",
        "  \n",
        "# 3. Dylan's dictionary\n",
        "dylan = { \"name\" : \"Dylan Rhodes\",\n",
        "          \"assignment\" : [77, 82, 23, 39],\n",
        "          \"test\" : [78, 77],\n",
        "          \"lab\" : [80, 80]\n",
        "        }\n",
        "          \n",
        "# 4. Jessica's dictionary\n",
        "jess = { \"name\" : \"Jessica Stone\",\n",
        "         \"assignment\" : [67, 55, 77, 21],\n",
        "         \"test\" : [40, 50],\n",
        "         \"lab\" : [69, 44.56]\n",
        "       }\n",
        "         \n",
        "# 5. Tom's dictionary\n",
        "tom = { \"name\" : \"Tom Hanks\",\n",
        "        \"assignment\" : [29, 89, 60, 56],\n",
        "        \"test\" : [65, 56],\n",
        "        \"lab\" : [50, 40.6]\n",
        "      }\n",
        "\n",
        "def get_average(marks):\n",
        "  total_sum = sum(marks)\n",
        "  total_sum = float(total_sum)\n",
        "  return total_sum / len(marks)\n",
        "\n",
        "def calculate_total_average(students):\n",
        "  assignment = get_average(students['assignment'])\n",
        "  test = get_average(students['test'])\n",
        "  lab = get_average(students['lab'])\n",
        "\n",
        "    # Return the result based\n",
        "    # on weightage supplied\n",
        "    # 10 % from assignments\n",
        "    # 70 % from test\n",
        "    # 20 % from lab-works\n",
        "  return (0.1 * assignment + 0.7 * test + 0.2 * lab)\n",
        "\n",
        "def assign_letter_grade(score):\n",
        "  if score >= 90: return 'A'\n",
        "  if score >= 80: return 'B'\n",
        "  if score >= 70: return 'C'\n",
        "  if score >= 60: return 'D'\n",
        "  else: return 'E'\n",
        "\n",
        "def class_average_is(student_list):\n",
        "  result_list = []\n",
        "\n",
        "  for student in student_list:\n",
        "    stud_avg = calculate_total_average(student)\n",
        "    result_list.append(stud_avg)\n",
        "    return get_average(result_list)\n",
        "\n",
        "students = [jack, james, dylan, jess, tom]\n",
        "for i in students:\n",
        "  print(i['name'])\n",
        "  print(\"=+=+=+=+=+=+=+=+=+=+=+=+=+=+=+=+=+=+=+=\")\n",
        "  print('Average marks of %s is : %s' %(i['name'],calculate_total_average(i)))\n",
        "  print('Letter grade of %s is : %s' %(i['name'],assign_letter_grade(calculate_total_average(i))))\n",
        "  print()\n",
        "\n",
        "class_av = class_average_is(students)\n",
        "print('Class average is %s :'% (class_av))\n",
        "print('Letter grade of class is %s :'% (assign_letter_grade(class_av)))\n",
        "# reference: https://www.geeksforgeeks.org/program-create-grade-calculator-in-python/"
      ],
      "metadata": {
        "colab": {
          "base_uri": "https://localhost:8080/"
        },
        "id": "Bi9-yBYrysbu",
        "outputId": "89b7137d-1a17-4044-f3c4-6dabf6eed3bc"
      },
      "execution_count": null,
      "outputs": [
        {
          "output_type": "stream",
          "name": "stdout",
          "text": [
            "Jack Frost\n",
            "=+=+=+=+=+=+=+=+=+=+=+=+=+=+=+=+=+=+=+=\n",
            "Average marks of Jack Frost is : 72.79\n",
            "Letter grade of Jack Frost is : C\n",
            "\n",
            "James Potter\n",
            "=+=+=+=+=+=+=+=+=+=+=+=+=+=+=+=+=+=+=+=\n",
            "Average marks of James Potter is : 75.962\n",
            "Letter grade of James Potter is : C\n",
            "\n",
            "Dylan Rhodes\n",
            "=+=+=+=+=+=+=+=+=+=+=+=+=+=+=+=+=+=+=+=\n",
            "Average marks of Dylan Rhodes is : 75.775\n",
            "Letter grade of Dylan Rhodes is : C\n",
            "\n",
            "Jessica Stone\n",
            "=+=+=+=+=+=+=+=+=+=+=+=+=+=+=+=+=+=+=+=\n",
            "Average marks of Jessica Stone is : 48.356\n",
            "Letter grade of Jessica Stone is : E\n",
            "\n",
            "Tom Hanks\n",
            "=+=+=+=+=+=+=+=+=+=+=+=+=+=+=+=+=+=+=+=\n",
            "Average marks of Tom Hanks is : 57.26\n",
            "Letter grade of Tom Hanks is : E\n",
            "\n",
            "Class average is 72.79 :\n",
            "Letter grade of class is C :\n"
          ]
        }
      ]
    },
    {
      "cell_type": "markdown",
      "source": [
        "### Q123. Print anagrams together in Python using List and Dictionary\n"
      ],
      "metadata": {
        "id": "XNgFhLyNOdvf"
      }
    },
    {
      "cell_type": "code",
      "source": [
        "# Function to return all anagrams together\n",
        "def allAnagram(input):\n",
        "\tdict = {}\n",
        "\tfor strVal in input:\n",
        "\t\tkey = ''.join(sorted(strVal))\n",
        "\t\tif key in dict.keys():\n",
        "\t\t\tdict[key].append(strVal)\n",
        "\t\telse:\n",
        "\t\t\tdict[key] = []\n",
        "\t\t\tdict[key].append(strVal)\n",
        "\toutput = \"\"\n",
        "\tfor key,value in dict.items():\n",
        "\t\toutput = output + ' '.join(value) + ' '\n",
        "\n",
        "\treturn output\n",
        "\n",
        "# Driver function\n",
        "if __name__ == \"__main__\":\n",
        "\tinput=['cat', 'dog', 'tac', 'god', 'act']\n",
        "\tprint (allAnagram(input))"
      ],
      "metadata": {
        "colab": {
          "base_uri": "https://localhost:8080/"
        },
        "id": "7E0AXwdURJWF",
        "outputId": "b078908c-eafd-46f2-fdc4-1fa2c7bad763"
      },
      "execution_count": null,
      "outputs": [
        {
          "output_type": "stream",
          "name": "stdout",
          "text": [
            "cat tac act dog god \n"
          ]
        }
      ]
    },
    {
      "cell_type": "markdown",
      "source": [
        "### Q124. Check if binary representations of two numbers are an anagram."
      ],
      "metadata": {
        "id": "XCxbJz04TVdB"
      }
    },
    {
      "cell_type": "code",
      "source": [
        "from collections import Counter \n",
        "def checkanagram(num1, num2):\n",
        "  bin1 = bin(num1)[:2]\n",
        "  bin2 = bin(num2)[:2]\n",
        "  zeroes = abs(len(bin1)-len(bin2))\n",
        "  if (len(bin1)> len(bin2)):\n",
        "    bin2 = zeroes* '0' + bin2\n",
        "  else:\n",
        "    bin1 = zeroes* '0' + bin1\n",
        "  \n",
        "  dict1 = Counter(bin1)\n",
        "  dict2 = Counter(bin2)\n",
        "  if dict1 == dict2 :\n",
        "    print('Yes')\n",
        "  else:\n",
        "    print('No')\n",
        "\n",
        "if __name__ == '__main__':\n",
        "  num1 = 8\n",
        "  num2 = 4\n",
        "  checkanagram(num1,num2)\n",
        "# reference : https://www.geeksforgeeks.org/python-dictionary-check-binary-representations-two-numbers-anagram/"
      ],
      "metadata": {
        "colab": {
          "base_uri": "https://localhost:8080/"
        },
        "id": "WI9dzyMdRlJT",
        "outputId": "24b99380-0dce-45b1-93e6-86b36f8a182f"
      },
      "execution_count": null,
      "outputs": [
        {
          "output_type": "stream",
          "name": "stdout",
          "text": [
            "Yes\n"
          ]
        }
      ]
    },
    {
      "cell_type": "markdown",
      "source": [
        "### Q125. Python Counter to find the size of the largest subset of anagram words."
      ],
      "metadata": {
        "id": "2oct8leFBjxk"
      }
    },
    {
      "cell_type": "code",
      "source": [
        "from collections import Counter\n",
        "def maxanagramsize(input):\n",
        "  input = input.split(' ')\n",
        "  for i in range(0, len(input)):\n",
        "    input[i] = ''.join(sorted(input[i]))\n",
        "  freqdict = Counter(input)\n",
        "  print(max(freqdict.values()))\n",
        "\n",
        "if __name__ == '__main__':\n",
        "  input = 'ant magenta magnate tan gnamate'\n",
        "  maxanagramsize(input)\n",
        "\n",
        "# reference: https://www.geeksforgeeks.org/python-counter-find-size-largest-subset-anagram-words/"
      ],
      "metadata": {
        "colab": {
          "base_uri": "https://localhost:8080/"
        },
        "id": "s_gHUFuRBfMt",
        "outputId": "58ef0cdb-e196-4e46-975f-b6f749411524"
      },
      "execution_count": null,
      "outputs": [
        {
          "output_type": "stream",
          "name": "stdout",
          "text": [
            "3\n"
          ]
        }
      ]
    },
    {
      "cell_type": "markdown",
      "source": [
        "### Q126. Python Dictionary to find mirror characters in a string"
      ],
      "metadata": {
        "id": "CyXzFDbsDVxW"
      }
    },
    {
      "cell_type": "code",
      "source": [
        "def mirrochar(input, k):\n",
        "  original = 'abcdefghijklmnopqrstuvwxyz'\n",
        "  reverse = 'zyxwvutsrqponmlkjihgfedcba'\n",
        "  dictchar = dict(zip(original,reverse))\n",
        "  prefix = input[0:k-1]\n",
        "  suffix = input[k-1:]\n",
        "  mirror = ''\n",
        "  for i in range(0, len(suffix)):\n",
        "    mirror = mirror + dictchar[suffix[i]]\n",
        "  print(prefix+mirror)\n",
        "\n",
        "if __name__ == '__main__':\n",
        "  input = 'paradox'\n",
        "  k = 3\n",
        "  mirrochar(input,k)\n",
        "\n",
        "# reference: https://www.geeksforgeeks.org/python-dictionary-find-mirror-characters-string/"
      ],
      "metadata": {
        "colab": {
          "base_uri": "https://localhost:8080/"
        },
        "id": "4XE9skIjDOoN",
        "outputId": "e1dc1fa0-80c3-4752-be19-c53d2e9e9a2c"
      },
      "execution_count": null,
      "outputs": [
        {
          "output_type": "stream",
          "name": "stdout",
          "text": [
            "paizwlc\n"
          ]
        }
      ]
    },
    {
      "cell_type": "markdown",
      "source": [
        "### Q127. Counting the frequencies in a list using a dictionary in Python."
      ],
      "metadata": {
        "id": "OidM-Xu6FNwC"
      }
    },
    {
      "cell_type": "code",
      "source": [
        "def countfrequency(mylist):\n",
        "  freq = {}\n",
        "  for item in mylist:\n",
        "    if (item in freq):\n",
        "      freq[item] += 1\n",
        "    else:\n",
        "      freq[item] = 1\n",
        "  for key, value in freq.items():\n",
        "    print('%d : %d'%(key,value))\n",
        "\n",
        "if __name__ == '__main__':\n",
        "  mylist =[1, 1, 1, 5, 5, 3, 1, 3, 3, 1, 4, 4, 4, 2, 2, 2, 2]\n",
        "  countfrequency(mylist)\n",
        "\n",
        "#reference: https://www.geeksforgeeks.org/counting-the-frequencies-in-a-list-using-dictionary-in-python/"
      ],
      "metadata": {
        "colab": {
          "base_uri": "https://localhost:8080/"
        },
        "id": "leAPkDwqE_nb",
        "outputId": "ed04e49f-f160-46f5-cbe5-b3c460f3a2f3"
      },
      "execution_count": null,
      "outputs": [
        {
          "output_type": "stream",
          "name": "stdout",
          "text": [
            "1 : 5\n",
            "5 : 2\n",
            "3 : 3\n",
            "4 : 3\n",
            "2 : 4\n"
          ]
        }
      ]
    },
    {
      "cell_type": "markdown",
      "source": [
        "### Q128. Python program to convert a list of Tuples into Dictionary."
      ],
      "metadata": {
        "id": "KTh_1GMKHTJQ"
      }
    },
    {
      "cell_type": "code",
      "source": [
        "def convert(tup,di):\n",
        "  for a,b in tup:\n",
        "    di.setdefault(a, []).append(b)\n",
        "  return di\n",
        "\n",
        "tups = [(\"akash\", 10), (\"gaurav\", 12), (\"anand\", 14), \n",
        "     (\"suraj\", 20), (\"akhil\", 25), (\"ashish\", 30)]\n",
        "dictionary = {}\n",
        "print (convert(tups, dictionary))"
      ],
      "metadata": {
        "colab": {
          "base_uri": "https://localhost:8080/"
        },
        "id": "DNl7wAIcHky-",
        "outputId": "7ccf5458-e77e-4168-c95a-99d4fe2fb07f"
      },
      "execution_count": null,
      "outputs": [
        {
          "output_type": "stream",
          "name": "stdout",
          "text": [
            "{'akash': [10], 'gaurav': [12], 'anand': [14], 'suraj': [20], 'akhil': [25], 'ashish': [30]}\n"
          ]
        }
      ]
    },
    {
      "cell_type": "code",
      "source": [
        "# Python code to convert into dictionary\n",
        "list_1=[(\"Nakul\",93), (\"Shivansh\",45), (\"Samved\",65),\n",
        "\t\t(\"Yash\",88), (\"Vidit\",70), (\"Pradeep\",52)]\n",
        "dict_1=dict()\n",
        "\n",
        "for student,score in list_1:\n",
        "\tdict_1.setdefault(student, []).append(score)\n",
        "print(dict_1)"
      ],
      "metadata": {
        "colab": {
          "base_uri": "https://localhost:8080/"
        },
        "id": "HgIIgBEbIUm8",
        "outputId": "56a5b481-53ea-4a8d-f93b-ff286b17130c"
      },
      "execution_count": null,
      "outputs": [
        {
          "output_type": "stream",
          "name": "stdout",
          "text": [
            "{'Nakul': [93], 'Shivansh': [45], 'Samved': [65], 'Yash': [88], 'Vidit': [70], 'Pradeep': [52]}\n"
          ]
        }
      ]
    },
    {
      "cell_type": "code",
      "source": [
        "# Python code to convert into dictionary\n",
        "def Convert(tup, di):\n",
        "\tdi = dict(tup)\n",
        "\treturn di\n",
        "\t\n",
        "# Driver Code\n",
        "tups = [(\"akash\", 10), (\"gaurav\", 12), (\"anand\", 14),\n",
        "\t(\"suraj\", 20), (\"akhil\", 25), (\"ashish\", 30)]\n",
        "dictionary = {}\n",
        "print (Convert(tups, dictionary))"
      ],
      "metadata": {
        "colab": {
          "base_uri": "https://localhost:8080/"
        },
        "id": "tvB8iHiPIaHE",
        "outputId": "ce9e95a7-64f8-45a4-ab22-ace1475dca2e"
      },
      "execution_count": null,
      "outputs": [
        {
          "output_type": "stream",
          "name": "stdout",
          "text": [
            "{'akash': 10, 'gaurav': 12, 'anand': 14, 'suraj': 20, 'akhil': 25, 'ashish': 30}\n"
          ]
        }
      ]
    },
    {
      "cell_type": "code",
      "source": [
        "# Python code to convert into dictionary\n",
        "\n",
        "print (dict([('Sachin', 10), ('MSD', 7), ('Kohli', 18), ('Rohit', 45)]))\n",
        "# reference: https://www.geeksforgeeks.org/python-convert-list-tuples-dictionary/"
      ],
      "metadata": {
        "colab": {
          "base_uri": "https://localhost:8080/"
        },
        "id": "a8_nOJSwIZ_o",
        "outputId": "bac7e3b0-9f27-488f-b8d1-e372b3bd7a66"
      },
      "execution_count": null,
      "outputs": [
        {
          "output_type": "stream",
          "name": "stdout",
          "text": [
            "{'Sachin': 10, 'MSD': 7, 'Kohli': 18, 'Rohit': 45}\n"
          ]
        }
      ]
    },
    {
      "cell_type": "markdown",
      "source": [
        "### Q129. Scraping And Finding Ordered Words In A Dictionary using Python."
      ],
      "metadata": {
        "id": "XZ7K385TIn4S"
      }
    },
    {
      "cell_type": "code",
      "source": [
        "pip install requests"
      ],
      "metadata": {
        "colab": {
          "base_uri": "https://localhost:8080/"
        },
        "id": "Ze8KD4cuIw49",
        "outputId": "1ec26235-cb89-405d-a6c2-25f99c1932a7"
      },
      "execution_count": null,
      "outputs": [
        {
          "output_type": "stream",
          "name": "stdout",
          "text": [
            "Requirement already satisfied: requests in /usr/local/lib/python3.7/dist-packages (2.23.0)\n",
            "Requirement already satisfied: idna<3,>=2.5 in /usr/local/lib/python3.7/dist-packages (from requests) (2.10)\n",
            "Requirement already satisfied: certifi>=2017.4.17 in /usr/local/lib/python3.7/dist-packages (from requests) (2021.10.8)\n",
            "Requirement already satisfied: urllib3!=1.25.0,!=1.25.1,<1.26,>=1.21.1 in /usr/local/lib/python3.7/dist-packages (from requests) (1.24.3)\n",
            "Requirement already satisfied: chardet<4,>=3.0.2 in /usr/local/lib/python3.7/dist-packages (from requests) (3.0.4)\n"
          ]
        }
      ]
    },
    {
      "cell_type": "code",
      "source": [
        "import requests \n",
        "def getword():\n",
        "  url = \"http://www.puzzlers.org/pub/wordlists/unixdict.txt\"\n",
        "  fetchdata = requests.get(url)\n",
        "  wordlist = fetchdata.content\n",
        "  wordlist = wordlist.decode('utf-8').split()\n",
        "  return wordlist\n",
        "\n",
        "def isordered():\n",
        "  collection = getword()\n",
        "  collection = collection[16:]\n",
        "  word = ''\n",
        "\n",
        "  for word in collection:\n",
        "    result = 'Word is ordered'\n",
        "    i = 0\n",
        "    l = len(word) -1 \n",
        "    if (len(word) <3 ):\n",
        "      continue\n",
        "    while i <1:\n",
        "      if (ord(word[i]) > ord(word[i+1])):\n",
        "        result = 'Word is not ordered'\n",
        "        break\n",
        "      else:\n",
        "        i += 1\n",
        "    if (result == 'Word is ordered'):\n",
        "      print(word, ':', result)\n",
        "\n",
        "if __name__ == '__main__':\n",
        "  print(isordered())\n",
        "# reference: https://www.geeksforgeeks.org/scraping-and-finding-ordered-words-in-a-dictionary-using-python/"
      ],
      "metadata": {
        "colab": {
          "base_uri": "https://localhost:8080/"
        },
        "id": "n_5ftmmlK0I-",
        "outputId": "cecaabb9-7455-4eb0-ed04-62be0c8362da"
      },
      "execution_count": null,
      "outputs": [
        {
          "output_type": "stream",
          "name": "stdout",
          "text": [
            "None\n"
          ]
        }
      ]
    },
    {
      "cell_type": "code",
      "source": [
        "# Python program to find ordered words\n",
        "import requests\n",
        "\n",
        "# Scrapes the words from the URL below and stores\n",
        "# them in a list\n",
        "def getWords():\n",
        "\n",
        "\t# contains about 2500 words\n",
        "\turl = \"http://www.puzzlers.org/pub/wordlists/unixdict.txt\"\n",
        "\tfetchData = requests.get(url)\n",
        "\n",
        "\t# extracts the content of the webpage\n",
        "\twordList = fetchData.content\n",
        "\n",
        "\t# decodes the UTF-8 encoded text and splits the\n",
        "\t# string to turn it into a list of words\n",
        "\twordList = wordList.decode(\"utf-8\").split()\n",
        "\n",
        "\treturn wordList\n",
        "\n",
        "\n",
        "# function to determine whether a word is ordered or not\n",
        "def isOrdered():\n",
        "\n",
        "\t# fetching the wordList\n",
        "\tcollection = getWords()\n",
        "\n",
        "\t# since the first few of the elements of the\n",
        "\t# dictionary are numbers, getting rid of those\n",
        "\t# numbers by slicing off the first 17 elements\n",
        "\tcollection = collection[:100]\n",
        "\tword = ''\n",
        "\n",
        "\tfor word in collection:\n",
        "\t\tresult = 'Word is ordered'\n",
        "\t\ti = 0\n",
        "\t\tl = len(word) - 1\n",
        "\n",
        "\t\tif (len(word) < 3): # skips the 1 and 2 lettered strings\n",
        "\t\t\tcontinue\n",
        "\n",
        "\t\t# traverses through all characters of the word in pairs\n",
        "\t\twhile i < l:\t\t\n",
        "\t\t\tif (ord(word[i]) > ord(word[i+1])):\n",
        "\t\t\t\tresult = 'Word is not ordered'\n",
        "\t\t\t\tbreak\n",
        "\t\t\telse:\n",
        "\t\t\t\ti += 1\n",
        "\n",
        "\t\t# only printing the ordered words\n",
        "\t\tif (result == 'Word is ordered'):\n",
        "\t\t\tprint(word,': ',result)\n",
        "\n",
        "\n",
        "# execute isOrdered() function\n",
        "if __name__ == '__main__':\n",
        "\tisOrdered()"
      ],
      "metadata": {
        "id": "6rfVRuFIOJTN"
      },
      "execution_count": null,
      "outputs": []
    },
    {
      "cell_type": "markdown",
      "source": [
        "### Q130. Create a list of tuples from the given list having a number and its cube in each tuple."
      ],
      "metadata": {
        "id": "H0nNUcZ9P3j3"
      }
    },
    {
      "cell_type": "code",
      "source": [
        "list1 = [1, 2, 5, 6]\n",
        "res = [(val, pow(val, 3)) for val in list1]\n",
        "print(res)\n",
        "# reference: https://www.geeksforgeeks.org/python-program-to-create-a-list-of-tuples-from-given-list-having-number-and-its-cube-in-each-tuple/"
      ],
      "metadata": {
        "colab": {
          "base_uri": "https://localhost:8080/"
        },
        "id": "816U_sePPGEp",
        "outputId": "0cbfc9c6-e3a6-4720-ff7e-1ad13d374399"
      },
      "execution_count": null,
      "outputs": [
        {
          "output_type": "stream",
          "name": "stdout",
          "text": [
            "[(1, 1), (2, 8), (5, 125), (6, 216)]\n"
          ]
        }
      ]
    },
    {
      "cell_type": "code",
      "source": [
        "# Creating a list\n",
        "myList = [6, 2, 5 ,1, 4]\n",
        "\n",
        "# Creating list of tuples \n",
        "tupleList = [] \n",
        "for val in myList:\n",
        "    myTuple = (val, (val*val*val))\n",
        "    tupleList.append(myTuple)\n",
        "\n",
        "# print the result\n",
        "print(\"The list of Tuples is \" , str(tupleList))"
      ],
      "metadata": {
        "colab": {
          "base_uri": "https://localhost:8080/"
        },
        "id": "pCcsOmeUNFSx",
        "outputId": "9b0f8f9d-4a6e-40c2-e351-23288f6febdb"
      },
      "execution_count": null,
      "outputs": [
        {
          "output_type": "stream",
          "name": "stdout",
          "text": [
            "The list of Tuples is  [(6, 216), (2, 8), (5, 125), (1, 1), (4, 64)]\n"
          ]
        }
      ]
    },
    {
      "cell_type": "code",
      "source": [
        "# Creating a list\n",
        "myList = [6, 2, 5 ,1, 4]\n",
        "\n",
        "# Creating list of tuples \n",
        "tupleList = [(val, (val*val*val)) for val in myList]\n",
        "\n",
        "# print the result\n",
        "print(\"The list of Tuples is \" , str(tupleList))\n",
        "# Reference: https://www.includehelp.com/python/create-a-list-of-tuples-from-given-list-having-number-and-its-cube-in-each-tuple.aspx"
      ],
      "metadata": {
        "colab": {
          "base_uri": "https://localhost:8080/"
        },
        "id": "1lWGOZrpNjF0",
        "outputId": "6ffb100a-f69d-4cf8-ce76-6895f8c18045"
      },
      "execution_count": null,
      "outputs": [
        {
          "output_type": "stream",
          "name": "stdout",
          "text": [
            "The list of Tuples is  [(6, 216), (2, 8), (5, 125), (1, 1), (4, 64)]\n"
          ]
        }
      ]
    },
    {
      "cell_type": "markdown",
      "source": [
        "### Q131. Sort a list of tuples by the second Item"
      ],
      "metadata": {
        "id": "5I85rScqN8as"
      }
    },
    {
      "cell_type": "code",
      "source": [
        "def sorttuple(tup):\n",
        "  lst = len(tup)\n",
        "  for i in range(0, lst):\n",
        "    for j in range(0, lst-i-1):\n",
        "      if (tup[j][1] > tup[j+1][1]):\n",
        "        temp = tup[j]\n",
        "        tup[j] = tup[j+1]\n",
        "        tup[j+1] = temp\n",
        "  return tup\n",
        "\n",
        "tup =[('for', 24), ('is', 10), ('Geeks', 28), \n",
        "      ('Geeksforgeeks', 5), ('portal', 20), ('a', 15)] \n",
        "        \n",
        "print(sorttuple(tup))"
      ],
      "metadata": {
        "colab": {
          "base_uri": "https://localhost:8080/"
        },
        "id": "xuuISucqNvYp",
        "outputId": "bc867cc8-6e35-4732-d7a8-3eaa247e6acc"
      },
      "execution_count": null,
      "outputs": [
        {
          "output_type": "stream",
          "name": "stdout",
          "text": [
            "[('Geeksforgeeks', 5), ('is', 10), ('a', 15), ('portal', 20), ('for', 24), ('Geeks', 28)]\n"
          ]
        }
      ]
    },
    {
      "cell_type": "code",
      "source": [
        "def sorttuple(tup):\n",
        "  tup.sort(key = lambda x:x[1])\n",
        "  return tup\n",
        "# Driver Code \n",
        "tup = [('rishav', 10), ('akash', 5), ('ram', 20), ('gaurav', 15)] \n",
        "  \n",
        "# printing the sorted list of tuples\n",
        "print(sorttuple(tup))"
      ],
      "metadata": {
        "colab": {
          "base_uri": "https://localhost:8080/"
        },
        "id": "3I1MP-JlQCT3",
        "outputId": "f3e97a40-7de8-4fab-f484-3dc2e5d65139"
      },
      "execution_count": null,
      "outputs": [
        {
          "output_type": "stream",
          "name": "stdout",
          "text": [
            "[('akash', 5), ('rishav', 10), ('gaurav', 15), ('ram', 20)]\n"
          ]
        }
      ]
    },
    {
      "cell_type": "code",
      "source": [
        "# Python program to sort a list of\n",
        "# tuples by the second Item using sorted()\n",
        "\n",
        "# Function to sort the list by second item of tuple\n",
        "def Sort_Tuple(tup):\n",
        "\n",
        "\t# reverse = None (Sorts in Ascending order)\n",
        "\t# key is set to sort using second element of\n",
        "\t# sublist lambda has been used\n",
        "\treturn(sorted(tup, key = lambda x: x[1]))\n",
        "\n",
        "# Driver Code\n",
        "tup = [('rishav', 10), ('akash', 5), ('ram', 20), ('gaurav', 15)]\n",
        "\n",
        "# printing the sorted list of tuples\n",
        "print(Sort_Tuple(tup))\n",
        "# reference: https://www.geeksforgeeks.org/python-program-to-sort-a-list-of-tuples-by-second-item/"
      ],
      "metadata": {
        "colab": {
          "base_uri": "https://localhost:8080/"
        },
        "id": "YGrXArFhQlV3",
        "outputId": "dba7c638-f04d-4330-fa15-9342cda28379"
      },
      "execution_count": null,
      "outputs": [
        {
          "output_type": "stream",
          "name": "stdout",
          "text": [
            "[('akash', 5), ('rishav', 10), ('gaurav', 15), ('ram', 20)]\n"
          ]
        }
      ]
    },
    {
      "cell_type": "markdown",
      "source": [
        "### Q132. Python Program for Insertion Sort."
      ],
      "metadata": {
        "id": "aGJczivhRr0J"
      }
    },
    {
      "cell_type": "code",
      "source": [
        "def insertionsort(arr):\n",
        "  for i in range(1, len(arr)):\n",
        "    key = arr[i]\n",
        "    j = i-1\n",
        "    while j>=0 and key< arr[j]:\n",
        "      arr[j+1] = arr[j]\n",
        "      j -= 1\n",
        "    arr[j+1] = key\n",
        "\n",
        "arr = [12, 11, 13, 5, 6]\n",
        "insertionsort(arr)\n",
        "print('Sorted array is: ')\n",
        "for i in range(len(arr)):\n",
        "  print('%d' %arr[i])\n",
        "\n",
        "#reference : https://www.geeksforgeeks.org/python-program-for-insertion-sort/"
      ],
      "metadata": {
        "colab": {
          "base_uri": "https://localhost:8080/"
        },
        "id": "RO9-J_H6R1Jo",
        "outputId": "06b93f19-c210-4982-bc33-431620f34ee7"
      },
      "execution_count": null,
      "outputs": [
        {
          "output_type": "stream",
          "name": "stdout",
          "text": [
            "Sorted array is: \n",
            "5\n",
            "6\n",
            "11\n",
            "12\n",
            "13\n"
          ]
        }
      ]
    },
    {
      "cell_type": "markdown",
      "source": [
        "### Q133. Python Program for SelectionSort."
      ],
      "metadata": {
        "id": "PzwM6Lt4TxjQ"
      }
    },
    {
      "cell_type": "code",
      "source": [
        "import sys \n",
        "A = [64, 25, 12, 22, 11]\n",
        "for i in range(len(A)):\n",
        "  min_idx = i\n",
        "  for j in range(i+1, len(A)):\n",
        "    if A[min_idx] > A[j]:\n",
        "      min_idx = j\n",
        "  A[i], A[min_idx] = A[min_idx], A[i]\n",
        "\n",
        "print('Sorted array')\n",
        "for i in range(len(A)):\n",
        "  print('%d' %A[i])"
      ],
      "metadata": {
        "colab": {
          "base_uri": "https://localhost:8080/"
        },
        "id": "wLu9FX45TekL",
        "outputId": "b72b2d47-f5c4-4ba8-9dad-4692a4381055"
      },
      "execution_count": null,
      "outputs": [
        {
          "output_type": "stream",
          "name": "stdout",
          "text": [
            "Sorted array\n",
            "11\n",
            "12\n",
            "22\n",
            "25\n",
            "64\n"
          ]
        }
      ]
    },
    {
      "cell_type": "markdown",
      "source": [
        "### Q134. Python Program for Bubble Sort."
      ],
      "metadata": {
        "id": "MG1XN4yPeIkZ"
      }
    },
    {
      "cell_type": "code",
      "source": [
        "def bubblesort(arr):\n",
        "  n = len(arr)\n",
        "  for i in range(n-1):\n",
        "    for j in range(0, n-i-1):\n",
        "      if arr[j] > arr[j+1]:\n",
        "        arr[j] , arr[j+1] = arr[j+1], arr[j]\n",
        "\n",
        "arr = [64, 34, 25, 12, 22, 11, 90]\n",
        "bubblesort(arr)\n",
        "print('Sorted arrey is: ')\n",
        "for i in range(len(arr)):\n",
        "  print('%d' %arr[i], end =' ')"
      ],
      "metadata": {
        "colab": {
          "base_uri": "https://localhost:8080/"
        },
        "id": "HDBQgpU2Vhxo",
        "outputId": "abfb23a1-2cd6-44b9-8318-446be433624e"
      },
      "execution_count": null,
      "outputs": [
        {
          "output_type": "stream",
          "name": "stdout",
          "text": [
            "Sorted arrey is: \n",
            "11 12 22 25 34 64 90 "
          ]
        }
      ]
    },
    {
      "cell_type": "code",
      "source": [
        "def bubblesort(elements):\n",
        "# Looping from size of array from last index[-1] to index [0]\n",
        " for n in range(len(elements)-1, 0, -1):\n",
        "\t for i in range(n):\n",
        "\t  if elements[i] > elements[i + 1]:\n",
        "\t\t# swapping data if the element is less than next element in the array\n",
        "\t\t  elements[i], elements[i + 1] = elements[i + 1], elements[i]\n",
        "elements = [39,12,18,85,72,10,2,18]\n",
        "\n",
        "print(\"Unsorted list is,\")\n",
        "print( elements)\n",
        "bubblesort(elements)\n",
        "print(\"Sorted Array is, \")\n",
        "print(elements)\n",
        "# reference: https://www.geeksforgeeks.org/python-program-for-bubble-sort/"
      ],
      "metadata": {
        "colab": {
          "base_uri": "https://localhost:8080/"
        },
        "id": "StxcC2fih6hH",
        "outputId": "1887464a-280a-4ec7-8f9e-11abd12e990c"
      },
      "execution_count": null,
      "outputs": [
        {
          "output_type": "stream",
          "name": "stdout",
          "text": [
            "Unsorted list is,\n",
            "[39, 12, 18, 85, 72, 10, 2, 18]\n",
            "Sorted Array is, \n",
            "[2, 10, 12, 18, 18, 39, 72, 85]\n"
          ]
        }
      ]
    },
    {
      "cell_type": "markdown",
      "source": [
        "### Q135. Python Program for Merge Sort."
      ],
      "metadata": {
        "id": "O9TMWqStivvT"
      }
    },
    {
      "cell_type": "code",
      "source": [
        "def merge(arr, l, m, r):\n",
        "\tn1 = m - l + 1\n",
        "\tn2 = r - m\n",
        "\tL = [0] * (n1)\n",
        "\tR = [0] * (n2)\n",
        "\tfor i in range(0, n1):\n",
        "\t\tL[i] = arr[l + i]\n",
        "\tfor j in range(0, n2):\n",
        "\t\tR[j] = arr[m + 1 + j]\n",
        "\ti = 0\t # Initial index of first subarray\n",
        "\tj = 0\t # Initial index of second subarray\n",
        "\tk = l\t # Initial index of merged subarray\n",
        "\twhile i < n1 and j < n2:\n",
        "\t\tif L[i] <= R[j]:\n",
        "\t\t\tarr[k] = L[i]\n",
        "\t\t\ti += 1\n",
        "\t\telse:\n",
        "\t\t\tarr[k] = R[j]\n",
        "\t\t\tj += 1\n",
        "\t\tk += 1\n",
        "\twhile i < n1:\n",
        "\t\tarr[k] = L[i]\n",
        "\t\ti += 1\n",
        "\t\tk += 1\n",
        "\twhile j < n2:\n",
        "\t\tarr[k] = R[j]\n",
        "\t\tj += 1\n",
        "\t\tk += 1\n",
        "def mergeSort(arr, l, r):\n",
        "\tif l < r:\n",
        "\t\tm = l+(r-l)//2\n",
        "\t\tmergeSort(arr, l, m)\n",
        "\t\tmergeSort(arr, m+1, r)\n",
        "\t\tmerge(arr, l, m, r)\n",
        "arr = [12, 11, 13, 5, 6, 7]\n",
        "n = len(arr)\n",
        "print(\"Given array is\")\n",
        "for i in range(n):\n",
        "\tprint(\"%d\" % arr[i],end=\" \")\n",
        "\n",
        "mergeSort(arr, 0, n-1)\n",
        "print(\"\\n\\nSorted array is\")\n",
        "for i in range(n):\n",
        "\tprint(\"%d\" % arr[i],end=\" \")\n",
        "\n",
        "# This code is contributed by Mohit Kumra\n",
        "# reference : https://www.geeksforgeeks.org/python-program-for-merge-sort/"
      ],
      "metadata": {
        "colab": {
          "base_uri": "https://localhost:8080/"
        },
        "id": "9UvrAJUVsGCR",
        "outputId": "ca257ec8-cca9-485b-d70a-c21c0c5baf10"
      },
      "execution_count": null,
      "outputs": [
        {
          "output_type": "stream",
          "name": "stdout",
          "text": [
            "Given array is\n",
            "12 11 13 5 6 7 \n",
            "\n",
            "Sorted array is\n",
            "5 6 7 11 12 13 "
          ]
        }
      ]
    },
    {
      "cell_type": "markdown",
      "source": [
        "### Q136. Python Program for QuickSortSort."
      ],
      "metadata": {
        "id": "agX9MsGTuISm"
      }
    },
    {
      "cell_type": "code",
      "source": [
        "def partition(arr,low,high):\n",
        "  i = (low-1)\n",
        "  pivot = arr[high]\n",
        "  for j in range(low,high):\n",
        "    if arr[j] <= pivot:\n",
        "      i = i+1\n",
        "      arr[i], arr[j] = arr[j], arr[i]\n",
        "  arr[i+1], arr[high] = arr[high], arr[i+1]\n",
        "  return (i+1)\n",
        "\n",
        "def quicksort(arr,low,high):\n",
        "  if len(arr) == 1:\n",
        "    return arr\n",
        "  if low < high:\n",
        "    pi = partition(arr, low, high)\n",
        "    quicksort(arr,low,pi-1)\n",
        "    quicksort(arr,pi+1,high)\n",
        "\n",
        "arr = [10, 7, 8, 9, 1, 5]\n",
        "n = len(arr)\n",
        "quicksort(arr, 0, n-1)\n",
        "print('Sorted array is:')\n",
        "for i in range(n):\n",
        "  print('%d' %arr[i])"
      ],
      "metadata": {
        "colab": {
          "base_uri": "https://localhost:8080/"
        },
        "id": "4G0w5W_fsHE6",
        "outputId": "83d95327-45cd-4937-cae2-27dbba7835d6"
      },
      "execution_count": null,
      "outputs": [
        {
          "output_type": "stream",
          "name": "stdout",
          "text": [
            "Sorted array is:\n",
            "1\n",
            "5\n",
            "7\n",
            "8\n",
            "9\n",
            "10\n"
          ]
        }
      ]
    },
    {
      "cell_type": "markdown",
      "source": [
        "## 6) Pattern program using Python (Null 5) "
      ],
      "metadata": {
        "id": "1ZdMugh7yMq4"
      }
    },
    {
      "cell_type": "markdown",
      "source": [
        "### Q137 - Q1"
      ],
      "metadata": {
        "id": "Xd1-mcT8ykka"
      }
    },
    {
      "cell_type": "code",
      "source": [
        "def pypart(n):\n",
        "  for i in range(0,n):\n",
        "    for j in range(0, i+1):\n",
        "      print('* ',end = '')\n",
        "    print('\\r')\n",
        "\n",
        "n = 5\n",
        "pypart(n)"
      ],
      "metadata": {
        "id": "lebHOsViwGeZ",
        "colab": {
          "base_uri": "https://localhost:8080/"
        },
        "outputId": "11b7af59-4b47-426f-dab0-dd6e609b4870"
      },
      "execution_count": null,
      "outputs": [
        {
          "output_type": "stream",
          "name": "stdout",
          "text": [
            "* \r\n",
            "* * \r\n",
            "* * * \r\n",
            "* * * * \r\n",
            "* * * * * \r\n"
          ]
        }
      ]
    },
    {
      "cell_type": "code",
      "source": [
        "# Python 3.x code to demonstrate star pattern\n",
        "\n",
        "# Function to demonstrate printing pattern\n",
        "def pypart(n):\n",
        "\tmyList = []\n",
        "\tfor i in range(1,n+1):\n",
        "\t\tmyList.append(\"* \"*i)\n",
        "\tprint(\"\\n\".join(myList))\n",
        "\n",
        "# Driver Code\n",
        "n = 5\n",
        "pypart(n)\n",
        "# reference: https://www.geeksforgeeks.org/programs-printing-pyramid-patterns-python/"
      ],
      "metadata": {
        "colab": {
          "base_uri": "https://localhost:8080/"
        },
        "id": "jGtuxJlJzRDm",
        "outputId": "11103f94-0de3-48c2-c7fa-9cc22a8bd98e"
      },
      "execution_count": null,
      "outputs": [
        {
          "output_type": "stream",
          "name": "stdout",
          "text": [
            "* \n",
            "* * \n",
            "* * * \n",
            "* * * * \n",
            "* * * * * \n"
          ]
        }
      ]
    },
    {
      "cell_type": "markdown",
      "source": [
        "### Q138 - Q2"
      ],
      "metadata": {
        "id": "c4bMcQeE1veT"
      }
    },
    {
      "cell_type": "code",
      "source": [
        "def pypart2(n):\n",
        "  k = 2*n -2\n",
        "  for i in range(0,n):\n",
        "    for j in range(0,k):\n",
        "      print(end = ' ')\n",
        "    k = k-2\n",
        "    for j in range(0,i+1):\n",
        "      print('* ', end = '')\n",
        "    print('\\r')\n",
        "\n",
        "n = 5\n",
        "pypart2(n)"
      ],
      "metadata": {
        "colab": {
          "base_uri": "https://localhost:8080/"
        },
        "id": "jBp81Yt-zveQ",
        "outputId": "d1050997-112b-4a0c-cd74-d3bb6eafc7ef"
      },
      "execution_count": null,
      "outputs": [
        {
          "output_type": "stream",
          "name": "stdout",
          "text": [
            "        * \r\n",
            "      * * \r\n",
            "    * * * \r\n",
            "  * * * * \r\n",
            "* * * * * \r\n"
          ]
        }
      ]
    },
    {
      "cell_type": "markdown",
      "source": [
        "### Q139 - Q3"
      ],
      "metadata": {
        "id": "goRhGnH313NC"
      }
    },
    {
      "cell_type": "code",
      "source": [
        "def tringle(n):\n",
        "  k = n-1\n",
        "  for i in range(0,n):\n",
        "    for j in range(0,k):\n",
        "      print(end = ' ')\n",
        "    k = k-1\n",
        "    for j in range(0,i+1):\n",
        "      print('* ',end = '')\n",
        "    print('\\r')\n",
        "\n",
        "n = 5\n",
        "tringle(n)"
      ],
      "metadata": {
        "colab": {
          "base_uri": "https://localhost:8080/"
        },
        "id": "ifFkZ1190tGZ",
        "outputId": "7d6f7e2c-5fb7-4042-b6a2-240d991e440f"
      },
      "execution_count": null,
      "outputs": [
        {
          "output_type": "stream",
          "name": "stdout",
          "text": [
            "    * \r\n",
            "   * * \r\n",
            "  * * * \r\n",
            " * * * * \r\n",
            "* * * * * \r\n"
          ]
        }
      ]
    },
    {
      "cell_type": "markdown",
      "source": [
        "### Q140 - Q4"
      ],
      "metadata": {
        "id": "rlVYhHrD177q"
      }
    },
    {
      "cell_type": "code",
      "source": [
        "def nunpat(n):\n",
        "  num = 1\n",
        "  for i in range(0,n):\n",
        "    num = 1\n",
        "    for j in range(0, i+1):\n",
        "      print(num, end = ' ')\n",
        "      num = num + 1\n",
        "    print('\\r')\n",
        "\n",
        "n = 5\n",
        "nunpat(n)"
      ],
      "metadata": {
        "colab": {
          "base_uri": "https://localhost:8080/"
        },
        "id": "Eu7Teuqd1p-J",
        "outputId": "bdad02cf-eb3d-4fe5-fb49-b775844bcc16"
      },
      "execution_count": null,
      "outputs": [
        {
          "output_type": "stream",
          "name": "stdout",
          "text": [
            "1 \r\n",
            "1 2 \r\n",
            "1 2 3 \r\n",
            "1 2 3 4 \r\n",
            "1 2 3 4 5 \r\n"
          ]
        }
      ]
    },
    {
      "cell_type": "markdown",
      "source": [
        "### Q141 - Q5"
      ],
      "metadata": {
        "id": "xLCYO5Bq27B7"
      }
    },
    {
      "cell_type": "code",
      "source": [
        "def countnum(n):\n",
        "  num = 1\n",
        "  for i in range(0,n):\n",
        "    for j in range(0, i+1):\n",
        "      print(num, end = ' ')\n",
        "      num = num+1\n",
        "    print('\\r')\n",
        "n = 5\n",
        "countnum(5)"
      ],
      "metadata": {
        "colab": {
          "base_uri": "https://localhost:8080/"
        },
        "id": "BA-FexjT20Bi",
        "outputId": "e88eb28a-ab1c-48ec-f70e-f5620c2f23a0"
      },
      "execution_count": null,
      "outputs": [
        {
          "output_type": "stream",
          "name": "stdout",
          "text": [
            "1 \r\n",
            "2 3 \r\n",
            "4 5 6 \r\n",
            "7 8 9 10 \r\n",
            "11 12 13 14 15 \r\n"
          ]
        }
      ]
    },
    {
      "cell_type": "markdown",
      "source": [
        "### Q142 - Q6"
      ],
      "metadata": {
        "id": "QuuoZDx45CBD"
      }
    },
    {
      "cell_type": "code",
      "source": [
        "def alphabet(n):\n",
        "  num = 65\n",
        "  for i in range(0,n):\n",
        "    for j in range(0, i+1):\n",
        "      ch = chr(num)\n",
        "      print(ch, end = ' ')\n",
        "    num = num + 1\n",
        "    print('\\r')\n",
        "\n",
        "n = 5\n",
        "alphabet(n)"
      ],
      "metadata": {
        "colab": {
          "base_uri": "https://localhost:8080/"
        },
        "id": "ds5U3ooO42Uk",
        "outputId": "eda0f3a6-97dc-4e4f-ede3-99da4babc896"
      },
      "execution_count": null,
      "outputs": [
        {
          "output_type": "stream",
          "name": "stdout",
          "text": [
            "A \r\n",
            "B B \r\n",
            "C C C \r\n",
            "D D D D \r\n",
            "E E E E E \r\n"
          ]
        }
      ]
    },
    {
      "cell_type": "markdown",
      "source": [
        "### Q143 - Q7"
      ],
      "metadata": {
        "id": "CsoP2tPV59yY"
      }
    },
    {
      "cell_type": "code",
      "source": [
        "def contalpha(n):\n",
        "  num = 65\n",
        "  for i in range(0,n):\n",
        "    for j in range(0, i+1):\n",
        "      ch = chr(num)\n",
        "      print(ch, end = ' ')\n",
        "      num = num + 1\n",
        "    print('\\r')\n",
        "\n",
        "n = 5\n",
        "contalpha(n)\n",
        "# Reference: https://www.geeksforgeeks.org/programs-printing-pyramid-patterns-python/"
      ],
      "metadata": {
        "colab": {
          "base_uri": "https://localhost:8080/"
        },
        "id": "A5h7FbBp50V5",
        "outputId": "8c1fe4bb-ab4b-4119-e8ad-094e94c98ff8"
      },
      "execution_count": null,
      "outputs": [
        {
          "output_type": "stream",
          "name": "stdout",
          "text": [
            "A \r\n",
            "B C \r\n",
            "D E F \r\n",
            "G H I J \r\n",
            "K L M N O \r\n"
          ]
        }
      ]
    },
    {
      "cell_type": "markdown",
      "source": [
        "### Q144 - Q8"
      ],
      "metadata": {
        "id": "iJOyiCGj68_y"
      }
    },
    {
      "cell_type": "code",
      "source": [
        "print('The character pattern')\n",
        "asciivalue = int(input('Enter the asciivalue to print pattern '))\n",
        "if (asciivalue >= 65 or asciivalue <= 122):\n",
        "  for i in range(0,5):\n",
        "    for j in range(0, i+1):\n",
        "      alphabet = chr(asciivalue)\n",
        "      print(alphabet, end = ' ')\n",
        "    print()\n",
        "else:\n",
        "  print('Enter the valid character value')\n",
        "# Reference: https://www.javatpoint.com/how-to-print-pattern-in-python"
      ],
      "metadata": {
        "colab": {
          "base_uri": "https://localhost:8080/"
        },
        "id": "av66n7uS6t21",
        "outputId": "2eeadf9a-7de2-403b-c248-84a87f4a5b84"
      },
      "execution_count": null,
      "outputs": [
        {
          "output_type": "stream",
          "name": "stdout",
          "text": [
            "The character pattern\n",
            "Enter the asciivalue to print pattern 75\n",
            "K \n",
            "K K \n",
            "K K K \n",
            "K K K K \n",
            "K K K K K \n"
          ]
        }
      ]
    },
    {
      "cell_type": "markdown",
      "source": [
        "### Q145 - Q9"
      ],
      "metadata": {
        "id": "pmSewGY-8sgd"
      }
    },
    {
      "cell_type": "code",
      "source": [
        "n = 5\n",
        "for i in range(1, n+1):\n",
        "  A = 65\n",
        "  for j in range(1, i+1):\n",
        "    print('%c' %(A), end = ' ')\n",
        "    A += 1\n",
        "  print()"
      ],
      "metadata": {
        "colab": {
          "base_uri": "https://localhost:8080/"
        },
        "id": "v7cCKCZk9NGI",
        "outputId": "4fb7e926-2dcf-4f02-b6b5-f5338479e002"
      },
      "execution_count": null,
      "outputs": [
        {
          "output_type": "stream",
          "name": "stdout",
          "text": [
            "A \n",
            "A B \n",
            "A B C \n",
            "A B C D \n",
            "A B C D E \n"
          ]
        }
      ]
    },
    {
      "cell_type": "markdown",
      "source": [
        "### Q146 - Q10"
      ],
      "metadata": {
        "id": "r9Sh8K6ynUni"
      }
    },
    {
      "cell_type": "code",
      "source": [
        "str1 = 'Python'\n",
        "x = ''\n",
        "for i in str1:\n",
        "  x += i\n",
        "  print(x)\n"
      ],
      "metadata": {
        "colab": {
          "base_uri": "https://localhost:8080/"
        },
        "id": "e9FLHIwInYXe",
        "outputId": "bd2ec0c3-41e6-4416-a10b-901aaeb9f795"
      },
      "execution_count": null,
      "outputs": [
        {
          "output_type": "stream",
          "name": "stdout",
          "text": [
            "P\n",
            "Py\n",
            "Pyt\n",
            "Pyth\n",
            "Pytho\n",
            "Python\n"
          ]
        }
      ]
    },
    {
      "cell_type": "markdown",
      "source": [
        "### Q147 - Q11"
      ],
      "metadata": {
        "id": "Y8bqJx2OoNSY"
      }
    },
    {
      "cell_type": "code",
      "source": [
        "rows = int(input('Input number of rows: '))\n",
        "k = 0\n",
        "for i in range(rows, 0, -1):\n",
        "  k +=1 \n",
        "  for j in range(1, i+1):\n",
        "    print(k, end = ' ')\n",
        "  print()"
      ],
      "metadata": {
        "colab": {
          "base_uri": "https://localhost:8080/"
        },
        "id": "NQcbKLsjnu-Z",
        "outputId": "6ab540fb-a482-4c21-bf4d-52305f54984e"
      },
      "execution_count": null,
      "outputs": [
        {
          "output_type": "stream",
          "name": "stdout",
          "text": [
            "Input number of rows: 5\n",
            "1 1 1 1 1 \n",
            "2 2 2 2 \n",
            "3 3 3 \n",
            "4 4 \n",
            "5 \n"
          ]
        }
      ]
    },
    {
      "cell_type": "markdown",
      "source": [
        "### Q148 - Q12"
      ],
      "metadata": {
        "id": "Euf2hCjasc6K"
      }
    },
    {
      "cell_type": "code",
      "source": [
        "rows = int(input('Input number of rows: '))\n",
        "for i in range(rows, 0, -1):\n",
        "  n = i\n",
        "  for j in range(0,i):\n",
        "    print(n, end = ' ')\n",
        "  print()\n"
      ],
      "metadata": {
        "colab": {
          "base_uri": "https://localhost:8080/"
        },
        "id": "5a2mHp6DrE-p",
        "outputId": "501e4079-2c0e-4876-9833-d2caedf86c61"
      },
      "execution_count": null,
      "outputs": [
        {
          "output_type": "stream",
          "name": "stdout",
          "text": [
            "Input number of rows: 6\n",
            "6 6 6 6 6 6 \n",
            "5 5 5 5 5 \n",
            "4 4 4 4 \n",
            "3 3 3 \n",
            "2 2 \n",
            "1 \n"
          ]
        }
      ]
    },
    {
      "cell_type": "markdown",
      "source": [
        "### Q149 - Q13"
      ],
      "metadata": {
        "id": "5sGEIbsAsgWF"
      }
    },
    {
      "cell_type": "code",
      "source": [
        "rows = 5\n",
        "for i in range(rows, 0, -1):\n",
        "  for j in range(0,i+1):\n",
        "    print(j, end = ' ')\n",
        "  print('\\r')"
      ],
      "metadata": {
        "colab": {
          "base_uri": "https://localhost:8080/"
        },
        "id": "KZJetighr9ko",
        "outputId": "c493b842-366b-470f-a9f8-8f734d2d2fba"
      },
      "execution_count": null,
      "outputs": [
        {
          "output_type": "stream",
          "name": "stdout",
          "text": [
            "0 1 2 3 4 5 \r\n",
            "0 1 2 3 4 \r\n",
            "0 1 2 3 \r\n",
            "0 1 2 \r\n",
            "0 1 \r\n"
          ]
        }
      ]
    },
    {
      "cell_type": "markdown",
      "source": [
        "### Q150 - Q14"
      ],
      "metadata": {
        "id": "CDzd_MEGs_iN"
      }
    },
    {
      "cell_type": "code",
      "source": [
        "current_number = 1\n",
        "stop = 2\n",
        "rows = 3\n",
        "for i in range(rows):\n",
        "  for j in range(1,stop):\n",
        "    print(current_number, end = ' ')\n",
        "    current_number += 1\n",
        "  print()\n",
        "  stop += 2"
      ],
      "metadata": {
        "colab": {
          "base_uri": "https://localhost:8080/"
        },
        "id": "EVtmbR8Vsm_g",
        "outputId": "9f45951b-71e2-44df-98a4-c4581c5212ec"
      },
      "execution_count": null,
      "outputs": [
        {
          "output_type": "stream",
          "name": "stdout",
          "text": [
            "1 \n",
            "2 3 4 \n",
            "5 6 7 8 9 \n"
          ]
        }
      ]
    },
    {
      "cell_type": "markdown",
      "source": [
        "### Q151 - Q15"
      ],
      "metadata": {
        "id": "0RoohkENuSdA"
      }
    },
    {
      "cell_type": "code",
      "source": [
        "rows = int(input('Enter number of rows: '))\n",
        "for i in range(0, rows+1):\n",
        "  for j in range(rows-i, 0, -1):\n",
        "    print(j, end = ' ')\n",
        "  print()"
      ],
      "metadata": {
        "colab": {
          "base_uri": "https://localhost:8080/"
        },
        "id": "LFQ0TDa4uENJ",
        "outputId": "82415f3b-f29b-4168-e27e-35f96d6932c3"
      },
      "execution_count": null,
      "outputs": [
        {
          "output_type": "stream",
          "name": "stdout",
          "text": [
            "Enter number of rows: 6\n",
            "6 5 4 3 2 1 \n",
            "5 4 3 2 1 \n",
            "4 3 2 1 \n",
            "3 2 1 \n",
            "2 1 \n",
            "1 \n",
            "\n"
          ]
        }
      ]
    },
    {
      "cell_type": "markdown",
      "source": [
        "### Q152 - Q16"
      ],
      "metadata": {
        "id": "JENEwR8EvHfl"
      }
    },
    {
      "cell_type": "code",
      "source": [
        "rows = int(input('Enter number of rows: '))\n",
        "i = 1\n",
        "while i <= rows:\n",
        "  j = 1\n",
        "  while j <= i:\n",
        "    print((i*2-1), end = ' ')\n",
        "    j = j + 1\n",
        "  i = i + 1\n",
        "  print()"
      ],
      "metadata": {
        "colab": {
          "base_uri": "https://localhost:8080/"
        },
        "id": "nu3VOBYYvEqo",
        "outputId": "b95b7328-e1ad-48c2-c584-ed4a1024f233"
      },
      "execution_count": null,
      "outputs": [
        {
          "output_type": "stream",
          "name": "stdout",
          "text": [
            "Enter number of rows: 6\n",
            "1 \n",
            "3 3 \n",
            "5 5 5 \n",
            "7 7 7 7 \n",
            "9 9 9 9 9 \n",
            "11 11 11 11 11 11 \n"
          ]
        }
      ]
    },
    {
      "cell_type": "markdown",
      "source": [
        "### Q153 - Q17"
      ],
      "metadata": {
        "id": "6EOAjjCoC_Vg"
      }
    },
    {
      "cell_type": "code",
      "source": [
        "rows = 6\n",
        "for i in range(1, rows):\n",
        "  num = 1\n",
        "  for j in range(rows, 0, -1):\n",
        "    if j > i:\n",
        "      print(' ', end = ' ')\n",
        "    else:\n",
        "      print(num, end = ' ')\n",
        "      num += 1\n",
        "  print(' ')"
      ],
      "metadata": {
        "colab": {
          "base_uri": "https://localhost:8080/"
        },
        "id": "rDaGc2NG_z4h",
        "outputId": "32de9da8-ea4e-4acf-c247-7e3b7585cb9e"
      },
      "execution_count": null,
      "outputs": [
        {
          "output_type": "stream",
          "name": "stdout",
          "text": [
            "          1  \n",
            "        1 2  \n",
            "      1 2 3  \n",
            "    1 2 3 4  \n",
            "  1 2 3 4 5  \n"
          ]
        }
      ]
    },
    {
      "cell_type": "markdown",
      "source": [
        "### Q154 - Q18"
      ],
      "metadata": {
        "id": "o-ZVz2WQF5fx"
      }
    },
    {
      "cell_type": "code",
      "source": [
        "rows = int(input('Enter number of rows :'))\n",
        "for i in range(1, rows+1):\n",
        "  for j in range(1, rows+1):\n",
        "    if j <= i:\n",
        "      print(i, end= ' ')\n",
        "    else:\n",
        "      print(j, end= ' ')\n",
        "  print()"
      ],
      "metadata": {
        "colab": {
          "base_uri": "https://localhost:8080/"
        },
        "id": "lXHlCX4kC21y",
        "outputId": "816f8ecd-2ff8-48c5-a470-d2472959a0ff"
      },
      "execution_count": null,
      "outputs": [
        {
          "output_type": "stream",
          "name": "stdout",
          "text": [
            "Enter number of rows :5\n",
            "1 2 3 4 5 \n",
            "2 2 3 4 5 \n",
            "3 3 3 4 5 \n",
            "4 4 4 4 5 \n",
            "5 5 5 5 5 \n"
          ]
        }
      ]
    },
    {
      "cell_type": "markdown",
      "source": [
        "### Q155 - Q19"
      ],
      "metadata": {
        "id": "YNSIQqgrGVJh"
      }
    },
    {
      "cell_type": "code",
      "source": [
        "rows = int(input('Enter number of rows :'))\n",
        "for i in range(1, rows):\n",
        "  for j in range(1, 1+i):\n",
        "    print(i*j, end = ' ')\n",
        "  print()"
      ],
      "metadata": {
        "colab": {
          "base_uri": "https://localhost:8080/"
        },
        "id": "usB5TbtFEeJ4",
        "outputId": "43e72ad9-7988-4a6c-dfca-bf409c002714"
      },
      "execution_count": null,
      "outputs": [
        {
          "output_type": "stream",
          "name": "stdout",
          "text": [
            "Enter number of rows :8\n",
            "1 \n",
            "2 4 \n",
            "3 6 9 \n",
            "4 8 12 16 \n",
            "5 10 15 20 25 \n",
            "6 12 18 24 30 36 \n",
            "7 14 21 28 35 42 49 \n"
          ]
        }
      ]
    },
    {
      "cell_type": "markdown",
      "source": [
        "### Q156 - Q20"
      ],
      "metadata": {
        "id": "DnuwFfNmGZh-"
      }
    },
    {
      "cell_type": "code",
      "source": [
        "rows = 9\n",
        "for i in range(1, rows):\n",
        "  for j in range(-1+i, -1, -1):\n",
        "    print(format(2 ** j, '4d'), end= ' ')\n",
        "  print(' ')\n",
        "# reference: https://pynative.com/print-pattern-python-examples/"
      ],
      "metadata": {
        "colab": {
          "base_uri": "https://localhost:8080/"
        },
        "id": "wGjpYEMuJF86",
        "outputId": "61907e0d-1d65-48f2-9b4a-ed0e62169b10"
      },
      "execution_count": null,
      "outputs": [
        {
          "output_type": "stream",
          "name": "stdout",
          "text": [
            "   1  \n",
            "   2    1  \n",
            "   4    2    1  \n",
            "   8    4    2    1  \n",
            "  16    8    4    2    1  \n",
            "  32   16    8    4    2    1  \n",
            "  64   32   16    8    4    2    1  \n",
            " 128   64   32   16    8    4    2    1  \n"
          ]
        }
      ]
    },
    {
      "cell_type": "markdown",
      "source": [
        "### Q157 - Q21"
      ],
      "metadata": {
        "id": "DD8NhPu4JG0H"
      }
    },
    {
      "cell_type": "code",
      "source": [
        "rows = 14\n",
        "print('*' * rows, end='\\n')\n",
        "i = (rows // 2) -1\n",
        "j = 2\n",
        "while i !=0:\n",
        "  while j<= (rows - 2):\n",
        "    print('*'* i, end=' ')\n",
        "    print(' '* j, end = ' ')\n",
        "    print('*'* i, end = '\\n')\n",
        "    i = i -1\n",
        "    j = j +2"
      ],
      "metadata": {
        "colab": {
          "base_uri": "https://localhost:8080/"
        },
        "id": "u9rUoF5kkhEn",
        "outputId": "31570048-a17b-4eb9-f304-d423631be96b"
      },
      "execution_count": null,
      "outputs": [
        {
          "output_type": "stream",
          "name": "stdout",
          "text": [
            "**************\n",
            "******    ******\n",
            "*****      *****\n",
            "****        ****\n",
            "***          ***\n",
            "**            **\n",
            "*              *\n"
          ]
        }
      ]
    },
    {
      "cell_type": "markdown",
      "source": [
        "### Q158 - Q22"
      ],
      "metadata": {
        "id": "DLGBm_z9klRT"
      }
    },
    {
      "cell_type": "code",
      "source": [
        "rows = int(input('Enter the number of rows: '))\n",
        "for i in range(0, rows):\n",
        "  for j in range(0, i+1):\n",
        "    print('*', end = ' ')\n",
        "  print('')\n",
        "for i in range(rows+1, 0, -1):\n",
        "  for j in range(0, i-1):\n",
        "    print('*', end = ' ')\n",
        "  print('')"
      ],
      "metadata": {
        "colab": {
          "base_uri": "https://localhost:8080/"
        },
        "id": "88u9_tcMGdVS",
        "outputId": "a8729a27-8cef-41a3-dbd0-9e87bcac7187"
      },
      "execution_count": null,
      "outputs": [
        {
          "output_type": "stream",
          "name": "stdout",
          "text": [
            "Enter the number of rows: 7\n",
            "* \n",
            "* * \n",
            "* * * \n",
            "* * * * \n",
            "* * * * * \n",
            "* * * * * * \n",
            "* * * * * * * \n",
            "* * * * * * * \n",
            "* * * * * * \n",
            "* * * * * \n",
            "* * * * \n",
            "* * * \n",
            "* * \n",
            "* \n",
            "\n"
          ]
        }
      ]
    },
    {
      "cell_type": "markdown",
      "source": [
        "### Q159 - Q23"
      ],
      "metadata": {
        "id": "20wTxNVDkdX9"
      }
    },
    {
      "cell_type": "code",
      "source": [
        "rows = 6\n",
        "for i in range(0, rows):\n",
        "  for j in range(0, i+1):\n",
        "    print('*', end = ' ')\n",
        "  print(' ')\n",
        "print(' ')\n",
        "for i in range(rows+1,0, -1):\n",
        "  for j in range(0, i-1):\n",
        "    print('*', end = ' ')\n",
        "  print(' ')"
      ],
      "metadata": {
        "colab": {
          "base_uri": "https://localhost:8080/"
        },
        "id": "wY2snh4iI3Y3",
        "outputId": "1bad02b4-9228-41ea-d152-1caf6aca94d1"
      },
      "execution_count": null,
      "outputs": [
        {
          "output_type": "stream",
          "name": "stdout",
          "text": [
            "*  \n",
            "* *  \n",
            "* * *  \n",
            "* * * *  \n",
            "* * * * *  \n",
            "* * * * * *  \n",
            " \n",
            "* * * * * *  \n",
            "* * * * *  \n",
            "* * * *  \n",
            "* * *  \n",
            "* *  \n",
            "*  \n",
            " \n"
          ]
        }
      ]
    },
    {
      "cell_type": "markdown",
      "source": [
        "### Amstrong Number."
      ],
      "metadata": {
        "id": "vi-t97kzRw-2"
      }
    },
    {
      "cell_type": "code",
      "source": [
        "# Write Your Code Here\n",
        "def power(x,y):\n",
        "  if y == 0:\n",
        "    return 1\n",
        "  if y % 2 == 0:\n",
        "    return power(x, y // 2) * power(x,y // 2)\n",
        "  return x*power(x,y // 2) * power(x,y // 2)\n",
        "def order(x):\n",
        "  n = 0\n",
        "  while(x != 0):\n",
        "    n = n+1\n",
        "    x = x // 10\n",
        "  return n\n",
        "def isamstrong(x):\n",
        "  n = order(x)\n",
        "  temp = x\n",
        "  sum1 = 0\n",
        "  while(temp != 0):\n",
        "    r = temp % 10\n",
        "    sum1 = sum1 + power(r,n)\n",
        "    temp = temp // 10\n",
        "  return (sum1 == x)\n",
        "\n",
        "x = 153 \n",
        "print(isamstrong(x))\n",
        "x = 225\n",
        "print(isamstrong(x))\n",
        "# reference: https://www.geeksforgeeks.org/python-program-to-check-armstrong-number/"
      ],
      "metadata": {
        "id": "4lp81wB4W3_y",
        "colab": {
          "base_uri": "https://localhost:8080/"
        },
        "outputId": "5cd7d2c2-ba29-43ac-ae05-500f93ffdb55"
      },
      "execution_count": 1,
      "outputs": [
        {
          "output_type": "stream",
          "name": "stdout",
          "text": [
            "True\n",
            "False\n"
          ]
        }
      ]
    },
    {
      "cell_type": "markdown",
      "source": [
        "### Fibbonaski series"
      ],
      "metadata": {
        "id": "lYYWyOqNYC9V"
      }
    },
    {
      "cell_type": "code",
      "source": [
        "# Write Your Code Here\n",
        "def fibbonaski(n):\n",
        "  if n <= 1:\n",
        "    return n\n",
        "  else:\n",
        "    return(fibbonaski(n-1) + fibbonaski(n-2))\n",
        "\n",
        "nterms = int(input('How many terms ?'))\n",
        "if nterms <= 0:\n",
        "  print('Enter positive number')\n",
        "else:\n",
        "  print('Fibonacci Sequence')\n",
        "  for i in range(nterms):\n",
        "    print(fibbonaski(i))\n",
        "# reference: https://www.javatpoint.com/python-display-fibonacci-sequence-recursion"
      ],
      "metadata": {
        "id": "qrGur48NYCXx",
        "colab": {
          "base_uri": "https://localhost:8080/"
        },
        "outputId": "fdd6b863-e0dd-43dd-9cb8-3644e80ecba5"
      },
      "execution_count": 2,
      "outputs": [
        {
          "output_type": "stream",
          "name": "stdout",
          "text": [
            "How many terms ?5\n",
            "Fibonacci Sequence\n",
            "0\n",
            "1\n",
            "1\n",
            "2\n",
            "3\n"
          ]
        }
      ]
    },
    {
      "cell_type": "markdown",
      "source": [
        "### 1. Write a program in Python for, In a array 1-100 multiple numbers are duplicates, How do you find it?"
      ],
      "metadata": {
        "id": "6tHPGTyyZRlL"
      }
    },
    {
      "cell_type": "code",
      "source": [
        "arr, occur = [],[];\n",
        "n = int(input('Please enter size of the array '))\n",
        "for x in range(n):\n",
        "  occur.append(0)\n",
        "for x in range(n):\n",
        "  element = int(input(f'Please enter the element of array element between 0 to {n-1}:'))\n",
        "  arr.append(element)\n",
        "  occur[arr[x]] = occur[arr[x]] + 1\n",
        "for x in range(n):\n",
        "  if occur[x] > 1:\n",
        "    print(f'{x} is repeated {occur[x]} times')\n",
        "# reference: https://quescol.com/interview-preparation/find-duplicates-in-an-array-python"
      ],
      "metadata": {
        "id": "Di8gO-PwZQ3b",
        "colab": {
          "base_uri": "https://localhost:8080/"
        },
        "outputId": "255bcb2c-e169-41e3-84d4-e11cdfa2f629"
      },
      "execution_count": 3,
      "outputs": [
        {
          "output_type": "stream",
          "name": "stdout",
          "text": [
            "Please enter size of the array 5\n",
            "Please enter the element of array element between 0 to 4:2\n",
            "Please enter the element of array element between 0 to 4:3\n",
            "Please enter the element of array element between 0 to 4:1\n",
            "Please enter the element of array element between 0 to 4:2\n",
            "Please enter the element of array element between 0 to 4:2\n",
            "2 is repeated 3 times\n"
          ]
        }
      ]
    },
    {
      "cell_type": "markdown",
      "source": [
        "### 2. Write a program in Python to remove duplicate elements form array."
      ],
      "metadata": {
        "id": "Xq3iPtI7bd3M"
      }
    },
    {
      "cell_type": "code",
      "source": [
        "# Write Your Code Here\n",
        "import array\n",
        "arr,count = [],[]\n",
        "n = int(input('Enter size of array : '))\n",
        "for x in range(n):\n",
        "  count.append(0)\n",
        "  x = int(input('Enter element of array : '))\n",
        "  arr.append(x)\n",
        "print('Array elements after removing duplicates')\n",
        "for x in range(n):\n",
        "  count[arr[x]] = count[arr[x]] + 1\n",
        "  if count[arr[x]] == 1:\n",
        "    print(arr[x])\n",
        "#reference: https://quescol.com/interview-preparation/remove-duplicates-from-array-python"
      ],
      "metadata": {
        "id": "7ufBvfc3bcco",
        "colab": {
          "base_uri": "https://localhost:8080/"
        },
        "outputId": "79e308a5-503a-4539-a444-3791f0a0f881"
      },
      "execution_count": 4,
      "outputs": [
        {
          "output_type": "stream",
          "name": "stdout",
          "text": [
            "Enter size of array : 5\n",
            "Enter element of array : 4\n",
            "Enter element of array : 2\n",
            "Enter element of array : 2\n",
            "Enter element of array : 3\n",
            "Enter element of array : 2\n",
            "Array elements after removing duplicates\n",
            "4\n",
            "2\n",
            "3\n"
          ]
        }
      ]
    },
    {
      "cell_type": "markdown",
      "source": [
        "### 1. Given a string consisting of whitespace and groups of matched parentheses, write a Python program to split it into groups of perfectly matched parentheses without any whitespace."
      ],
      "metadata": {
        "id": "GGBvd1OSbW-o"
      }
    },
    {
      "cell_type": "code",
      "source": [
        "# Write Your Code here\n",
        "def test(combined):\n",
        "  ls = []\n",
        "  s2 = ''\n",
        "  for s in combined.replace(' ', ''):\n",
        "    s2 += s\n",
        "    if s2.count('(') == s2.count(')'):\n",
        "      ls.append(s2)\n",
        "      s2 = ''\n",
        "  return ls\n",
        "\n",
        "combined = '( ()) ((()()())) (()) ()'\n",
        "print('Paranthesis String')\n",
        "print(combined)\n",
        "print(\"Separate parentheses groups of the said string:\")\n",
        "print(test(combined))\n",
        "combined = '() (( ( )() (   )) ) ( ())'\n",
        "print(\"\\nParentheses string:\")\n",
        "print(combined)\n",
        "print(\"Separate parentheses groups of the said string:\")\n",
        "print(test(combined))\n",
        "# reference : https://www.w3resource.com/python-exercises/puzzles/python-programming-puzzles-94.php"
      ],
      "metadata": {
        "id": "yKN0n8VPbY5k",
        "colab": {
          "base_uri": "https://localhost:8080/"
        },
        "outputId": "a5660118-f949-4b0c-ba9b-ac1f71b8ba62"
      },
      "execution_count": 5,
      "outputs": [
        {
          "output_type": "stream",
          "name": "stdout",
          "text": [
            "Paranthesis String\n",
            "( ()) ((()()())) (()) ()\n",
            "Separate parentheses groups of the said string:\n",
            "['(())', '((()()()))', '(())', '()']\n",
            "\n",
            "Parentheses string:\n",
            "() (( ( )() (   )) ) ( ())\n",
            "Separate parentheses groups of the said string:\n",
            "['()', '((()()()))', '(())']\n"
          ]
        }
      ]
    },
    {
      "cell_type": "markdown",
      "source": [
        "### 2. Write a Python program to find the strings in a given list, starting with a given prefix."
      ],
      "metadata": {
        "id": "8mwfyJVpHkVo"
      }
    },
    {
      "cell_type": "code",
      "source": [
        "# Write Your Code here\n",
        "def test(strs, prefix):\n",
        "  return [s for s in strs if s.startswith(prefix)]\n",
        "\n",
        "strs = ['cat', 'car', 'fear', 'center']\n",
        "prefix = 'ca'\n",
        "print('Original Strings:')\n",
        "print(strs)\n",
        "print('Starting prefix:', prefix)\n",
        "print('Strings in the said list starting with a given prefix:')\n",
        "print(test(strs,prefix))\n",
        "strs =  ['cat', 'dog', 'shatter', 'donut', 'at', 'todo']\n",
        "prefix = \"do\"\n",
        "print('\\nOriginal Strings')\n",
        "print(strs)\n",
        "print('Starting prefix:', prefix)\n",
        "print('Strings in the said list starting with a given prefix:')\n",
        "print(test(strs,prefix))\n",
        "# references: https://www.w3resource.com/python-exercises/puzzles/python-programming-puzzles-13.php"
      ],
      "metadata": {
        "id": "94p3Uwe1HqPP",
        "colab": {
          "base_uri": "https://localhost:8080/"
        },
        "outputId": "51436195-8213-4465-d6bf-ddbd78ba925a"
      },
      "execution_count": 6,
      "outputs": [
        {
          "output_type": "stream",
          "name": "stdout",
          "text": [
            "Original Strings:\n",
            "['cat', 'car', 'fear', 'center']\n",
            "Starting prefix: ca\n",
            "Strings in the said list starting with a given prefix:\n",
            "['cat', 'car']\n",
            "\n",
            "Original Strings\n",
            "['cat', 'dog', 'shatter', 'donut', 'at', 'todo']\n",
            "Starting prefix: do\n",
            "Strings in the said list starting with a given prefix:\n",
            "['dog', 'donut']\n"
          ]
        }
      ]
    },
    {
      "cell_type": "markdown",
      "source": [
        "### Monotonic sequences are sequences, which constantly increase or constantly decrease. Write a Python program to determine the direction ('increasing' or 'decreasing') of monotonic sequence numbers."
      ],
      "metadata": {
        "id": "ccQezTtpj2X7"
      }
    },
    {
      "cell_type": "code",
      "source": [
        "def test(nums):\n",
        "  return 'Increasing' if all(nums[i] < nums[i+1] for i in range(len(nums)-1)) else \\\n",
        "         'Decreasing' if all(nums[i+1] < nums[i] for i in range(len(nums)-1)) else \\\n",
        "         'Not a Monotonic sequence'\n",
        "nums = [1,2,3,4,5,6]\n",
        "print('Original list:')\n",
        "print(nums)\n",
        "print(\"Check the direction ('increasing' or 'decreasing') of the said list:\")\n",
        "print(test(nums))\n",
        "nums = [6,5,4,3,2,1]\n",
        "print(\"\\nOriginal list:\")\n",
        "print(nums)\n",
        "print(\"Check the direction ('increasing' or 'decreasing') of the said list:\")\n",
        "print(test(nums))\n",
        "nums = [19,19,5,5,5,5,5]\n",
        "print(\"\\nOriginal list:\")\n",
        "print(nums)\n",
        "print(\"Check the direction ('increasing' or 'decreasing') of the said list:\")\n",
        "print(test(nums))\n",
        "# reference: https://www.w3resource.com/python-exercises/puzzles/python-programming-puzzles-20.php"
      ],
      "metadata": {
        "id": "UzHHCZJlhumf",
        "colab": {
          "base_uri": "https://localhost:8080/"
        },
        "outputId": "5d2c5a6d-d5c3-4ecc-a132-d85960d8cebe"
      },
      "execution_count": 7,
      "outputs": [
        {
          "output_type": "stream",
          "name": "stdout",
          "text": [
            "Original list:\n",
            "[1, 2, 3, 4, 5, 6]\n",
            "Check the direction ('increasing' or 'decreasing') of the said list:\n",
            "Increasing\n",
            "\n",
            "Original list:\n",
            "[6, 5, 4, 3, 2, 1]\n",
            "Check the direction ('increasing' or 'decreasing') of the said list:\n",
            "Decreasing\n",
            "\n",
            "Original list:\n",
            "[19, 19, 5, 5, 5, 5, 5]\n",
            "Check the direction ('increasing' or 'decreasing') of the said list:\n",
            "Not a Monotonic sequence\n"
          ]
        }
      ]
    },
    {
      "cell_type": "markdown",
      "source": [
        "### An irregular/uneven matrix, or ragged matrix, is a matrix that has a different number of elements in each row. Ragged matrices are not used in linear algebra, since standard matrix transformations cannot be performed on them, but they are useful as arrays in computing. Write a Python program to find the indices of all occurrences of target in the uneven matrix."
      ],
      "metadata": {
        "id": "yV99rFodkEaE"
      }
    },
    {
      "cell_type": "code",
      "source": [
        "# Write Your Code here.\n",
        "def test(M,T):\n",
        "  return [[i,j] for i, row in enumerate(M) for j, n in enumerate(row) if n == T]\n",
        "M = [[1, 3, 2, 32, 19], [19, 2, 48, 19], [], [9, 35, 4], [3, 19]]\n",
        "T = 19\n",
        "print('Matrix')\n",
        "print(M)\n",
        "print('Target value')\n",
        "print(T)\n",
        "print('Indices of all occurrences of the target value in the said uneven matrix:')\n",
        "print(test(M,T))\n",
        "M = [[1, 2, 3, 2], [], [7, 9, 2, 1, 4]]\n",
        "T = 2\n",
        "print(\"\\nMatrix:\")\n",
        "print(M)\n",
        "print(\"Target value:\")\n",
        "print(T)\n",
        "print(\"Indices of all occurrences of the target value in the said uneven matrix:\")\n",
        "print(test(M,T)) \n",
        "#reference: https://www.w3resource.com/python-exercises/puzzles/python-programming-puzzles-18.php"
      ],
      "metadata": {
        "id": "3B0aEBqikGv5",
        "colab": {
          "base_uri": "https://localhost:8080/"
        },
        "outputId": "8c52cc4a-3010-4a70-b584-52225751b925"
      },
      "execution_count": 8,
      "outputs": [
        {
          "output_type": "stream",
          "name": "stdout",
          "text": [
            "Matrix\n",
            "[[1, 3, 2, 32, 19], [19, 2, 48, 19], [], [9, 35, 4], [3, 19]]\n",
            "Target value\n",
            "19\n",
            "Indices of all occurrences of the target value in the said uneven matrix:\n",
            "[[0, 4], [1, 0], [1, 3], [4, 1]]\n",
            "\n",
            "Matrix:\n",
            "[[1, 2, 3, 2], [], [7, 9, 2, 1, 4]]\n",
            "Target value:\n",
            "2\n",
            "Indices of all occurrences of the target value in the said uneven matrix:\n",
            "[[0, 1], [0, 3], [2, 2]]\n"
          ]
        }
      ]
    },
    {
      "cell_type": "markdown",
      "source": [
        "### Write a Python program to create a list whose ith element is the maximum of the first i elements from a input list."
      ],
      "metadata": {
        "id": "kCp3UAwHnDzn"
      }
    },
    {
      "cell_type": "code",
      "source": [
        "def test(nums):\n",
        "  return[max(nums [:i]) for i in range (1,len(nums) + 1)]\n",
        "\n",
        "nums = [0, -1, 3, 8, 5, 9, 8, 14, 2, 4, 3, -10, 10, 17, 41, 22, -4, -4, -15, 0]\n",
        "print(\"Original list:\")\n",
        "print(nums)\n",
        "print(\"List whose ith element is the maximum of the first i elements of the said list:\")\n",
        "print(test(nums))\n",
        "nums = [6,5,4,3,2,1]\n",
        "print(\"\\nOriginal list:\")\n",
        "print(nums)\n",
        "print(\"List whose ith element is the maximum of the first i elements of the said list:\")\n",
        "print(test(nums))\n",
        "nums = [1,19,5,15,5,25,5]\n",
        "print(\"\\nOriginal list:\")\n",
        "print(nums)\n",
        "print(\"List whose ith element is the maximum of the first i elements of the said list:\")\n",
        "print(test(nums))\n",
        "# references: https://www.w3resource.com/python-exercises/puzzles/python-programming-puzzles-24.php"
      ],
      "metadata": {
        "id": "Ca1GyVipnAIT",
        "colab": {
          "base_uri": "https://localhost:8080/"
        },
        "outputId": "6bc9818e-f196-4999-dfc6-75b4b8f6f4c5"
      },
      "execution_count": 9,
      "outputs": [
        {
          "output_type": "stream",
          "name": "stdout",
          "text": [
            "Original list:\n",
            "[0, -1, 3, 8, 5, 9, 8, 14, 2, 4, 3, -10, 10, 17, 41, 22, -4, -4, -15, 0]\n",
            "List whose ith element is the maximum of the first i elements of the said list:\n",
            "[0, 0, 3, 8, 8, 9, 9, 14, 14, 14, 14, 14, 14, 17, 41, 41, 41, 41, 41, 41]\n",
            "\n",
            "Original list:\n",
            "[6, 5, 4, 3, 2, 1]\n",
            "List whose ith element is the maximum of the first i elements of the said list:\n",
            "[6, 6, 6, 6, 6, 6]\n",
            "\n",
            "Original list:\n",
            "[1, 19, 5, 15, 5, 25, 5]\n",
            "List whose ith element is the maximum of the first i elements of the said list:\n",
            "[1, 19, 19, 19, 19, 25, 25]\n"
          ]
        }
      ]
    },
    {
      "cell_type": "markdown",
      "source": [
        "### Write a Python program to find the coordinates of a triangle with the given side lengths."
      ],
      "metadata": {
        "id": "_Rgc8I4VnR6u"
      }
    },
    {
      "cell_type": "code",
      "source": [
        "# Write Your code here.\n",
        "def test(sides):\n",
        "  a,b,c = sorted(sides)\n",
        "  s = sum(sides) / 2 \n",
        "  # Area hy hermons rule\n",
        "  area = (s * (s-a) * (s-b) * (s-c)) ** 0.5 \n",
        "  y = 2 * area / a\n",
        "  x = (c ** 2 - y ** 2) ** 0.5\n",
        "  return ([0.0,0.0], [a,0.0], [x,y])\n",
        "\n",
        "sides = [3,4,5]\n",
        "print('sides of the Tringle: ', sides)\n",
        "print('Co ordinates of the Tringle with the side side lengths:')\n",
        "print(test(sides))\n",
        "sides = [5, 6, 7]\n",
        "print(\"\\nSides of the triangle:\",sides)\n",
        "print(\"Coordinates of a triangle with the said side lengths:\")\n",
        "print(test(sides))\n",
        "# reference: https://www.w3resource.com/python-exercises/puzzles/python-programming-puzzles-31.php"
      ],
      "metadata": {
        "id": "0vyEItKGnQVq",
        "colab": {
          "base_uri": "https://localhost:8080/"
        },
        "outputId": "fdbb85fe-8c99-42b4-9153-bef2819846ae"
      },
      "execution_count": 10,
      "outputs": [
        {
          "output_type": "stream",
          "name": "stdout",
          "text": [
            "sides of the Tringle:  [3, 4, 5]\n",
            "Co ordinates of the Tringle with the side side lengths:\n",
            "([0.0, 0.0], [3, 0.0], [3.0, 4.0])\n",
            "\n",
            "Sides of the triangle: [5, 6, 7]\n",
            "Coordinates of a triangle with the said side lengths:\n",
            "([0.0, 0.0], [5, 0.0], [3.8, 5.878775382679628])\n"
          ]
        }
      ]
    }
  ]
}